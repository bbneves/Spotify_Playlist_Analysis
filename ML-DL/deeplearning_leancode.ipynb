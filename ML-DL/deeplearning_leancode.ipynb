{
 "cells": [
  {
   "cell_type": "markdown",
   "id": "37885185",
   "metadata": {},
   "source": [
    "# Deep Learning\n",
    "\n",
    "## We'll be using sklearning and tensorflow.\n",
    "\n",
    "### Goals with DL:\n",
    " The strategy is to apply DL in order to predict a song's popularity. The threshold to make a song popular is a popularity score above 60. Then a 1 equals popular and a 0 not-popular.\n",
    "\n",
    "### Preprocessing:\n",
    "\n",
    " Before starting to apply any DL methodologies, we first had to prepare our dataset.\n",
    " Removing columns with unique for the songs' information would not bring any purpose to predicting the its popularity. Therefore, information such as Song name, Playlist name, URI, and more, were removed."
   ]
  },
  {
   "cell_type": "code",
   "execution_count": 1,
   "id": "743eb592",
   "metadata": {},
   "outputs": [],
   "source": [
    "# Import our dependencies\n",
    "from sklearn.model_selection import train_test_split\n",
    "from sklearn.preprocessing import StandardScaler,OneHotEncoder\n",
    "from sklearn.preprocessing import OneHotEncoder\n",
    "from tensorflow.keras.callbacks import ModelCheckpoint\n",
    "\n",
    "import os\n",
    "import pandas as pd\n",
    "import tensorflow as tf\n",
    "import matplotlib.pyplot as plt"
   ]
  },
  {
   "cell_type": "code",
   "execution_count": 57,
   "id": "8c31b4fa",
   "metadata": {},
   "outputs": [],
   "source": [
    "# Getting the CSV file with all the information merged together\n",
    "ml_df = pd.read_csv('Resources/all_data.csv', index_col=False)\n",
    "\n",
    "# Every song has a unique Track_URI. So, using drop_duplicates ensures all song tracks are unique.\n",
    "unique_ml_df = ml_df.drop_duplicates(subset=['track_uri'])\n",
    "\n",
    "# Dropping columns which is specific for each song (like name and uri)\n",
    "unique_ml_df = unique_ml_df.drop(columns=['Unnamed: 0', 'followers', 'songs',\n",
    "                            'playlist_uri','track_uri','artist_name',\n",
    "                            'song_name', 'analysis_url', 'id','uri',\n",
    "                            'time_signature', 'playlist_name','track_href',\n",
    "                            'type', 'mode', 'genre_2' ])"
   ]
  },
  {
   "cell_type": "code",
   "execution_count": 58,
   "id": "0ce272c1",
   "metadata": {},
   "outputs": [],
   "source": [
    "# merge_df = unique_ml_df.drop(columns=['genre_1'])\n"
   ]
  },
  {
   "cell_type": "markdown",
   "id": "6ea73938",
   "metadata": {},
   "source": [
    "### Bucketing\n",
    "Before we can convert \"genre\" into a one-hot encoding, we need to make sure that there are not too many unique values that would cause our dataset to become too wide."
   ]
  },
  {
   "cell_type": "code",
   "execution_count": 74,
   "id": "8c5838fc",
   "metadata": {},
   "outputs": [
    {
     "name": "stdout",
     "output_type": "stream",
     "text": [
      "Indie                744\n",
      "Rock                 715\n",
      "Pop                  690\n",
      "Electronic           636\n",
      "Jazz                 515\n",
      "Instrumental         486\n",
      "Blues                409\n",
      "Latin                375\n",
      "Singer-Songwriter    337\n",
      "R&B                  336\n",
      "Country              333\n",
      "Metal                317\n",
      "Rap                  283\n",
      "Christian            177\n",
      "Classical            153\n",
      "K-Pop                150\n",
      "Alternative          100\n",
      "Name: genre_1, dtype: int64\n"
     ]
    },
    {
     "data": {
      "text/plain": [
       "<AxesSubplot:ylabel='Density'>"
      ]
     },
     "execution_count": 74,
     "metadata": {},
     "output_type": "execute_result"
    },
    {
     "data": {
      "image/png": "[encoded data removed]",
      "text/plain": [
       "<Figure size 432x288 with 1 Axes>"
      ]
     },
     "metadata": {
      "needs_background": "light"
     },
     "output_type": "display_data"
    }
   ],
   "source": [
    "#Getting the genre's categories and its distribution\n",
    "\n",
    "genre_type_count = unique_ml_df.genre_1.value_counts()\n",
    "print(genre_type_count)\n",
    "genre_type_count.plot.density()"
   ]
  },
  {
   "cell_type": "code",
   "execution_count": 75,
   "id": "86f2ddf2",
   "metadata": {},
   "outputs": [
    {
     "name": "stdout",
     "output_type": "stream",
     "text": [
      "Other                863\n",
      "Indie                744\n",
      "Rock                 715\n",
      "Pop                  690\n",
      "Electronic           636\n",
      "Jazz                 515\n",
      "Instrumental         486\n",
      "Blues                409\n",
      "Latin                375\n",
      "Singer-Songwriter    337\n",
      "R&B                  336\n",
      "Country              333\n",
      "Metal                317\n",
      "Name: genre_1, dtype: int64\n"
     ]
    }
   ],
   "source": [
    "# Selecting which values to replace\n",
    "\n",
    "replace_genre = list(genre_type_count[genre_type_count < 300].index)\n",
    "\n",
    "for song in replace_genre:\n",
    "    unique_ml_df.genre_1 = unique_ml_df.genre_1.replace(song,'Other')\n",
    "    \n",
    "print(unique_ml_df.genre_1.value_counts())\n"
   ]
  },
  {
   "cell_type": "code",
   "execution_count": 76,
   "id": "bddbae70",
   "metadata": {},
   "outputs": [
    {
     "name": "stderr",
     "output_type": "stream",
     "text": [
      "/Users/bneves/opt/anaconda3/envs/mlenv/lib/python3.8/site-packages/sklearn/utils/deprecation.py:87: FutureWarning: Function get_feature_names is deprecated; get_feature_names is deprecated in 1.0 and will be removed in 1.2. Please use get_feature_names_out instead.\n",
      "  warnings.warn(msg, category=FutureWarning)\n"
     ]
    }
   ],
   "source": [
    "# Transposing the genre variability (trying with both genres first, than with only genre2)\n",
    "# OneHoteEncoder instance\n",
    "enc = OneHotEncoder(sparse=False)\n",
    "\n",
    "# Fit the encoder and produce an encoded DF\n",
    "\n",
    "encode_df = pd.DataFrame(enc.fit_transform(unique_ml_df.genre_1.values.reshape(-1,1)))\n",
    "encode_df.columns = enc.get_feature_names(['genre_1'])"
   ]
  },
  {
   "cell_type": "code",
   "execution_count": 77,
   "id": "41bc7f21",
   "metadata": {
    "scrolled": true
   },
   "outputs": [],
   "source": [
    "# Merging genre1 then genre2 and drop originals in the process\n",
    "unique_ml_df = unique_ml_df.reset_index(drop=True)\n",
    "merge_df = unique_ml_df.merge(encode_df,left_index=True, right_index=True)\n",
    "\n",
    "merge_df = merge_df.drop(columns=['genre_1'])"
   ]
  },
  {
   "cell_type": "code",
   "execution_count": 78,
   "id": "c84a6663",
   "metadata": {},
   "outputs": [],
   "source": [
    "# Splitting the preprocessed data into features and targets\n",
    "\n",
    "X = merge_df.drop(columns=['popular', 'popularity'])\n",
    "y = merge_df['popular'].values\n",
    "\n",
    "# Training and testing set\n",
    "X_train, X_test, y_train, y_test = train_test_split(X, y) # Test size is 25%"
   ]
  },
  {
   "cell_type": "code",
   "execution_count": 79,
   "id": "237edc78",
   "metadata": {},
   "outputs": [],
   "source": [
    "# Scaling the dataset\n",
    "scaler = StandardScaler()\n",
    "X_scaler = scaler.fit(X_train)\n",
    "\n",
    "X_train_scaled = X_scaler.transform(X_train)\n",
    "X_test_scaled = X_scaler.transform(X_test)"
   ]
  },
  {
   "cell_type": "code",
   "execution_count": 83,
   "id": "30455af9",
   "metadata": {},
   "outputs": [
    {
     "name": "stdout",
     "output_type": "stream",
     "text": [
      "Model: \"sequential_11\"\n",
      "_________________________________________________________________\n",
      "Layer (type)                 Output Shape              Param #   \n",
      "=================================================================\n",
      "dense_35 (Dense)             (None, 32)                800       \n",
      "_________________________________________________________________\n",
      "dense_36 (Dense)             (None, 20)                660       \n",
      "_________________________________________________________________\n",
      "dense_37 (Dense)             (None, 1)                 21        \n",
      "=================================================================\n",
      "Total params: 1,481\n",
      "Trainable params: 1,481\n",
      "Non-trainable params: 0\n",
      "_________________________________________________________________\n"
     ]
    }
   ],
   "source": [
    "# Define the model - deep neural net, i.e., the number of input features and hidden nodes for each layer.\n",
    "# Adopting a ratio to generate neurons according to the number of features (columns) given.\n",
    "\n",
    "number_input_features = len(X_train_scaled[0])\n",
    "hidden_nodes_layer1 = number_input_features//0.75\n",
    "hidden_nodes_layer2 = number_input_features//1.20\n",
    "\n",
    "nn = tf.keras.models.Sequential()\n",
    "\n",
    "# First hidden layer\n",
    "nn.add(tf.keras.layers.Dense(units=hidden_nodes_layer1, input_dim=number_input_features, activation='tanh'))\n",
    "\n",
    "# Second hidden layer\n",
    "nn.add(tf.keras.layers.Dense(units=hidden_nodes_layer2, activation=tf.keras.layers.LeakyReLU(alpha=0.01)))\n",
    "\n",
    "# Output layer\n",
    "nn.add(tf.keras.layers.Dense(units=1, activation='sigmoid'))\n",
    "\n",
    "# Compiling the model\n",
    "nn.compile(loss='binary_crossentropy', optimizer='adam', metrics=['accuracy'])\n",
    "\n",
    "# Check the strucutre of the model\n",
    "nn.summary()"
   ]
  },
  {
   "cell_type": "code",
   "execution_count": 84,
   "id": "4c82fac3",
   "metadata": {
    "scrolled": true
   },
   "outputs": [
    {
     "name": "stdout",
     "output_type": "stream",
     "text": [
      "Epoch 1/120\n",
      "159/159 [==============================] - 0s 455us/step - loss: 0.6354 - accuracy: 0.6385\n",
      "Epoch 2/120\n",
      "159/159 [==============================] - 0s 393us/step - loss: 0.5140 - accuracy: 0.7310\n",
      "Epoch 3/120\n",
      "159/159 [==============================] - 0s 391us/step - loss: 0.4823 - accuracy: 0.7552\n",
      "Epoch 4/120\n",
      "159/159 [==============================] - 0s 394us/step - loss: 0.4722 - accuracy: 0.7663\n",
      "Epoch 5/120\n",
      "159/159 [==============================] - 0s 406us/step - loss: 0.4638 - accuracy: 0.7634\n",
      "Epoch 6/120\n",
      "159/159 [==============================] - 0s 415us/step - loss: 0.4578 - accuracy: 0.7652\n",
      "Epoch 7/120\n",
      "159/159 [==============================] - 0s 406us/step - loss: 0.4551 - accuracy: 0.7650\n",
      "Epoch 8/120\n",
      "159/159 [==============================] - 0s 404us/step - loss: 0.4596 - accuracy: 0.7712\n",
      "Epoch 9/120\n",
      "159/159 [==============================] - 0s 409us/step - loss: 0.4644 - accuracy: 0.7613\n",
      "Epoch 10/120\n",
      "159/159 [==============================] - 0s 407us/step - loss: 0.4510 - accuracy: 0.7767\n",
      "Epoch 11/120\n",
      "159/159 [==============================] - 0s 412us/step - loss: 0.4402 - accuracy: 0.7791\n",
      "Epoch 12/120\n",
      "159/159 [==============================] - 0s 398us/step - loss: 0.4638 - accuracy: 0.7727\n",
      "Epoch 13/120\n",
      "159/159 [==============================] - 0s 397us/step - loss: 0.4432 - accuracy: 0.7837\n",
      "Epoch 14/120\n",
      "159/159 [==============================] - 0s 402us/step - loss: 0.4413 - accuracy: 0.7861\n",
      "Epoch 15/120\n",
      "159/159 [==============================] - 0s 400us/step - loss: 0.4439 - accuracy: 0.7770\n",
      "Epoch 16/120\n",
      "159/159 [==============================] - 0s 412us/step - loss: 0.4402 - accuracy: 0.7796\n",
      "Epoch 17/120\n",
      "159/159 [==============================] - 0s 408us/step - loss: 0.4480 - accuracy: 0.7720\n",
      "Epoch 18/120\n",
      "159/159 [==============================] - 0s 415us/step - loss: 0.4305 - accuracy: 0.7898\n",
      "Epoch 19/120\n",
      "159/159 [==============================] - 0s 408us/step - loss: 0.4238 - accuracy: 0.7925\n",
      "Epoch 20/120\n",
      "159/159 [==============================] - 0s 415us/step - loss: 0.4521 - accuracy: 0.7761\n",
      "Epoch 21/120\n",
      "159/159 [==============================] - 0s 408us/step - loss: 0.4349 - accuracy: 0.7825\n",
      "Epoch 22/120\n",
      "159/159 [==============================] - 0s 409us/step - loss: 0.4385 - accuracy: 0.7830\n",
      "Epoch 23/120\n",
      "159/159 [==============================] - 0s 415us/step - loss: 0.4269 - accuracy: 0.7840\n",
      "Epoch 24/120\n",
      "159/159 [==============================] - 0s 412us/step - loss: 0.4353 - accuracy: 0.7864\n",
      "Epoch 25/120\n",
      "159/159 [==============================] - 0s 397us/step - loss: 0.4281 - accuracy: 0.7910\n",
      "Epoch 26/120\n",
      "159/159 [==============================] - 0s 400us/step - loss: 0.4247 - accuracy: 0.7909\n",
      "Epoch 27/120\n",
      "159/159 [==============================] - 0s 397us/step - loss: 0.4243 - accuracy: 0.7856\n",
      "Epoch 28/120\n",
      "159/159 [==============================] - 0s 400us/step - loss: 0.4253 - accuracy: 0.7887\n",
      "Epoch 29/120\n",
      "159/159 [==============================] - 0s 398us/step - loss: 0.4304 - accuracy: 0.7828\n",
      "Epoch 30/120\n",
      "159/159 [==============================] - 0s 399us/step - loss: 0.4302 - accuracy: 0.7858\n",
      "Epoch 31/120\n",
      "159/159 [==============================] - 0s 405us/step - loss: 0.4236 - accuracy: 0.7894\n",
      "Epoch 32/120\n",
      "159/159 [==============================] - 0s 405us/step - loss: 0.4396 - accuracy: 0.7857\n",
      "Epoch 33/120\n",
      "159/159 [==============================] - 0s 418us/step - loss: 0.4236 - accuracy: 0.7884\n",
      "Epoch 34/120\n",
      "159/159 [==============================] - 0s 420us/step - loss: 0.4189 - accuracy: 0.7896\n",
      "Epoch 35/120\n",
      "159/159 [==============================] - 0s 407us/step - loss: 0.4223 - accuracy: 0.7890\n",
      "Epoch 36/120\n",
      "159/159 [==============================] - 0s 397us/step - loss: 0.4199 - accuracy: 0.7880\n",
      "Epoch 37/120\n",
      "159/159 [==============================] - 0s 401us/step - loss: 0.4159 - accuracy: 0.7982\n",
      "Epoch 38/120\n",
      "159/159 [==============================] - 0s 400us/step - loss: 0.4099 - accuracy: 0.7974\n",
      "Epoch 39/120\n",
      "159/159 [==============================] - 0s 405us/step - loss: 0.4167 - accuracy: 0.7919\n",
      "Epoch 40/120\n",
      "159/159 [==============================] - 0s 412us/step - loss: 0.4170 - accuracy: 0.7917\n",
      "Epoch 41/120\n",
      "159/159 [==============================] - 0s 413us/step - loss: 0.4154 - accuracy: 0.7961\n",
      "Epoch 42/120\n",
      "159/159 [==============================] - 0s 416us/step - loss: 0.4105 - accuracy: 0.7970\n",
      "Epoch 43/120\n",
      "159/159 [==============================] - 0s 412us/step - loss: 0.3996 - accuracy: 0.8028\n",
      "Epoch 44/120\n",
      "159/159 [==============================] - 0s 403us/step - loss: 0.4230 - accuracy: 0.7942\n",
      "Epoch 45/120\n",
      "159/159 [==============================] - 0s 399us/step - loss: 0.4126 - accuracy: 0.7999\n",
      "Epoch 46/120\n",
      "159/159 [==============================] - 0s 405us/step - loss: 0.4054 - accuracy: 0.8020\n",
      "Epoch 47/120\n",
      "159/159 [==============================] - 0s 401us/step - loss: 0.4116 - accuracy: 0.7956\n",
      "Epoch 48/120\n",
      "159/159 [==============================] - 0s 407us/step - loss: 0.4168 - accuracy: 0.7947\n",
      "Epoch 49/120\n",
      "159/159 [==============================] - 0s 418us/step - loss: 0.4117 - accuracy: 0.7980\n",
      "Epoch 50/120\n",
      "159/159 [==============================] - 0s 413us/step - loss: 0.4086 - accuracy: 0.7959\n",
      "Epoch 51/120\n",
      "159/159 [==============================] - 0s 422us/step - loss: 0.4004 - accuracy: 0.8069\n",
      "Epoch 52/120\n",
      "159/159 [==============================] - 0s 410us/step - loss: 0.4173 - accuracy: 0.7926\n",
      "Epoch 53/120\n",
      "159/159 [==============================] - 0s 415us/step - loss: 0.4074 - accuracy: 0.8021\n",
      "Epoch 54/120\n",
      "159/159 [==============================] - 0s 418us/step - loss: 0.4066 - accuracy: 0.8046\n",
      "Epoch 55/120\n",
      "159/159 [==============================] - 0s 409us/step - loss: 0.4031 - accuracy: 0.8079\n",
      "Epoch 56/120\n",
      "159/159 [==============================] - 0s 414us/step - loss: 0.4098 - accuracy: 0.7980\n",
      "Epoch 57/120\n",
      "159/159 [==============================] - 0s 411us/step - loss: 0.3916 - accuracy: 0.8109\n",
      "Epoch 58/120\n",
      "159/159 [==============================] - 0s 411us/step - loss: 0.3971 - accuracy: 0.8111\n",
      "Epoch 59/120\n",
      "159/159 [==============================] - 0s 412us/step - loss: 0.4141 - accuracy: 0.7967\n",
      "Epoch 60/120\n",
      "159/159 [==============================] - 0s 408us/step - loss: 0.3929 - accuracy: 0.8069\n",
      "Epoch 61/120\n",
      "159/159 [==============================] - 0s 407us/step - loss: 0.4076 - accuracy: 0.7943\n",
      "Epoch 62/120\n",
      "159/159 [==============================] - 0s 405us/step - loss: 0.3838 - accuracy: 0.8162\n",
      "Epoch 63/120\n",
      "159/159 [==============================] - 0s 405us/step - loss: 0.3900 - accuracy: 0.8164\n",
      "Epoch 64/120\n",
      "159/159 [==============================] - 0s 404us/step - loss: 0.3910 - accuracy: 0.8088\n",
      "Epoch 65/120\n",
      "159/159 [==============================] - 0s 406us/step - loss: 0.3970 - accuracy: 0.8072\n",
      "Epoch 66/120\n",
      "159/159 [==============================] - 0s 405us/step - loss: 0.4034 - accuracy: 0.8060\n",
      "Epoch 67/120\n",
      "159/159 [==============================] - 0s 404us/step - loss: 0.4001 - accuracy: 0.8178\n",
      "Epoch 68/120\n",
      "159/159 [==============================] - 0s 404us/step - loss: 0.3996 - accuracy: 0.8043\n",
      "Epoch 69/120\n",
      "159/159 [==============================] - 0s 400us/step - loss: 0.3894 - accuracy: 0.8090\n",
      "Epoch 70/120\n",
      "159/159 [==============================] - 0s 404us/step - loss: 0.3957 - accuracy: 0.8170\n",
      "Epoch 71/120\n",
      "159/159 [==============================] - 0s 404us/step - loss: 0.3976 - accuracy: 0.8118\n",
      "Epoch 72/120\n",
      "159/159 [==============================] - 0s 404us/step - loss: 0.3887 - accuracy: 0.8098\n",
      "Epoch 73/120\n",
      "159/159 [==============================] - 0s 401us/step - loss: 0.3871 - accuracy: 0.8070\n",
      "Epoch 74/120\n",
      "159/159 [==============================] - 0s 397us/step - loss: 0.3835 - accuracy: 0.8175\n",
      "Epoch 75/120\n",
      "159/159 [==============================] - 0s 402us/step - loss: 0.3931 - accuracy: 0.8125\n",
      "Epoch 76/120\n",
      "159/159 [==============================] - 0s 403us/step - loss: 0.3940 - accuracy: 0.8156\n",
      "Epoch 77/120\n",
      "159/159 [==============================] - 0s 403us/step - loss: 0.3870 - accuracy: 0.8128\n",
      "Epoch 78/120\n",
      "159/159 [==============================] - 0s 405us/step - loss: 0.3800 - accuracy: 0.8194\n",
      "Epoch 79/120\n"
     ]
    },
    {
     "name": "stdout",
     "output_type": "stream",
     "text": [
      "159/159 [==============================] - 0s 405us/step - loss: 0.3880 - accuracy: 0.8167\n",
      "Epoch 80/120\n",
      "159/159 [==============================] - 0s 401us/step - loss: 0.3756 - accuracy: 0.8199\n",
      "Epoch 81/120\n",
      "159/159 [==============================] - 0s 398us/step - loss: 0.3772 - accuracy: 0.8203\n",
      "Epoch 82/120\n",
      "159/159 [==============================] - 0s 398us/step - loss: 0.3650 - accuracy: 0.8309\n",
      "Epoch 83/120\n",
      "159/159 [==============================] - 0s 387us/step - loss: 0.3727 - accuracy: 0.8257\n",
      "Epoch 84/120\n",
      "159/159 [==============================] - 0s 389us/step - loss: 0.3920 - accuracy: 0.8098\n",
      "Epoch 85/120\n",
      "159/159 [==============================] - 0s 392us/step - loss: 0.3847 - accuracy: 0.8176\n",
      "Epoch 86/120\n",
      "159/159 [==============================] - 0s 391us/step - loss: 0.3744 - accuracy: 0.8302\n",
      "Epoch 87/120\n",
      "159/159 [==============================] - 0s 389us/step - loss: 0.3808 - accuracy: 0.8262\n",
      "Epoch 88/120\n",
      "159/159 [==============================] - 0s 395us/step - loss: 0.3794 - accuracy: 0.8160\n",
      "Epoch 89/120\n",
      "159/159 [==============================] - 0s 398us/step - loss: 0.3745 - accuracy: 0.8198\n",
      "Epoch 90/120\n",
      "159/159 [==============================] - 0s 393us/step - loss: 0.3589 - accuracy: 0.8367\n",
      "Epoch 91/120\n",
      "159/159 [==============================] - 0s 395us/step - loss: 0.3776 - accuracy: 0.8187\n",
      "Epoch 92/120\n",
      "159/159 [==============================] - 0s 392us/step - loss: 0.3780 - accuracy: 0.8208\n",
      "Epoch 93/120\n",
      "159/159 [==============================] - 0s 400us/step - loss: 0.3653 - accuracy: 0.8320\n",
      "Epoch 94/120\n",
      "159/159 [==============================] - 0s 397us/step - loss: 0.3786 - accuracy: 0.8223\n",
      "Epoch 95/120\n",
      "159/159 [==============================] - 0s 397us/step - loss: 0.3771 - accuracy: 0.8183\n",
      "Epoch 96/120\n",
      "159/159 [==============================] - 0s 397us/step - loss: 0.3567 - accuracy: 0.8415\n",
      "Epoch 97/120\n",
      "159/159 [==============================] - 0s 397us/step - loss: 0.3705 - accuracy: 0.8187\n",
      "Epoch 98/120\n",
      "159/159 [==============================] - 0s 395us/step - loss: 0.3608 - accuracy: 0.8198\n",
      "Epoch 99/120\n",
      "159/159 [==============================] - 0s 397us/step - loss: 0.3620 - accuracy: 0.8297\n",
      "Epoch 100/120\n",
      "159/159 [==============================] - 0s 399us/step - loss: 0.3735 - accuracy: 0.8323\n",
      "Epoch 101/120\n",
      "159/159 [==============================] - 0s 396us/step - loss: 0.3688 - accuracy: 0.8185\n",
      "Epoch 102/120\n",
      "159/159 [==============================] - 0s 399us/step - loss: 0.3568 - accuracy: 0.8352\n",
      "Epoch 103/120\n",
      "159/159 [==============================] - 0s 396us/step - loss: 0.3597 - accuracy: 0.8328\n",
      "Epoch 104/120\n",
      "159/159 [==============================] - 0s 396us/step - loss: 0.3748 - accuracy: 0.8251\n",
      "Epoch 105/120\n",
      "159/159 [==============================] - 0s 398us/step - loss: 0.3687 - accuracy: 0.8324\n",
      "Epoch 106/120\n",
      "159/159 [==============================] - 0s 398us/step - loss: 0.3746 - accuracy: 0.8145\n",
      "Epoch 107/120\n",
      "159/159 [==============================] - 0s 397us/step - loss: 0.3681 - accuracy: 0.8286\n",
      "Epoch 108/120\n",
      "159/159 [==============================] - 0s 397us/step - loss: 0.3527 - accuracy: 0.8294\n",
      "Epoch 109/120\n",
      "159/159 [==============================] - 0s 397us/step - loss: 0.3633 - accuracy: 0.8280\n",
      "Epoch 110/120\n",
      "159/159 [==============================] - 0s 394us/step - loss: 0.3593 - accuracy: 0.8330\n",
      "Epoch 111/120\n",
      "159/159 [==============================] - 0s 399us/step - loss: 0.3571 - accuracy: 0.8323\n",
      "Epoch 112/120\n",
      "159/159 [==============================] - 0s 398us/step - loss: 0.3511 - accuracy: 0.8377\n",
      "Epoch 113/120\n",
      "159/159 [==============================] - 0s 402us/step - loss: 0.3641 - accuracy: 0.8275\n",
      "Epoch 114/120\n",
      "159/159 [==============================] - 0s 399us/step - loss: 0.3665 - accuracy: 0.8305\n",
      "Epoch 115/120\n",
      "159/159 [==============================] - 0s 398us/step - loss: 0.3503 - accuracy: 0.8323\n",
      "Epoch 116/120\n",
      "159/159 [==============================] - 0s 396us/step - loss: 0.3524 - accuracy: 0.8368\n",
      "Epoch 117/120\n",
      "159/159 [==============================] - 0s 397us/step - loss: 0.3459 - accuracy: 0.8368\n",
      "Epoch 118/120\n",
      "159/159 [==============================] - 0s 399us/step - loss: 0.3517 - accuracy: 0.8343\n",
      "Epoch 119/120\n",
      "159/159 [==============================] - 0s 401us/step - loss: 0.3494 - accuracy: 0.8372\n",
      "Epoch 120/120\n",
      "159/159 [==============================] - 0s 397us/step - loss: 0.3474 - accuracy: 0.8351\n"
     ]
    }
   ],
   "source": [
    "# Train the model\n",
    "fit_model = nn.fit(X_train_scaled,y_train,epochs=120)"
   ]
  },
  {
   "cell_type": "code",
   "execution_count": 85,
   "id": "9fd9648e",
   "metadata": {},
   "outputs": [
    {
     "name": "stdout",
     "output_type": "stream",
     "text": [
      "53/53 - 0s - loss: 0.5670 - accuracy: 0.7217\n",
      "Loss: 0.5669702291488647, Accuracy: 0.7217288613319397\n"
     ]
    }
   ],
   "source": [
    "# Evaluating the model with our test data\n",
    "\n",
    "model_loss, model_accuracy = nn.evaluate(X_test_scaled,y_test,verbose=2)\n",
    "print(f\"Loss: {model_loss}, Accuracy: {model_accuracy}\")"
   ]
  }
 ],
 "metadata": {
  "kernelspec": {
   "display_name": "mlenv",
   "language": "python",
   "name": "mlenv"
  },
  "language_info": {
   "codemirror_mode": {
    "name": "ipython",
    "version": 3
   },
   "file_extension": ".py",
   "mimetype": "text/x-python",
   "name": "python",
   "nbconvert_exporter": "python",
   "pygments_lexer": "ipython3",
   "version": "3.8.13"
  }
 },
 "nbformat": 4,
 "nbformat_minor": 5
}
