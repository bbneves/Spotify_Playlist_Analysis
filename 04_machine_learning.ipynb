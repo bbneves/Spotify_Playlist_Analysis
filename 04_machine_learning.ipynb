{
 "cells": [
  {
   "cell_type": "code",
   "execution_count": 1,
   "id": "36b81622",
   "metadata": {},
   "outputs": [],
   "source": [
    "import pandas as pd\n",
    "import datetime \n",
    "import psycopg2\n",
    "import numpy as np\n",
    "import matplotlib.pyplot as plt\n",
    "from sklearn.linear_model import LinearRegression, LogisticRegression\n",
    "from sklearn.model_selection import train_test_split\n",
    "from sklearn.metrics import accuracy_score\n",
    "import sklearn.preprocessing\n",
    "from config import db_password"
   ]
  },
  {
   "cell_type": "code",
   "execution_count": 2,
   "id": "d356af5e",
   "metadata": {},
   "outputs": [],
   "source": [
    "playlist_df = pd.read_csv(f'./Resources/features.csv', index_col=0)"
   ]
  },
  {
   "cell_type": "code",
   "execution_count": 3,
   "id": "e25bfa2c",
   "metadata": {},
   "outputs": [],
   "source": [
    "# add a column to convert ms to minutes\n",
    "playlist_df['duration_mins'] = pd.to_datetime(playlist_df['duration_ms'], unit='ms').dt.strftime('%H:%M:%S')"
   ]
  },
  {
   "cell_type": "code",
   "execution_count": 4,
   "id": "57cabe6d",
   "metadata": {},
   "outputs": [
    {
     "data": {
      "text/html": [
       "<div>\n",
       "<style scoped>\n",
       "    .dataframe tbody tr th:only-of-type {\n",
       "        vertical-align: middle;\n",
       "    }\n",
       "\n",
       "    .dataframe tbody tr th {\n",
       "        vertical-align: top;\n",
       "    }\n",
       "\n",
       "    .dataframe thead th {\n",
       "        text-align: right;\n",
       "    }\n",
       "</style>\n",
       "<table border=\"1\" class=\"dataframe\">\n",
       "  <thead>\n",
       "    <tr style=\"text-align: right;\">\n",
       "      <th></th>\n",
       "      <th>danceability</th>\n",
       "      <th>energy</th>\n",
       "      <th>key</th>\n",
       "      <th>loudness</th>\n",
       "      <th>mode</th>\n",
       "      <th>speechiness</th>\n",
       "      <th>acousticness</th>\n",
       "      <th>instrumentalness</th>\n",
       "      <th>liveness</th>\n",
       "      <th>valence</th>\n",
       "      <th>tempo</th>\n",
       "      <th>type</th>\n",
       "      <th>id</th>\n",
       "      <th>uri</th>\n",
       "      <th>track_href</th>\n",
       "      <th>analysis_url</th>\n",
       "      <th>duration_ms</th>\n",
       "      <th>time_signature</th>\n",
       "      <th>duration_mins</th>\n",
       "    </tr>\n",
       "  </thead>\n",
       "  <tbody>\n",
       "    <tr>\n",
       "      <th>0</th>\n",
       "      <td>0.798</td>\n",
       "      <td>0.697</td>\n",
       "      <td>0</td>\n",
       "      <td>-7.139</td>\n",
       "      <td>1</td>\n",
       "      <td>0.0891</td>\n",
       "      <td>0.020200</td>\n",
       "      <td>0.000000</td>\n",
       "      <td>0.2590</td>\n",
       "      <td>0.745</td>\n",
       "      <td>90.031</td>\n",
       "      <td>audio_features</td>\n",
       "      <td>0skYUMpS0AcbpjcGsAbRGj</td>\n",
       "      <td>spotify:track:0skYUMpS0AcbpjcGsAbRGj</td>\n",
       "      <td>https://api.spotify.com/v1/tracks/0skYUMpS0Acb...</td>\n",
       "      <td>https://api.spotify.com/v1/audio-analysis/0skY...</td>\n",
       "      <td>186964</td>\n",
       "      <td>4</td>\n",
       "      <td>00:03:06</td>\n",
       "    </tr>\n",
       "    <tr>\n",
       "      <th>1</th>\n",
       "      <td>0.646</td>\n",
       "      <td>0.640</td>\n",
       "      <td>8</td>\n",
       "      <td>-5.554</td>\n",
       "      <td>1</td>\n",
       "      <td>0.0304</td>\n",
       "      <td>0.001190</td>\n",
       "      <td>0.000000</td>\n",
       "      <td>0.1380</td>\n",
       "      <td>0.127</td>\n",
       "      <td>105.957</td>\n",
       "      <td>audio_features</td>\n",
       "      <td>7up4SX2l8FAnisrUXoGupd</td>\n",
       "      <td>spotify:track:7up4SX2l8FAnisrUXoGupd</td>\n",
       "      <td>https://api.spotify.com/v1/tracks/7up4SX2l8FAn...</td>\n",
       "      <td>https://api.spotify.com/v1/audio-analysis/7up4...</td>\n",
       "      <td>175699</td>\n",
       "      <td>4</td>\n",
       "      <td>00:02:55</td>\n",
       "    </tr>\n",
       "    <tr>\n",
       "      <th>2</th>\n",
       "      <td>0.950</td>\n",
       "      <td>0.891</td>\n",
       "      <td>2</td>\n",
       "      <td>-2.653</td>\n",
       "      <td>1</td>\n",
       "      <td>0.2410</td>\n",
       "      <td>0.064500</td>\n",
       "      <td>0.000018</td>\n",
       "      <td>0.3090</td>\n",
       "      <td>0.912</td>\n",
       "      <td>133.010</td>\n",
       "      <td>audio_features</td>\n",
       "      <td>4C6Uex2ILwJi9sZXRdmqXp</td>\n",
       "      <td>spotify:track:4C6Uex2ILwJi9sZXRdmqXp</td>\n",
       "      <td>https://api.spotify.com/v1/tracks/4C6Uex2ILwJi...</td>\n",
       "      <td>https://api.spotify.com/v1/audio-analysis/4C6U...</td>\n",
       "      <td>170977</td>\n",
       "      <td>4</td>\n",
       "      <td>00:02:50</td>\n",
       "    </tr>\n",
       "    <tr>\n",
       "      <th>3</th>\n",
       "      <td>0.762</td>\n",
       "      <td>0.861</td>\n",
       "      <td>0</td>\n",
       "      <td>-3.296</td>\n",
       "      <td>1</td>\n",
       "      <td>0.0955</td>\n",
       "      <td>0.018500</td>\n",
       "      <td>0.000000</td>\n",
       "      <td>0.2640</td>\n",
       "      <td>0.955</td>\n",
       "      <td>120.048</td>\n",
       "      <td>audio_features</td>\n",
       "      <td>0xzI1KAr0Yd9tv8jlIk3sn</td>\n",
       "      <td>spotify:track:0xzI1KAr0Yd9tv8jlIk3sn</td>\n",
       "      <td>https://api.spotify.com/v1/tracks/0xzI1KAr0Yd9...</td>\n",
       "      <td>https://api.spotify.com/v1/audio-analysis/0xzI...</td>\n",
       "      <td>172714</td>\n",
       "      <td>4</td>\n",
       "      <td>00:02:52</td>\n",
       "    </tr>\n",
       "    <tr>\n",
       "      <th>4</th>\n",
       "      <td>0.871</td>\n",
       "      <td>0.485</td>\n",
       "      <td>7</td>\n",
       "      <td>-8.294</td>\n",
       "      <td>0</td>\n",
       "      <td>0.0411</td>\n",
       "      <td>0.527000</td>\n",
       "      <td>0.000074</td>\n",
       "      <td>0.1690</td>\n",
       "      <td>0.494</td>\n",
       "      <td>119.976</td>\n",
       "      <td>audio_features</td>\n",
       "      <td>5rbuv6zso7QSaKt265H3M3</td>\n",
       "      <td>spotify:track:5rbuv6zso7QSaKt265H3M3</td>\n",
       "      <td>https://api.spotify.com/v1/tracks/5rbuv6zso7QS...</td>\n",
       "      <td>https://api.spotify.com/v1/audio-analysis/5rbu...</td>\n",
       "      <td>219036</td>\n",
       "      <td>4</td>\n",
       "      <td>00:03:39</td>\n",
       "    </tr>\n",
       "    <tr>\n",
       "      <th>...</th>\n",
       "      <td>...</td>\n",
       "      <td>...</td>\n",
       "      <td>...</td>\n",
       "      <td>...</td>\n",
       "      <td>...</td>\n",
       "      <td>...</td>\n",
       "      <td>...</td>\n",
       "      <td>...</td>\n",
       "      <td>...</td>\n",
       "      <td>...</td>\n",
       "      <td>...</td>\n",
       "      <td>...</td>\n",
       "      <td>...</td>\n",
       "      <td>...</td>\n",
       "      <td>...</td>\n",
       "      <td>...</td>\n",
       "      <td>...</td>\n",
       "      <td>...</td>\n",
       "      <td>...</td>\n",
       "    </tr>\n",
       "    <tr>\n",
       "      <th>8100</th>\n",
       "      <td>0.479</td>\n",
       "      <td>0.938</td>\n",
       "      <td>2</td>\n",
       "      <td>-3.058</td>\n",
       "      <td>1</td>\n",
       "      <td>0.0376</td>\n",
       "      <td>0.000075</td>\n",
       "      <td>0.000153</td>\n",
       "      <td>0.1170</td>\n",
       "      <td>0.431</td>\n",
       "      <td>140.056</td>\n",
       "      <td>audio_features</td>\n",
       "      <td>6kNOYOpdMy0w67fC4XPc0q</td>\n",
       "      <td>spotify:track:6kNOYOpdMy0w67fC4XPc0q</td>\n",
       "      <td>https://api.spotify.com/v1/tracks/6kNOYOpdMy0w...</td>\n",
       "      <td>https://api.spotify.com/v1/audio-analysis/6kNO...</td>\n",
       "      <td>264467</td>\n",
       "      <td>4</td>\n",
       "      <td>00:04:24</td>\n",
       "    </tr>\n",
       "    <tr>\n",
       "      <th>8101</th>\n",
       "      <td>0.582</td>\n",
       "      <td>0.730</td>\n",
       "      <td>11</td>\n",
       "      <td>-7.678</td>\n",
       "      <td>1</td>\n",
       "      <td>0.0402</td>\n",
       "      <td>0.260000</td>\n",
       "      <td>0.000004</td>\n",
       "      <td>0.1100</td>\n",
       "      <td>0.240</td>\n",
       "      <td>129.981</td>\n",
       "      <td>audio_features</td>\n",
       "      <td>5o9CWfDLfSLJ22BtUSMLBt</td>\n",
       "      <td>spotify:track:5o9CWfDLfSLJ22BtUSMLBt</td>\n",
       "      <td>https://api.spotify.com/v1/tracks/5o9CWfDLfSLJ...</td>\n",
       "      <td>https://api.spotify.com/v1/audio-analysis/5o9C...</td>\n",
       "      <td>201668</td>\n",
       "      <td>4</td>\n",
       "      <td>00:03:21</td>\n",
       "    </tr>\n",
       "    <tr>\n",
       "      <th>8102</th>\n",
       "      <td>0.481</td>\n",
       "      <td>0.917</td>\n",
       "      <td>2</td>\n",
       "      <td>-3.366</td>\n",
       "      <td>1</td>\n",
       "      <td>0.0385</td>\n",
       "      <td>0.001040</td>\n",
       "      <td>0.000004</td>\n",
       "      <td>0.3980</td>\n",
       "      <td>0.377</td>\n",
       "      <td>108.747</td>\n",
       "      <td>audio_features</td>\n",
       "      <td>1f8G4jvkONnLMxJMx7V2Ck</td>\n",
       "      <td>spotify:track:1f8G4jvkONnLMxJMx7V2Ck</td>\n",
       "      <td>https://api.spotify.com/v1/tracks/1f8G4jvkONnL...</td>\n",
       "      <td>https://api.spotify.com/v1/audio-analysis/1f8G...</td>\n",
       "      <td>185317</td>\n",
       "      <td>4</td>\n",
       "      <td>00:03:05</td>\n",
       "    </tr>\n",
       "    <tr>\n",
       "      <th>8103</th>\n",
       "      <td>0.628</td>\n",
       "      <td>0.787</td>\n",
       "      <td>4</td>\n",
       "      <td>-6.540</td>\n",
       "      <td>1</td>\n",
       "      <td>0.0328</td>\n",
       "      <td>0.003760</td>\n",
       "      <td>0.027200</td>\n",
       "      <td>0.0872</td>\n",
       "      <td>0.611</td>\n",
       "      <td>137.981</td>\n",
       "      <td>audio_features</td>\n",
       "      <td>4Yzy5bGrMOlLpYcOtWxGIM</td>\n",
       "      <td>spotify:track:4Yzy5bGrMOlLpYcOtWxGIM</td>\n",
       "      <td>https://api.spotify.com/v1/tracks/4Yzy5bGrMOlL...</td>\n",
       "      <td>https://api.spotify.com/v1/audio-analysis/4Yzy...</td>\n",
       "      <td>179947</td>\n",
       "      <td>4</td>\n",
       "      <td>00:02:59</td>\n",
       "    </tr>\n",
       "    <tr>\n",
       "      <th>8104</th>\n",
       "      <td>0.384</td>\n",
       "      <td>0.623</td>\n",
       "      <td>2</td>\n",
       "      <td>-8.022</td>\n",
       "      <td>0</td>\n",
       "      <td>0.0282</td>\n",
       "      <td>0.104000</td>\n",
       "      <td>0.207000</td>\n",
       "      <td>0.1270</td>\n",
       "      <td>0.458</td>\n",
       "      <td>77.067</td>\n",
       "      <td>audio_features</td>\n",
       "      <td>45iaKryj5SvdzinlHHrDlL</td>\n",
       "      <td>spotify:track:45iaKryj5SvdzinlHHrDlL</td>\n",
       "      <td>https://api.spotify.com/v1/tracks/45iaKryj5Svd...</td>\n",
       "      <td>https://api.spotify.com/v1/audio-analysis/45ia...</td>\n",
       "      <td>310840</td>\n",
       "      <td>4</td>\n",
       "      <td>00:05:10</td>\n",
       "    </tr>\n",
       "  </tbody>\n",
       "</table>\n",
       "<p>8105 rows × 19 columns</p>\n",
       "</div>"
      ],
      "text/plain": [
       "      danceability  energy  key  loudness  mode  speechiness  acousticness  \\\n",
       "0            0.798   0.697    0    -7.139     1       0.0891      0.020200   \n",
       "1            0.646   0.640    8    -5.554     1       0.0304      0.001190   \n",
       "2            0.950   0.891    2    -2.653     1       0.2410      0.064500   \n",
       "3            0.762   0.861    0    -3.296     1       0.0955      0.018500   \n",
       "4            0.871   0.485    7    -8.294     0       0.0411      0.527000   \n",
       "...            ...     ...  ...       ...   ...          ...           ...   \n",
       "8100         0.479   0.938    2    -3.058     1       0.0376      0.000075   \n",
       "8101         0.582   0.730   11    -7.678     1       0.0402      0.260000   \n",
       "8102         0.481   0.917    2    -3.366     1       0.0385      0.001040   \n",
       "8103         0.628   0.787    4    -6.540     1       0.0328      0.003760   \n",
       "8104         0.384   0.623    2    -8.022     0       0.0282      0.104000   \n",
       "\n",
       "      instrumentalness  liveness  valence    tempo            type  \\\n",
       "0             0.000000    0.2590    0.745   90.031  audio_features   \n",
       "1             0.000000    0.1380    0.127  105.957  audio_features   \n",
       "2             0.000018    0.3090    0.912  133.010  audio_features   \n",
       "3             0.000000    0.2640    0.955  120.048  audio_features   \n",
       "4             0.000074    0.1690    0.494  119.976  audio_features   \n",
       "...                ...       ...      ...      ...             ...   \n",
       "8100          0.000153    0.1170    0.431  140.056  audio_features   \n",
       "8101          0.000004    0.1100    0.240  129.981  audio_features   \n",
       "8102          0.000004    0.3980    0.377  108.747  audio_features   \n",
       "8103          0.027200    0.0872    0.611  137.981  audio_features   \n",
       "8104          0.207000    0.1270    0.458   77.067  audio_features   \n",
       "\n",
       "                          id                                   uri  \\\n",
       "0     0skYUMpS0AcbpjcGsAbRGj  spotify:track:0skYUMpS0AcbpjcGsAbRGj   \n",
       "1     7up4SX2l8FAnisrUXoGupd  spotify:track:7up4SX2l8FAnisrUXoGupd   \n",
       "2     4C6Uex2ILwJi9sZXRdmqXp  spotify:track:4C6Uex2ILwJi9sZXRdmqXp   \n",
       "3     0xzI1KAr0Yd9tv8jlIk3sn  spotify:track:0xzI1KAr0Yd9tv8jlIk3sn   \n",
       "4     5rbuv6zso7QSaKt265H3M3  spotify:track:5rbuv6zso7QSaKt265H3M3   \n",
       "...                      ...                                   ...   \n",
       "8100  6kNOYOpdMy0w67fC4XPc0q  spotify:track:6kNOYOpdMy0w67fC4XPc0q   \n",
       "8101  5o9CWfDLfSLJ22BtUSMLBt  spotify:track:5o9CWfDLfSLJ22BtUSMLBt   \n",
       "8102  1f8G4jvkONnLMxJMx7V2Ck  spotify:track:1f8G4jvkONnLMxJMx7V2Ck   \n",
       "8103  4Yzy5bGrMOlLpYcOtWxGIM  spotify:track:4Yzy5bGrMOlLpYcOtWxGIM   \n",
       "8104  45iaKryj5SvdzinlHHrDlL  spotify:track:45iaKryj5SvdzinlHHrDlL   \n",
       "\n",
       "                                             track_href  \\\n",
       "0     https://api.spotify.com/v1/tracks/0skYUMpS0Acb...   \n",
       "1     https://api.spotify.com/v1/tracks/7up4SX2l8FAn...   \n",
       "2     https://api.spotify.com/v1/tracks/4C6Uex2ILwJi...   \n",
       "3     https://api.spotify.com/v1/tracks/0xzI1KAr0Yd9...   \n",
       "4     https://api.spotify.com/v1/tracks/5rbuv6zso7QS...   \n",
       "...                                                 ...   \n",
       "8100  https://api.spotify.com/v1/tracks/6kNOYOpdMy0w...   \n",
       "8101  https://api.spotify.com/v1/tracks/5o9CWfDLfSLJ...   \n",
       "8102  https://api.spotify.com/v1/tracks/1f8G4jvkONnL...   \n",
       "8103  https://api.spotify.com/v1/tracks/4Yzy5bGrMOlL...   \n",
       "8104  https://api.spotify.com/v1/tracks/45iaKryj5Svd...   \n",
       "\n",
       "                                           analysis_url  duration_ms  \\\n",
       "0     https://api.spotify.com/v1/audio-analysis/0skY...       186964   \n",
       "1     https://api.spotify.com/v1/audio-analysis/7up4...       175699   \n",
       "2     https://api.spotify.com/v1/audio-analysis/4C6U...       170977   \n",
       "3     https://api.spotify.com/v1/audio-analysis/0xzI...       172714   \n",
       "4     https://api.spotify.com/v1/audio-analysis/5rbu...       219036   \n",
       "...                                                 ...          ...   \n",
       "8100  https://api.spotify.com/v1/audio-analysis/6kNO...       264467   \n",
       "8101  https://api.spotify.com/v1/audio-analysis/5o9C...       201668   \n",
       "8102  https://api.spotify.com/v1/audio-analysis/1f8G...       185317   \n",
       "8103  https://api.spotify.com/v1/audio-analysis/4Yzy...       179947   \n",
       "8104  https://api.spotify.com/v1/audio-analysis/45ia...       310840   \n",
       "\n",
       "      time_signature duration_mins  \n",
       "0                  4      00:03:06  \n",
       "1                  4      00:02:55  \n",
       "2                  4      00:02:50  \n",
       "3                  4      00:02:52  \n",
       "4                  4      00:03:39  \n",
       "...              ...           ...  \n",
       "8100               4      00:04:24  \n",
       "8101               4      00:03:21  \n",
       "8102               4      00:03:05  \n",
       "8103               4      00:02:59  \n",
       "8104               4      00:05:10  \n",
       "\n",
       "[8105 rows x 19 columns]"
      ]
     },
     "execution_count": 4,
     "metadata": {},
     "output_type": "execute_result"
    }
   ],
   "source": [
    "playlist_df"
   ]
  },
  {
   "cell_type": "code",
   "execution_count": 5,
   "id": "8c030c90",
   "metadata": {},
   "outputs": [
    {
     "data": {
      "image/png": "[encoded data removed]",
      "text/plain": [
       "<Figure size 432x288 with 1 Axes>"
      ]
     },
     "metadata": {
      "needs_background": "light"
     },
     "output_type": "display_data"
    }
   ],
   "source": [
    "plt.scatter(playlist_df.danceability, playlist_df.tempo)\n",
    "plt.xlabel('Danceability')\n",
    "plt.ylabel('Tempo')\n",
    "plt.show()"
   ]
  },
  {
   "cell_type": "code",
   "execution_count": 6,
   "id": "97f00b14",
   "metadata": {},
   "outputs": [
    {
     "data": {
      "image/png": "[encoded data removed]",
      "text/plain": [
       "<Figure size 432x288 with 1 Axes>"
      ]
     },
     "metadata": {
      "needs_background": "light"
     },
     "output_type": "display_data"
    }
   ],
   "source": [
    "plt.scatter(playlist_df.danceability, playlist_df.energy)\n",
    "plt.xlabel('Danceability')\n",
    "plt.ylabel('Energy')\n",
    "plt.show()"
   ]
  },
  {
   "cell_type": "code",
   "execution_count": 7,
   "id": "905d429d",
   "metadata": {},
   "outputs": [
    {
     "data": {
      "image/png": "[encoded data removed]",
      "text/plain": [
       "<Figure size 432x288 with 1 Axes>"
      ]
     },
     "metadata": {
      "needs_background": "light"
     },
     "output_type": "display_data"
    }
   ],
   "source": [
    "plt.scatter(playlist_df.valence, playlist_df.energy)\n",
    "plt.xlabel('Valence')\n",
    "plt.ylabel('Energy')\n",
    "plt.show()"
   ]
  },
  {
   "cell_type": "code",
   "execution_count": 8,
   "id": "3c6a3f0b",
   "metadata": {},
   "outputs": [
    {
     "data": {
      "image/png": "[encoded data removed]",
      "text/plain": [
       "<Figure size 432x288 with 1 Axes>"
      ]
     },
     "metadata": {
      "needs_background": "light"
     },
     "output_type": "display_data"
    }
   ],
   "source": [
    "plt.scatter(playlist_df.duration_mins, playlist_df.danceability)\n",
    "plt.xlabel('Duration')\n",
    "plt.ylabel('Danceability')\n",
    "plt.show()"
   ]
  },
  {
   "cell_type": "code",
   "execution_count": 9,
   "id": "a301d460",
   "metadata": {},
   "outputs": [
    {
     "data": {
      "image/png": "[encoded data removed]",
      "text/plain": [
       "<Figure size 432x288 with 1 Axes>"
      ]
     },
     "metadata": {
      "needs_background": "light"
     },
     "output_type": "display_data"
    }
   ],
   "source": [
    "plt.scatter(playlist_df.duration_mins, playlist_df.valence)\n",
    "plt.xlabel('Duration')\n",
    "plt.ylabel('Valence')\n",
    "plt.show()"
   ]
  },
  {
   "cell_type": "markdown",
   "id": "7ef84945",
   "metadata": {},
   "source": [
    "## fetch from Postgres"
   ]
  },
  {
   "cell_type": "code",
   "execution_count": 10,
   "id": "9b09daa3",
   "metadata": {},
   "outputs": [],
   "source": [
    "#establishing the connection\n",
    "conn = psycopg2.connect(\n",
    "   database=\"playlist_db\", user='postgres', password=db_password, host='127.0.0.1', port= '5433'\n",
    ")"
   ]
  },
  {
   "cell_type": "code",
   "execution_count": 11,
   "id": "1f5ba37c",
   "metadata": {},
   "outputs": [],
   "source": [
    "#Setting auto commit false\n",
    "conn.autocommit = True\n",
    "\n",
    "#Creating a cursor object using the cursor() method\n",
    "cursor = conn.cursor()"
   ]
  },
  {
   "cell_type": "code",
   "execution_count": 26,
   "id": "79e0f23f",
   "metadata": {},
   "outputs": [],
   "source": [
    "# #Retrieving DUPLICATE data\n",
    "# cursor.execute('''\n",
    "# SELECT f.danceability, f.energy, f.key, f.loudness, f.mode, f.speechiness, f.acousticness, f.instrumentalness, f.liveness, f.valence, f.tempo, f.duration_ms, f.time_signature, p.popularity\n",
    "# FROM features AS f\n",
    "# LEFT JOIN playlists AS p\n",
    "# ON f.uri = p.track_uri;\n",
    "# ''')"
   ]
  },
  {
   "cell_type": "code",
   "execution_count": 31,
   "id": "fb424c29",
   "metadata": {},
   "outputs": [],
   "source": [
    "#Retrieving DISTINCT data\n",
    "cursor.execute('''\n",
    "SELECT DISTINCT f.danceability, f.energy, f.key, f.loudness, f.mode, f.speechiness, f.acousticness, f.instrumentalness, f.liveness, f.valence, f.tempo, f.duration_ms, f.time_signature, p.popularity\n",
    "FROM features AS f\n",
    "JOIN playlists AS p\n",
    "ON f.uri = p.track_uri\n",
    "ORDER BY p.popularity DESC;\n",
    "''')"
   ]
  },
  {
   "cell_type": "code",
   "execution_count": 12,
   "id": "c671ab21",
   "metadata": {},
   "outputs": [],
   "source": [
    "# #Retrieving ALL data\n",
    "# cursor.execute('''\n",
    "# SELECT *\n",
    "# FROM features AS f\n",
    "# JOIN playlists AS p\n",
    "# ON f.uri = p.track_uri;\n",
    "# ''')"
   ]
  },
  {
   "cell_type": "code",
   "execution_count": 13,
   "id": "f1bb2d67",
   "metadata": {},
   "outputs": [
    {
     "name": "stderr",
     "output_type": "stream",
     "text": [
      "IOPub data rate exceeded.\n",
      "The notebook server will temporarily stop sending output\n",
      "to the client in order to avoid crashing it.\n",
      "To change this limit, set the config variable\n",
      "`--NotebookApp.iopub_data_rate_limit`.\n",
      "\n",
      "Current values:\n",
      "NotebookApp.iopub_data_rate_limit=1000000.0 (bytes/sec)\n",
      "NotebookApp.rate_limit_window=3.0 (secs)\n",
      "\n"
     ]
    }
   ],
   "source": [
    "#Fetching all rows from the table\n",
    "result = cursor.fetchall();\n",
    "print(result)"
   ]
  },
  {
   "cell_type": "code",
   "execution_count": 34,
   "id": "11680988",
   "metadata": {},
   "outputs": [
    {
     "data": {
      "text/plain": [
       "list"
      ]
     },
     "execution_count": 34,
     "metadata": {},
     "output_type": "execute_result"
    }
   ],
   "source": [
    "type(result)"
   ]
  },
  {
   "cell_type": "code",
   "execution_count": 14,
   "id": "4f7ff5d9",
   "metadata": {},
   "outputs": [
    {
     "data": {
      "text/plain": [
       "12419"
      ]
     },
     "execution_count": 14,
     "metadata": {},
     "output_type": "execute_result"
    }
   ],
   "source": [
    "len(result)"
   ]
  },
  {
   "cell_type": "code",
   "execution_count": 15,
   "id": "870f9dbe",
   "metadata": {},
   "outputs": [],
   "source": [
    "machine_learning_df = pd.DataFrame(result)"
   ]
  },
  {
   "cell_type": "code",
   "execution_count": 16,
   "id": "e70fa9cb",
   "metadata": {},
   "outputs": [
    {
     "data": {
      "text/plain": [
       "pandas.core.frame.DataFrame"
      ]
     },
     "execution_count": 16,
     "metadata": {},
     "output_type": "execute_result"
    }
   ],
   "source": [
    "type(machine_learning_df)"
   ]
  },
  {
   "cell_type": "code",
   "execution_count": 17,
   "id": "5cdb30c5",
   "metadata": {},
   "outputs": [
    {
     "data": {
      "text/html": [
       "<div>\n",
       "<style scoped>\n",
       "    .dataframe tbody tr th:only-of-type {\n",
       "        vertical-align: middle;\n",
       "    }\n",
       "\n",
       "    .dataframe tbody tr th {\n",
       "        vertical-align: top;\n",
       "    }\n",
       "\n",
       "    .dataframe thead th {\n",
       "        text-align: right;\n",
       "    }\n",
       "</style>\n",
       "<table border=\"1\" class=\"dataframe\">\n",
       "  <thead>\n",
       "    <tr style=\"text-align: right;\">\n",
       "      <th></th>\n",
       "      <th>0</th>\n",
       "      <th>1</th>\n",
       "      <th>2</th>\n",
       "      <th>3</th>\n",
       "      <th>4</th>\n",
       "      <th>5</th>\n",
       "      <th>6</th>\n",
       "      <th>7</th>\n",
       "      <th>8</th>\n",
       "      <th>9</th>\n",
       "      <th>...</th>\n",
       "      <th>18</th>\n",
       "      <th>19</th>\n",
       "      <th>20</th>\n",
       "      <th>21</th>\n",
       "      <th>22</th>\n",
       "      <th>23</th>\n",
       "      <th>24</th>\n",
       "      <th>25</th>\n",
       "      <th>26</th>\n",
       "      <th>27</th>\n",
       "    </tr>\n",
       "  </thead>\n",
       "  <tbody>\n",
       "    <tr>\n",
       "      <th>0</th>\n",
       "      <td>0.798</td>\n",
       "      <td>0.697</td>\n",
       "      <td>0</td>\n",
       "      <td>-7.139</td>\n",
       "      <td>1</td>\n",
       "      <td>0.0891</td>\n",
       "      <td>0.0202</td>\n",
       "      <td>0.0</td>\n",
       "      <td>0.259</td>\n",
       "      <td>0.745</td>\n",
       "      <td>...</td>\n",
       "      <td>K-Pop ON!</td>\n",
       "      <td>4,113,578</td>\n",
       "      <td>52</td>\n",
       "      <td>K-Pop</td>\n",
       "      <td>Pop</td>\n",
       "      <td>spotify:playlist:37i9dQZF1DX9tPFwDMOaN1</td>\n",
       "      <td>spotify:track:0skYUMpS0AcbpjcGsAbRGj</td>\n",
       "      <td>88</td>\n",
       "      <td>BLACKPINK</td>\n",
       "      <td>Pink Venom</td>\n",
       "    </tr>\n",
       "    <tr>\n",
       "      <th>1</th>\n",
       "      <td>0.798</td>\n",
       "      <td>0.697</td>\n",
       "      <td>0</td>\n",
       "      <td>-7.139</td>\n",
       "      <td>1</td>\n",
       "      <td>0.0891</td>\n",
       "      <td>0.0202</td>\n",
       "      <td>0.0</td>\n",
       "      <td>0.259</td>\n",
       "      <td>0.745</td>\n",
       "      <td>...</td>\n",
       "      <td>SALT</td>\n",
       "      <td>295,173</td>\n",
       "      <td>70</td>\n",
       "      <td>Pop</td>\n",
       "      <td>Rock</td>\n",
       "      <td>spotify:playlist:37i9dQZF1DX6tPTxr8qwRe</td>\n",
       "      <td>spotify:track:0skYUMpS0AcbpjcGsAbRGj</td>\n",
       "      <td>87</td>\n",
       "      <td>BLACKPINK</td>\n",
       "      <td>Pink Venom</td>\n",
       "    </tr>\n",
       "    <tr>\n",
       "      <th>2</th>\n",
       "      <td>0.798</td>\n",
       "      <td>0.697</td>\n",
       "      <td>0</td>\n",
       "      <td>-7.139</td>\n",
       "      <td>1</td>\n",
       "      <td>0.0891</td>\n",
       "      <td>0.0202</td>\n",
       "      <td>0.0</td>\n",
       "      <td>0.259</td>\n",
       "      <td>0.745</td>\n",
       "      <td>...</td>\n",
       "      <td>Pop Rising</td>\n",
       "      <td>2,642,529</td>\n",
       "      <td>87</td>\n",
       "      <td>Pop</td>\n",
       "      <td>Indie</td>\n",
       "      <td>spotify:playlist:37i9dQZF1DWUa8ZRTfalHk</td>\n",
       "      <td>spotify:track:0skYUMpS0AcbpjcGsAbRGj</td>\n",
       "      <td>87</td>\n",
       "      <td>BLACKPINK</td>\n",
       "      <td>Pink Venom</td>\n",
       "    </tr>\n",
       "    <tr>\n",
       "      <th>3</th>\n",
       "      <td>0.798</td>\n",
       "      <td>0.697</td>\n",
       "      <td>0</td>\n",
       "      <td>-7.139</td>\n",
       "      <td>1</td>\n",
       "      <td>0.0891</td>\n",
       "      <td>0.0202</td>\n",
       "      <td>0.0</td>\n",
       "      <td>0.259</td>\n",
       "      <td>0.745</td>\n",
       "      <td>...</td>\n",
       "      <td>Hot Hits USA</td>\n",
       "      <td>762,848</td>\n",
       "      <td>50</td>\n",
       "      <td>Pop</td>\n",
       "      <td>Pop</td>\n",
       "      <td>spotify:playlist:37i9dQZF1DX0kbJZpiYdZl</td>\n",
       "      <td>spotify:track:0skYUMpS0AcbpjcGsAbRGj</td>\n",
       "      <td>87</td>\n",
       "      <td>BLACKPINK</td>\n",
       "      <td>Pink Venom</td>\n",
       "    </tr>\n",
       "    <tr>\n",
       "      <th>4</th>\n",
       "      <td>0.798</td>\n",
       "      <td>0.697</td>\n",
       "      <td>0</td>\n",
       "      <td>-7.139</td>\n",
       "      <td>1</td>\n",
       "      <td>0.0891</td>\n",
       "      <td>0.0202</td>\n",
       "      <td>0.0</td>\n",
       "      <td>0.259</td>\n",
       "      <td>0.745</td>\n",
       "      <td>...</td>\n",
       "      <td>Today’s Top Hits</td>\n",
       "      <td>31,728,611</td>\n",
       "      <td>50</td>\n",
       "      <td>Pop</td>\n",
       "      <td>R&amp;B</td>\n",
       "      <td>spotify:playlist:37i9dQZF1DXcBWIGoYBM5M</td>\n",
       "      <td>spotify:track:0skYUMpS0AcbpjcGsAbRGj</td>\n",
       "      <td>87</td>\n",
       "      <td>BLACKPINK</td>\n",
       "      <td>Pink Venom</td>\n",
       "    </tr>\n",
       "  </tbody>\n",
       "</table>\n",
       "<p>5 rows × 28 columns</p>\n",
       "</div>"
      ],
      "text/plain": [
       "      0      1   2      3   4       5       6    7      8      9   ...  \\\n",
       "0  0.798  0.697   0 -7.139   1  0.0891  0.0202  0.0  0.259  0.745  ...   \n",
       "1  0.798  0.697   0 -7.139   1  0.0891  0.0202  0.0  0.259  0.745  ...   \n",
       "2  0.798  0.697   0 -7.139   1  0.0891  0.0202  0.0  0.259  0.745  ...   \n",
       "3  0.798  0.697   0 -7.139   1  0.0891  0.0202  0.0  0.259  0.745  ...   \n",
       "4  0.798  0.697   0 -7.139   1  0.0891  0.0202  0.0  0.259  0.745  ...   \n",
       "\n",
       "                 18          19  20     21     22  \\\n",
       "0         K-Pop ON!   4,113,578  52  K-Pop    Pop   \n",
       "1              SALT     295,173  70    Pop   Rock   \n",
       "2        Pop Rising   2,642,529  87    Pop  Indie   \n",
       "3      Hot Hits USA     762,848  50    Pop    Pop   \n",
       "4  Today’s Top Hits  31,728,611  50    Pop    R&B   \n",
       "\n",
       "                                        23  \\\n",
       "0  spotify:playlist:37i9dQZF1DX9tPFwDMOaN1   \n",
       "1  spotify:playlist:37i9dQZF1DX6tPTxr8qwRe   \n",
       "2  spotify:playlist:37i9dQZF1DWUa8ZRTfalHk   \n",
       "3  spotify:playlist:37i9dQZF1DX0kbJZpiYdZl   \n",
       "4  spotify:playlist:37i9dQZF1DXcBWIGoYBM5M   \n",
       "\n",
       "                                     24  25         26          27  \n",
       "0  spotify:track:0skYUMpS0AcbpjcGsAbRGj  88  BLACKPINK  Pink Venom  \n",
       "1  spotify:track:0skYUMpS0AcbpjcGsAbRGj  87  BLACKPINK  Pink Venom  \n",
       "2  spotify:track:0skYUMpS0AcbpjcGsAbRGj  87  BLACKPINK  Pink Venom  \n",
       "3  spotify:track:0skYUMpS0AcbpjcGsAbRGj  87  BLACKPINK  Pink Venom  \n",
       "4  spotify:track:0skYUMpS0AcbpjcGsAbRGj  87  BLACKPINK  Pink Venom  \n",
       "\n",
       "[5 rows x 28 columns]"
      ]
     },
     "execution_count": 17,
     "metadata": {},
     "output_type": "execute_result"
    }
   ],
   "source": [
    "machine_learning_df.head()"
   ]
  },
  {
   "cell_type": "code",
   "execution_count": 19,
   "id": "0efe66a9",
   "metadata": {},
   "outputs": [
    {
     "name": "stdout",
     "output_type": "stream",
     "text": [
      "<class 'pandas.core.frame.DataFrame'>\n",
      "RangeIndex: 12419 entries, 0 to 12418\n",
      "Data columns (total 28 columns):\n",
      " #   Column  Non-Null Count  Dtype  \n",
      "---  ------  --------------  -----  \n",
      " 0   0       12419 non-null  float64\n",
      " 1   1       12419 non-null  float64\n",
      " 2   2       12419 non-null  int64  \n",
      " 3   3       12419 non-null  float64\n",
      " 4   4       12419 non-null  int64  \n",
      " 5   5       12419 non-null  float64\n",
      " 6   6       12419 non-null  float64\n",
      " 7   7       12419 non-null  float64\n",
      " 8   8       12419 non-null  float64\n",
      " 9   9       12419 non-null  float64\n",
      " 10  10      12419 non-null  float64\n",
      " 11  11      12419 non-null  object \n",
      " 12  12      12419 non-null  object \n",
      " 13  13      12419 non-null  object \n",
      " 14  14      12419 non-null  object \n",
      " 15  15      12419 non-null  object \n",
      " 16  16      12419 non-null  int64  \n",
      " 17  17      12419 non-null  int64  \n",
      " 18  18      12419 non-null  object \n",
      " 19  19      12419 non-null  object \n",
      " 20  20      12419 non-null  int64  \n",
      " 21  21      12419 non-null  object \n",
      " 22  22      12419 non-null  object \n",
      " 23  23      12419 non-null  object \n",
      " 24  24      12419 non-null  object \n",
      " 25  25      12419 non-null  int64  \n",
      " 26  26      12419 non-null  object \n",
      " 27  27      12419 non-null  object \n",
      "dtypes: float64(9), int64(6), object(13)\n",
      "memory usage: 2.7+ MB\n"
     ]
    }
   ],
   "source": [
    "machine_learning_df.info()"
   ]
  },
  {
   "cell_type": "code",
   "execution_count": 18,
   "id": "cd051319",
   "metadata": {},
   "outputs": [],
   "source": [
    "#Commit your changes in the database\n",
    "# conn.commit()\n",
    "\n",
    "#Closing the connection\n",
    "conn.close()"
   ]
  },
  {
   "cell_type": "code",
   "execution_count": null,
   "id": "914bff8d",
   "metadata": {},
   "outputs": [],
   "source": [
    "# this is main machine learning layout\n",
    "machine_learning_df = machine_learning_df.rename(columns=\n",
    "                                 {\n",
    "                                  0: 'danceability',\n",
    "                                  1: 'energy',\n",
    "                                  2: 'key',\n",
    "                                  3: 'loudness',\n",
    "                                  4: 'mode',\n",
    "                                  5: 'speechiness',\n",
    "                                  6: 'acousticness',\n",
    "                                  7: 'instrumentalness',\n",
    "                                  8: 'liveness',\n",
    "                                  9: 'valence',\n",
    "                                  10: 'tempo',\n",
    "                                  11: 'type',\n",
    "                                  12: 'id',\n",
    "                                  13: 'uri',\n",
    "                                  14: 'track_href',\n",
    "                                  15: 'analysis_url',\n",
    "                                  16: 'duration_ms',\n",
    "                                  17: 'time_signature',\n",
    "                                  18: 'popularity'\n",
    "                                  })                  "
   ]
  },
  {
   "cell_type": "code",
   "execution_count": 20,
   "id": "d1f66fd6",
   "metadata": {},
   "outputs": [],
   "source": [
    "# # this layout is for a full join\n",
    "# machine_learning_df = machine_learning_df.rename(columns=\n",
    "#                                  {\n",
    "#                                   0: 'danceability',\n",
    "#                                   1: 'energy',\n",
    "#                                   2: 'key',\n",
    "#                                   3: 'loudness',\n",
    "#                                   4: 'mode',\n",
    "#                                   5: 'speechiness',\n",
    "#                                   6: 'acousticness',\n",
    "#                                   7: 'instrumentalness',\n",
    "#                                   8: 'liveness',\n",
    "#                                   9: 'valence',\n",
    "#                                   10: 'tempo',\n",
    "#                                   11: 'type',\n",
    "#                                   12: 'id',\n",
    "#                                   13: 'uri',\n",
    "#                                   14: 'track_href',\n",
    "#                                   15: 'analysis_url',\n",
    "#                                   16: 'duration_ms',\n",
    "#                                   17: 'time_signature',\n",
    "#                                   18: 'playlist_name',\n",
    "#                                   19: 'followers',\n",
    "#                                   20: 'songs',\n",
    "#                                   21: 'genre_1',\n",
    "#                                   22: 'genre_2',\n",
    "#                                   23: 'playlist_uri',\n",
    "#                                   24: 'track_uri',\n",
    "#                                   25: 'popularity',\n",
    "#                                   26: 'artist_name',\n",
    "#                                   27: 'song_name'\n",
    "#                                  })                  "
   ]
  },
  {
   "cell_type": "code",
   "execution_count": 21,
   "id": "a34b7d70",
   "metadata": {},
   "outputs": [
    {
     "data": {
      "text/html": [
       "<div>\n",
       "<style scoped>\n",
       "    .dataframe tbody tr th:only-of-type {\n",
       "        vertical-align: middle;\n",
       "    }\n",
       "\n",
       "    .dataframe tbody tr th {\n",
       "        vertical-align: top;\n",
       "    }\n",
       "\n",
       "    .dataframe thead th {\n",
       "        text-align: right;\n",
       "    }\n",
       "</style>\n",
       "<table border=\"1\" class=\"dataframe\">\n",
       "  <thead>\n",
       "    <tr style=\"text-align: right;\">\n",
       "      <th></th>\n",
       "      <th>danceability</th>\n",
       "      <th>energy</th>\n",
       "      <th>key</th>\n",
       "      <th>loudness</th>\n",
       "      <th>mode</th>\n",
       "      <th>speechiness</th>\n",
       "      <th>acousticness</th>\n",
       "      <th>instrumentalness</th>\n",
       "      <th>liveness</th>\n",
       "      <th>valence</th>\n",
       "      <th>...</th>\n",
       "      <th>playlist_name</th>\n",
       "      <th>followers</th>\n",
       "      <th>songs</th>\n",
       "      <th>genre_1</th>\n",
       "      <th>genre_2</th>\n",
       "      <th>playlist_uri</th>\n",
       "      <th>track_uri</th>\n",
       "      <th>popularity</th>\n",
       "      <th>artist_name</th>\n",
       "      <th>song_name</th>\n",
       "    </tr>\n",
       "  </thead>\n",
       "  <tbody>\n",
       "    <tr>\n",
       "      <th>0</th>\n",
       "      <td>0.798</td>\n",
       "      <td>0.697</td>\n",
       "      <td>0</td>\n",
       "      <td>-7.139</td>\n",
       "      <td>1</td>\n",
       "      <td>0.0891</td>\n",
       "      <td>0.0202</td>\n",
       "      <td>0.0</td>\n",
       "      <td>0.259</td>\n",
       "      <td>0.745</td>\n",
       "      <td>...</td>\n",
       "      <td>K-Pop ON!</td>\n",
       "      <td>4,113,578</td>\n",
       "      <td>52</td>\n",
       "      <td>K-Pop</td>\n",
       "      <td>Pop</td>\n",
       "      <td>spotify:playlist:37i9dQZF1DX9tPFwDMOaN1</td>\n",
       "      <td>spotify:track:0skYUMpS0AcbpjcGsAbRGj</td>\n",
       "      <td>88</td>\n",
       "      <td>BLACKPINK</td>\n",
       "      <td>Pink Venom</td>\n",
       "    </tr>\n",
       "    <tr>\n",
       "      <th>1</th>\n",
       "      <td>0.798</td>\n",
       "      <td>0.697</td>\n",
       "      <td>0</td>\n",
       "      <td>-7.139</td>\n",
       "      <td>1</td>\n",
       "      <td>0.0891</td>\n",
       "      <td>0.0202</td>\n",
       "      <td>0.0</td>\n",
       "      <td>0.259</td>\n",
       "      <td>0.745</td>\n",
       "      <td>...</td>\n",
       "      <td>SALT</td>\n",
       "      <td>295,173</td>\n",
       "      <td>70</td>\n",
       "      <td>Pop</td>\n",
       "      <td>Rock</td>\n",
       "      <td>spotify:playlist:37i9dQZF1DX6tPTxr8qwRe</td>\n",
       "      <td>spotify:track:0skYUMpS0AcbpjcGsAbRGj</td>\n",
       "      <td>87</td>\n",
       "      <td>BLACKPINK</td>\n",
       "      <td>Pink Venom</td>\n",
       "    </tr>\n",
       "    <tr>\n",
       "      <th>2</th>\n",
       "      <td>0.798</td>\n",
       "      <td>0.697</td>\n",
       "      <td>0</td>\n",
       "      <td>-7.139</td>\n",
       "      <td>1</td>\n",
       "      <td>0.0891</td>\n",
       "      <td>0.0202</td>\n",
       "      <td>0.0</td>\n",
       "      <td>0.259</td>\n",
       "      <td>0.745</td>\n",
       "      <td>...</td>\n",
       "      <td>Pop Rising</td>\n",
       "      <td>2,642,529</td>\n",
       "      <td>87</td>\n",
       "      <td>Pop</td>\n",
       "      <td>Indie</td>\n",
       "      <td>spotify:playlist:37i9dQZF1DWUa8ZRTfalHk</td>\n",
       "      <td>spotify:track:0skYUMpS0AcbpjcGsAbRGj</td>\n",
       "      <td>87</td>\n",
       "      <td>BLACKPINK</td>\n",
       "      <td>Pink Venom</td>\n",
       "    </tr>\n",
       "    <tr>\n",
       "      <th>3</th>\n",
       "      <td>0.798</td>\n",
       "      <td>0.697</td>\n",
       "      <td>0</td>\n",
       "      <td>-7.139</td>\n",
       "      <td>1</td>\n",
       "      <td>0.0891</td>\n",
       "      <td>0.0202</td>\n",
       "      <td>0.0</td>\n",
       "      <td>0.259</td>\n",
       "      <td>0.745</td>\n",
       "      <td>...</td>\n",
       "      <td>Hot Hits USA</td>\n",
       "      <td>762,848</td>\n",
       "      <td>50</td>\n",
       "      <td>Pop</td>\n",
       "      <td>Pop</td>\n",
       "      <td>spotify:playlist:37i9dQZF1DX0kbJZpiYdZl</td>\n",
       "      <td>spotify:track:0skYUMpS0AcbpjcGsAbRGj</td>\n",
       "      <td>87</td>\n",
       "      <td>BLACKPINK</td>\n",
       "      <td>Pink Venom</td>\n",
       "    </tr>\n",
       "    <tr>\n",
       "      <th>4</th>\n",
       "      <td>0.798</td>\n",
       "      <td>0.697</td>\n",
       "      <td>0</td>\n",
       "      <td>-7.139</td>\n",
       "      <td>1</td>\n",
       "      <td>0.0891</td>\n",
       "      <td>0.0202</td>\n",
       "      <td>0.0</td>\n",
       "      <td>0.259</td>\n",
       "      <td>0.745</td>\n",
       "      <td>...</td>\n",
       "      <td>Today’s Top Hits</td>\n",
       "      <td>31,728,611</td>\n",
       "      <td>50</td>\n",
       "      <td>Pop</td>\n",
       "      <td>R&amp;B</td>\n",
       "      <td>spotify:playlist:37i9dQZF1DXcBWIGoYBM5M</td>\n",
       "      <td>spotify:track:0skYUMpS0AcbpjcGsAbRGj</td>\n",
       "      <td>87</td>\n",
       "      <td>BLACKPINK</td>\n",
       "      <td>Pink Venom</td>\n",
       "    </tr>\n",
       "  </tbody>\n",
       "</table>\n",
       "<p>5 rows × 28 columns</p>\n",
       "</div>"
      ],
      "text/plain": [
       "   danceability  energy  key  loudness  mode  speechiness  acousticness  \\\n",
       "0         0.798   0.697    0    -7.139     1       0.0891        0.0202   \n",
       "1         0.798   0.697    0    -7.139     1       0.0891        0.0202   \n",
       "2         0.798   0.697    0    -7.139     1       0.0891        0.0202   \n",
       "3         0.798   0.697    0    -7.139     1       0.0891        0.0202   \n",
       "4         0.798   0.697    0    -7.139     1       0.0891        0.0202   \n",
       "\n",
       "   instrumentalness  liveness  valence  ...     playlist_name   followers  \\\n",
       "0               0.0     0.259    0.745  ...         K-Pop ON!   4,113,578   \n",
       "1               0.0     0.259    0.745  ...              SALT     295,173   \n",
       "2               0.0     0.259    0.745  ...        Pop Rising   2,642,529   \n",
       "3               0.0     0.259    0.745  ...      Hot Hits USA     762,848   \n",
       "4               0.0     0.259    0.745  ...  Today’s Top Hits  31,728,611   \n",
       "\n",
       "  songs genre_1 genre_2                             playlist_uri  \\\n",
       "0    52   K-Pop     Pop  spotify:playlist:37i9dQZF1DX9tPFwDMOaN1   \n",
       "1    70     Pop    Rock  spotify:playlist:37i9dQZF1DX6tPTxr8qwRe   \n",
       "2    87     Pop   Indie  spotify:playlist:37i9dQZF1DWUa8ZRTfalHk   \n",
       "3    50     Pop     Pop  spotify:playlist:37i9dQZF1DX0kbJZpiYdZl   \n",
       "4    50     Pop     R&B  spotify:playlist:37i9dQZF1DXcBWIGoYBM5M   \n",
       "\n",
       "                              track_uri  popularity artist_name   song_name  \n",
       "0  spotify:track:0skYUMpS0AcbpjcGsAbRGj          88   BLACKPINK  Pink Venom  \n",
       "1  spotify:track:0skYUMpS0AcbpjcGsAbRGj          87   BLACKPINK  Pink Venom  \n",
       "2  spotify:track:0skYUMpS0AcbpjcGsAbRGj          87   BLACKPINK  Pink Venom  \n",
       "3  spotify:track:0skYUMpS0AcbpjcGsAbRGj          87   BLACKPINK  Pink Venom  \n",
       "4  spotify:track:0skYUMpS0AcbpjcGsAbRGj          87   BLACKPINK  Pink Venom  \n",
       "\n",
       "[5 rows x 28 columns]"
      ]
     },
     "execution_count": 21,
     "metadata": {},
     "output_type": "execute_result"
    }
   ],
   "source": [
    "machine_learning_df.head()"
   ]
  },
  {
   "cell_type": "code",
   "execution_count": 22,
   "id": "8a5049e5",
   "metadata": {},
   "outputs": [],
   "source": [
    "# machine_learning_df.to_csv('Resources/all_data.csv')"
   ]
  },
  {
   "cell_type": "code",
   "execution_count": 42,
   "id": "ebbfb4d9",
   "metadata": {},
   "outputs": [
    {
     "data": {
      "text/plain": [
       "count    6803.000000\n",
       "mean       53.722769\n",
       "std        16.877358\n",
       "min         0.000000\n",
       "25%        41.000000\n",
       "50%        54.000000\n",
       "75%        66.000000\n",
       "max       100.000000\n",
       "Name: popularity, dtype: float64"
      ]
     },
     "execution_count": 42,
     "metadata": {},
     "output_type": "execute_result"
    }
   ],
   "source": [
    "machine_learning_df['popularity'].describe()"
   ]
  },
  {
   "cell_type": "code",
   "execution_count": 43,
   "id": "0ea70ba4",
   "metadata": {},
   "outputs": [
    {
     "data": {
      "text/plain": [
       "([<matplotlib.axis.XTick at 0x18f8df0f508>,\n",
       "  <matplotlib.axis.XTick at 0x18f87b62148>,\n",
       "  <matplotlib.axis.XTick at 0x18f8d26ed88>,\n",
       "  <matplotlib.axis.XTick at 0x18f8d6ae788>,\n",
       "  <matplotlib.axis.XTick at 0x18f8d6b8088>,\n",
       "  <matplotlib.axis.XTick at 0x18f8d6bc3c8>,\n",
       "  <matplotlib.axis.XTick at 0x18f8d6bcd08>,\n",
       "  <matplotlib.axis.XTick at 0x18f8d6c4248>,\n",
       "  <matplotlib.axis.XTick at 0x18f8d6c74c8>,\n",
       "  <matplotlib.axis.XTick at 0x18f8d6c7d88>,\n",
       "  <matplotlib.axis.XTick at 0x18f8d6c7c48>,\n",
       "  <matplotlib.axis.XTick at 0x18f8d656a48>,\n",
       "  <matplotlib.axis.XTick at 0x18f8d65d948>,\n",
       "  <matplotlib.axis.XTick at 0x18f8d65da88>,\n",
       "  <matplotlib.axis.XTick at 0x18f8d6636c8>,\n",
       "  <matplotlib.axis.XTick at 0x18f8d668488>,\n",
       "  <matplotlib.axis.XTick at 0x18f8d66c248>,\n",
       "  <matplotlib.axis.XTick at 0x18f8d6724c8>,\n",
       "  <matplotlib.axis.XTick at 0x18f8d672d88>,\n",
       "  <matplotlib.axis.XTick at 0x18f8d672c48>,\n",
       "  <matplotlib.axis.XTick at 0x18f8d67aa08>],\n",
       " [Text(0, 0, ''),\n",
       "  Text(0, 0, ''),\n",
       "  Text(0, 0, ''),\n",
       "  Text(0, 0, ''),\n",
       "  Text(0, 0, ''),\n",
       "  Text(0, 0, ''),\n",
       "  Text(0, 0, ''),\n",
       "  Text(0, 0, ''),\n",
       "  Text(0, 0, ''),\n",
       "  Text(0, 0, ''),\n",
       "  Text(0, 0, ''),\n",
       "  Text(0, 0, ''),\n",
       "  Text(0, 0, ''),\n",
       "  Text(0, 0, ''),\n",
       "  Text(0, 0, ''),\n",
       "  Text(0, 0, ''),\n",
       "  Text(0, 0, ''),\n",
       "  Text(0, 0, ''),\n",
       "  Text(0, 0, ''),\n",
       "  Text(0, 0, ''),\n",
       "  Text(0, 0, '')])"
      ]
     },
     "execution_count": 43,
     "metadata": {},
     "output_type": "execute_result"
    },
    {
     "data": {
      "image/png": "[encoded data removed]",
      "text/plain": [
       "<Figure size 432x288 with 1 Axes>"
      ]
     },
     "metadata": {
      "needs_background": "light"
     },
     "output_type": "display_data"
    }
   ],
   "source": [
    "ticks = [0,5,10,15,20,25,30,35,40,45,50,55,60,65,70,75,80,85,90,95,100]\n",
    "\n",
    "plt.hist(machine_learning_df['popularity'])\n",
    "plt.xlabel(\"Popularity\", fontsize=18)\n",
    "plt.ylabel(\"Frequency\", fontsize=18)\n",
    "plt.xticks(ticks)"
   ]
  },
  {
   "cell_type": "markdown",
   "id": "deee72e5",
   "metadata": {},
   "source": [
    "## convert popularity to a binary classifier\n",
    "greater than or equal to mean (60) = 1\n",
    "less than 60 = 0"
   ]
  },
  {
   "cell_type": "code",
   "execution_count": 44,
   "id": "1eab8fed",
   "metadata": {},
   "outputs": [],
   "source": [
    "machine_learning_df['popular'] = np.where(machine_learning_df['popularity']>=60, 1, 0)"
   ]
  },
  {
   "cell_type": "code",
   "execution_count": 45,
   "id": "e7344e04",
   "metadata": {},
   "outputs": [
    {
     "data": {
      "text/html": [
       "<div>\n",
       "<style scoped>\n",
       "    .dataframe tbody tr th:only-of-type {\n",
       "        vertical-align: middle;\n",
       "    }\n",
       "\n",
       "    .dataframe tbody tr th {\n",
       "        vertical-align: top;\n",
       "    }\n",
       "\n",
       "    .dataframe thead th {\n",
       "        text-align: right;\n",
       "    }\n",
       "</style>\n",
       "<table border=\"1\" class=\"dataframe\">\n",
       "  <thead>\n",
       "    <tr style=\"text-align: right;\">\n",
       "      <th></th>\n",
       "      <th>danceability</th>\n",
       "      <th>energy</th>\n",
       "      <th>key</th>\n",
       "      <th>loudness</th>\n",
       "      <th>mode</th>\n",
       "      <th>speechiness</th>\n",
       "      <th>acousticness</th>\n",
       "      <th>instrumentalness</th>\n",
       "      <th>liveness</th>\n",
       "      <th>valence</th>\n",
       "      <th>tempo</th>\n",
       "      <th>duration_ms</th>\n",
       "      <th>time_signature</th>\n",
       "      <th>popularity</th>\n",
       "      <th>popular</th>\n",
       "    </tr>\n",
       "  </thead>\n",
       "  <tbody>\n",
       "    <tr>\n",
       "      <th>3595</th>\n",
       "      <td>0.754</td>\n",
       "      <td>0.333</td>\n",
       "      <td>4</td>\n",
       "      <td>-10.201</td>\n",
       "      <td>0</td>\n",
       "      <td>0.0516</td>\n",
       "      <td>0.0116</td>\n",
       "      <td>0.906000</td>\n",
       "      <td>0.0704</td>\n",
       "      <td>0.600</td>\n",
       "      <td>180.044</td>\n",
       "      <td>128339</td>\n",
       "      <td>4</td>\n",
       "      <td>53</td>\n",
       "      <td>0</td>\n",
       "    </tr>\n",
       "    <tr>\n",
       "      <th>3596</th>\n",
       "      <td>0.755</td>\n",
       "      <td>0.593</td>\n",
       "      <td>5</td>\n",
       "      <td>-9.472</td>\n",
       "      <td>1</td>\n",
       "      <td>0.0484</td>\n",
       "      <td>0.2810</td>\n",
       "      <td>0.504000</td>\n",
       "      <td>0.0970</td>\n",
       "      <td>0.501</td>\n",
       "      <td>93.002</td>\n",
       "      <td>207787</td>\n",
       "      <td>4</td>\n",
       "      <td>53</td>\n",
       "      <td>0</td>\n",
       "    </tr>\n",
       "    <tr>\n",
       "      <th>3597</th>\n",
       "      <td>0.766</td>\n",
       "      <td>0.272</td>\n",
       "      <td>2</td>\n",
       "      <td>-12.642</td>\n",
       "      <td>1</td>\n",
       "      <td>0.0572</td>\n",
       "      <td>0.6580</td>\n",
       "      <td>0.935000</td>\n",
       "      <td>0.2810</td>\n",
       "      <td>0.390</td>\n",
       "      <td>88.987</td>\n",
       "      <td>142921</td>\n",
       "      <td>4</td>\n",
       "      <td>53</td>\n",
       "      <td>0</td>\n",
       "    </tr>\n",
       "    <tr>\n",
       "      <th>3598</th>\n",
       "      <td>0.767</td>\n",
       "      <td>0.697</td>\n",
       "      <td>9</td>\n",
       "      <td>-5.280</td>\n",
       "      <td>1</td>\n",
       "      <td>0.0899</td>\n",
       "      <td>0.1220</td>\n",
       "      <td>0.000041</td>\n",
       "      <td>0.1070</td>\n",
       "      <td>0.918</td>\n",
       "      <td>160.032</td>\n",
       "      <td>144192</td>\n",
       "      <td>4</td>\n",
       "      <td>53</td>\n",
       "      <td>0</td>\n",
       "    </tr>\n",
       "    <tr>\n",
       "      <th>3599</th>\n",
       "      <td>0.768</td>\n",
       "      <td>0.374</td>\n",
       "      <td>1</td>\n",
       "      <td>-5.552</td>\n",
       "      <td>1</td>\n",
       "      <td>0.0586</td>\n",
       "      <td>0.4550</td>\n",
       "      <td>0.000226</td>\n",
       "      <td>0.2450</td>\n",
       "      <td>0.229</td>\n",
       "      <td>91.903</td>\n",
       "      <td>191075</td>\n",
       "      <td>4</td>\n",
       "      <td>53</td>\n",
       "      <td>0</td>\n",
       "    </tr>\n",
       "    <tr>\n",
       "      <th>3600</th>\n",
       "      <td>0.769</td>\n",
       "      <td>0.836</td>\n",
       "      <td>8</td>\n",
       "      <td>-4.150</td>\n",
       "      <td>1</td>\n",
       "      <td>0.2440</td>\n",
       "      <td>0.0618</td>\n",
       "      <td>0.000000</td>\n",
       "      <td>0.1820</td>\n",
       "      <td>0.651</td>\n",
       "      <td>88.978</td>\n",
       "      <td>237720</td>\n",
       "      <td>4</td>\n",
       "      <td>53</td>\n",
       "      <td>0</td>\n",
       "    </tr>\n",
       "    <tr>\n",
       "      <th>3601</th>\n",
       "      <td>0.770</td>\n",
       "      <td>0.234</td>\n",
       "      <td>11</td>\n",
       "      <td>-7.411</td>\n",
       "      <td>0</td>\n",
       "      <td>0.2450</td>\n",
       "      <td>0.4530</td>\n",
       "      <td>0.074700</td>\n",
       "      <td>0.1000</td>\n",
       "      <td>0.578</td>\n",
       "      <td>90.198</td>\n",
       "      <td>137484</td>\n",
       "      <td>4</td>\n",
       "      <td>53</td>\n",
       "      <td>0</td>\n",
       "    </tr>\n",
       "    <tr>\n",
       "      <th>3602</th>\n",
       "      <td>0.786</td>\n",
       "      <td>0.663</td>\n",
       "      <td>6</td>\n",
       "      <td>-5.103</td>\n",
       "      <td>0</td>\n",
       "      <td>0.0562</td>\n",
       "      <td>0.1210</td>\n",
       "      <td>0.000000</td>\n",
       "      <td>0.1120</td>\n",
       "      <td>0.134</td>\n",
       "      <td>102.017</td>\n",
       "      <td>174617</td>\n",
       "      <td>4</td>\n",
       "      <td>53</td>\n",
       "      <td>0</td>\n",
       "    </tr>\n",
       "    <tr>\n",
       "      <th>3603</th>\n",
       "      <td>0.798</td>\n",
       "      <td>0.718</td>\n",
       "      <td>8</td>\n",
       "      <td>-6.874</td>\n",
       "      <td>1</td>\n",
       "      <td>0.0570</td>\n",
       "      <td>0.0332</td>\n",
       "      <td>0.571000</td>\n",
       "      <td>0.0945</td>\n",
       "      <td>0.561</td>\n",
       "      <td>112.017</td>\n",
       "      <td>195605</td>\n",
       "      <td>4</td>\n",
       "      <td>53</td>\n",
       "      <td>0</td>\n",
       "    </tr>\n",
       "    <tr>\n",
       "      <th>3604</th>\n",
       "      <td>0.806</td>\n",
       "      <td>0.713</td>\n",
       "      <td>11</td>\n",
       "      <td>-6.792</td>\n",
       "      <td>1</td>\n",
       "      <td>0.1570</td>\n",
       "      <td>0.1810</td>\n",
       "      <td>0.000000</td>\n",
       "      <td>0.0601</td>\n",
       "      <td>0.513</td>\n",
       "      <td>121.941</td>\n",
       "      <td>193109</td>\n",
       "      <td>4</td>\n",
       "      <td>53</td>\n",
       "      <td>0</td>\n",
       "    </tr>\n",
       "  </tbody>\n",
       "</table>\n",
       "</div>"
      ],
      "text/plain": [
       "      danceability  energy  key  loudness  mode  speechiness  acousticness  \\\n",
       "3595         0.754   0.333    4   -10.201     0       0.0516        0.0116   \n",
       "3596         0.755   0.593    5    -9.472     1       0.0484        0.2810   \n",
       "3597         0.766   0.272    2   -12.642     1       0.0572        0.6580   \n",
       "3598         0.767   0.697    9    -5.280     1       0.0899        0.1220   \n",
       "3599         0.768   0.374    1    -5.552     1       0.0586        0.4550   \n",
       "3600         0.769   0.836    8    -4.150     1       0.2440        0.0618   \n",
       "3601         0.770   0.234   11    -7.411     0       0.2450        0.4530   \n",
       "3602         0.786   0.663    6    -5.103     0       0.0562        0.1210   \n",
       "3603         0.798   0.718    8    -6.874     1       0.0570        0.0332   \n",
       "3604         0.806   0.713   11    -6.792     1       0.1570        0.1810   \n",
       "\n",
       "      instrumentalness  liveness  valence    tempo  duration_ms  \\\n",
       "3595          0.906000    0.0704    0.600  180.044       128339   \n",
       "3596          0.504000    0.0970    0.501   93.002       207787   \n",
       "3597          0.935000    0.2810    0.390   88.987       142921   \n",
       "3598          0.000041    0.1070    0.918  160.032       144192   \n",
       "3599          0.000226    0.2450    0.229   91.903       191075   \n",
       "3600          0.000000    0.1820    0.651   88.978       237720   \n",
       "3601          0.074700    0.1000    0.578   90.198       137484   \n",
       "3602          0.000000    0.1120    0.134  102.017       174617   \n",
       "3603          0.571000    0.0945    0.561  112.017       195605   \n",
       "3604          0.000000    0.0601    0.513  121.941       193109   \n",
       "\n",
       "      time_signature  popularity  popular  \n",
       "3595               4          53        0  \n",
       "3596               4          53        0  \n",
       "3597               4          53        0  \n",
       "3598               4          53        0  \n",
       "3599               4          53        0  \n",
       "3600               4          53        0  \n",
       "3601               4          53        0  \n",
       "3602               4          53        0  \n",
       "3603               4          53        0  \n",
       "3604               4          53        0  "
      ]
     },
     "execution_count": 45,
     "metadata": {},
     "output_type": "execute_result"
    }
   ],
   "source": [
    "# slice to see if it worked\n",
    "machine_learning_df[3595:3605]"
   ]
  },
  {
   "cell_type": "code",
   "execution_count": 46,
   "id": "33d5e9af",
   "metadata": {},
   "outputs": [],
   "source": [
    "X = machine_learning_df.drop(columns=['popularity','popular'])\n",
    "y = machine_learning_df['popular']"
   ]
  },
  {
   "cell_type": "code",
   "execution_count": 47,
   "id": "11787cf2",
   "metadata": {},
   "outputs": [],
   "source": [
    "X_train, X_test, y_train, y_test = train_test_split(X, y, random_state=1)"
   ]
  },
  {
   "cell_type": "code",
   "execution_count": 48,
   "id": "b04c8235",
   "metadata": {},
   "outputs": [
    {
     "data": {
      "text/plain": [
       "LogisticRegression(random_state=1)"
      ]
     },
     "execution_count": 48,
     "metadata": {},
     "output_type": "execute_result"
    }
   ],
   "source": [
    "classifier = LogisticRegression(solver='lbfgs', random_state=1)\n",
    "\n",
    "classifier"
   ]
  },
  {
   "cell_type": "code",
   "execution_count": 49,
   "id": "31d14f22",
   "metadata": {},
   "outputs": [
    {
     "data": {
      "text/plain": [
       "LogisticRegression(random_state=1)"
      ]
     },
     "execution_count": 49,
     "metadata": {},
     "output_type": "execute_result"
    }
   ],
   "source": [
    "classifier.fit(X_train, y_train)"
   ]
  },
  {
   "cell_type": "code",
   "execution_count": 50,
   "id": "f1f1e6d5",
   "metadata": {},
   "outputs": [
    {
     "data": {
      "text/html": [
       "<div>\n",
       "<style scoped>\n",
       "    .dataframe tbody tr th:only-of-type {\n",
       "        vertical-align: middle;\n",
       "    }\n",
       "\n",
       "    .dataframe tbody tr th {\n",
       "        vertical-align: top;\n",
       "    }\n",
       "\n",
       "    .dataframe thead th {\n",
       "        text-align: right;\n",
       "    }\n",
       "</style>\n",
       "<table border=\"1\" class=\"dataframe\">\n",
       "  <thead>\n",
       "    <tr style=\"text-align: right;\">\n",
       "      <th></th>\n",
       "      <th>Prediction</th>\n",
       "      <th>Actual</th>\n",
       "    </tr>\n",
       "  </thead>\n",
       "  <tbody>\n",
       "    <tr>\n",
       "      <th>1732</th>\n",
       "      <td>0</td>\n",
       "      <td>1</td>\n",
       "    </tr>\n",
       "    <tr>\n",
       "      <th>2398</th>\n",
       "      <td>0</td>\n",
       "      <td>1</td>\n",
       "    </tr>\n",
       "    <tr>\n",
       "      <th>695</th>\n",
       "      <td>0</td>\n",
       "      <td>1</td>\n",
       "    </tr>\n",
       "    <tr>\n",
       "      <th>119</th>\n",
       "      <td>0</td>\n",
       "      <td>1</td>\n",
       "    </tr>\n",
       "    <tr>\n",
       "      <th>3484</th>\n",
       "      <td>1</td>\n",
       "      <td>0</td>\n",
       "    </tr>\n",
       "    <tr>\n",
       "      <th>...</th>\n",
       "      <td>...</td>\n",
       "      <td>...</td>\n",
       "    </tr>\n",
       "    <tr>\n",
       "      <th>2328</th>\n",
       "      <td>0</td>\n",
       "      <td>1</td>\n",
       "    </tr>\n",
       "    <tr>\n",
       "      <th>5228</th>\n",
       "      <td>0</td>\n",
       "      <td>0</td>\n",
       "    </tr>\n",
       "    <tr>\n",
       "      <th>1081</th>\n",
       "      <td>0</td>\n",
       "      <td>1</td>\n",
       "    </tr>\n",
       "    <tr>\n",
       "      <th>2045</th>\n",
       "      <td>0</td>\n",
       "      <td>1</td>\n",
       "    </tr>\n",
       "    <tr>\n",
       "      <th>3052</th>\n",
       "      <td>0</td>\n",
       "      <td>0</td>\n",
       "    </tr>\n",
       "  </tbody>\n",
       "</table>\n",
       "<p>1701 rows × 2 columns</p>\n",
       "</div>"
      ],
      "text/plain": [
       "      Prediction  Actual\n",
       "1732           0       1\n",
       "2398           0       1\n",
       "695            0       1\n",
       "119            0       1\n",
       "3484           1       0\n",
       "...          ...     ...\n",
       "2328           0       1\n",
       "5228           0       0\n",
       "1081           0       1\n",
       "2045           0       1\n",
       "3052           0       0\n",
       "\n",
       "[1701 rows x 2 columns]"
      ]
     },
     "execution_count": 50,
     "metadata": {},
     "output_type": "execute_result"
    }
   ],
   "source": [
    "predictions = classifier.predict(X_test)\n",
    "\n",
    "pd.DataFrame({\"Prediction\": predictions, \"Actual\": y_test})"
   ]
  },
  {
   "cell_type": "code",
   "execution_count": 51,
   "id": "a12f3d8c",
   "metadata": {},
   "outputs": [
    {
     "data": {
      "text/plain": [
       "0.6143445032333921"
      ]
     },
     "execution_count": 51,
     "metadata": {},
     "output_type": "execute_result"
    }
   ],
   "source": [
    "accuracy_score(y_test, predictions)"
   ]
  },
  {
   "cell_type": "code",
   "execution_count": 52,
   "id": "98c4ccbd",
   "metadata": {},
   "outputs": [
    {
     "name": "stdout",
     "output_type": "stream",
     "text": [
      "[[1027   29]\n",
      " [ 627   18]]\n"
     ]
    }
   ],
   "source": [
    "from sklearn.metrics import confusion_matrix, classification_report\n",
    "matrix = confusion_matrix(y_test, predictions)\n",
    "print(matrix)"
   ]
  },
  {
   "cell_type": "code",
   "execution_count": 53,
   "id": "3d6d1d51",
   "metadata": {},
   "outputs": [],
   "source": [
    "matrix = pd.DataFrame(matrix, columns=['Predicted True','Predicted False'])"
   ]
  },
  {
   "cell_type": "code",
   "execution_count": 54,
   "id": "0ace1060",
   "metadata": {},
   "outputs": [
    {
     "data": {
      "text/html": [
       "<div>\n",
       "<style scoped>\n",
       "    .dataframe tbody tr th:only-of-type {\n",
       "        vertical-align: middle;\n",
       "    }\n",
       "\n",
       "    .dataframe tbody tr th {\n",
       "        vertical-align: top;\n",
       "    }\n",
       "\n",
       "    .dataframe thead th {\n",
       "        text-align: right;\n",
       "    }\n",
       "</style>\n",
       "<table border=\"1\" class=\"dataframe\">\n",
       "  <thead>\n",
       "    <tr style=\"text-align: right;\">\n",
       "      <th></th>\n",
       "      <th>Predicted True</th>\n",
       "      <th>Predicted False</th>\n",
       "    </tr>\n",
       "  </thead>\n",
       "  <tbody>\n",
       "    <tr>\n",
       "      <th>0</th>\n",
       "      <td>1027</td>\n",
       "      <td>29</td>\n",
       "    </tr>\n",
       "    <tr>\n",
       "      <th>1</th>\n",
       "      <td>627</td>\n",
       "      <td>18</td>\n",
       "    </tr>\n",
       "  </tbody>\n",
       "</table>\n",
       "</div>"
      ],
      "text/plain": [
       "   Predicted True  Predicted False\n",
       "0            1027               29\n",
       "1             627               18"
      ]
     },
     "execution_count": 54,
     "metadata": {},
     "output_type": "execute_result"
    }
   ],
   "source": [
    "matrix"
   ]
  },
  {
   "cell_type": "code",
   "execution_count": 55,
   "id": "3b594c3b",
   "metadata": {},
   "outputs": [
    {
     "name": "stdout",
     "output_type": "stream",
     "text": [
      "              precision    recall  f1-score   support\n",
      "\n",
      "           0       0.62      0.97      0.76      1056\n",
      "           1       0.38      0.03      0.05       645\n",
      "\n",
      "    accuracy                           0.61      1701\n",
      "   macro avg       0.50      0.50      0.40      1701\n",
      "weighted avg       0.53      0.61      0.49      1701\n",
      "\n"
     ]
    }
   ],
   "source": [
    "report = classification_report(y_test, predictions)\n",
    "\n",
    "print(report)"
   ]
  },
  {
   "cell_type": "markdown",
   "id": "98a71ec9",
   "metadata": {},
   "source": [
    "## scaling"
   ]
  },
  {
   "cell_type": "code",
   "execution_count": 56,
   "id": "98c4a027",
   "metadata": {},
   "outputs": [],
   "source": [
    "from sklearn.preprocessing import StandardScaler\n",
    "scaler = StandardScaler()"
   ]
  },
  {
   "cell_type": "code",
   "execution_count": 57,
   "id": "fef3918c",
   "metadata": {},
   "outputs": [],
   "source": [
    "X_scaler = scaler.fit_transform(X_train)"
   ]
  },
  {
   "cell_type": "code",
   "execution_count": 58,
   "id": "945d6a08",
   "metadata": {},
   "outputs": [
    {
     "data": {
      "text/plain": [
       "numpy.ndarray"
      ]
     },
     "execution_count": 58,
     "metadata": {},
     "output_type": "execute_result"
    }
   ],
   "source": [
    "type(X_scaler)"
   ]
  },
  {
   "cell_type": "code",
   "execution_count": 68,
   "id": "9e2bbc04",
   "metadata": {},
   "outputs": [
    {
     "data": {
      "text/plain": [
       "array([[-0.63760904,  1.41945945,  1.60049221, ...,  0.07986282,\n",
       "         0.66601175,  0.20644528],\n",
       "       [ 1.33590763,  0.44398507, -1.20906988, ...,  0.33108583,\n",
       "         0.33484061,  0.20644528],\n",
       "       [-0.33098922, -0.31602307,  1.03857979, ...,  0.11648973,\n",
       "        -0.1222164 ,  0.20644528],\n",
       "       ...,\n",
       "       [-0.34771394, -2.30693101, -0.92811367, ..., -0.76352872,\n",
       "        -0.40316418, -2.27771463],\n",
       "       [ 0.80629158, -0.21024874, -0.36620125, ..., -0.34299012,\n",
       "        -0.11249534,  0.20644528],\n",
       "       [-0.49266149, -0.82922445,  0.75762358, ...,  0.68990877,\n",
       "         0.41285312,  0.20644528]])"
      ]
     },
     "execution_count": 68,
     "metadata": {},
     "output_type": "execute_result"
    }
   ],
   "source": [
    "X_scaler"
   ]
  },
  {
   "cell_type": "code",
   "execution_count": 61,
   "id": "af903639",
   "metadata": {},
   "outputs": [
    {
     "data": {
      "text/plain": [
       "(5102, 13)"
      ]
     },
     "execution_count": 61,
     "metadata": {},
     "output_type": "execute_result"
    }
   ],
   "source": [
    "X_scaler.shape"
   ]
  },
  {
   "cell_type": "code",
   "execution_count": 62,
   "id": "80916631",
   "metadata": {},
   "outputs": [
    {
     "data": {
      "text/plain": [
       "(5102, 13)"
      ]
     },
     "execution_count": 62,
     "metadata": {},
     "output_type": "execute_result"
    }
   ],
   "source": [
    "X_train.shape"
   ]
  },
  {
   "cell_type": "code",
   "execution_count": 65,
   "id": "5b17027b",
   "metadata": {},
   "outputs": [
    {
     "data": {
      "text/plain": [
       "(1701, 13)"
      ]
     },
     "execution_count": 65,
     "metadata": {},
     "output_type": "execute_result"
    }
   ],
   "source": [
    "X_test.shape"
   ]
  },
  {
   "cell_type": "code",
   "execution_count": 64,
   "id": "20aaab25",
   "metadata": {},
   "outputs": [
    {
     "data": {
      "text/plain": [
       "(1701,)"
      ]
     },
     "execution_count": 64,
     "metadata": {},
     "output_type": "execute_result"
    }
   ],
   "source": [
    "y_test.shape"
   ]
  },
  {
   "cell_type": "code",
   "execution_count": null,
   "id": "92b03c20",
   "metadata": {},
   "outputs": [],
   "source": []
  }
 ],
 "metadata": {
  "kernelspec": {
   "display_name": "PythonData",
   "language": "python",
   "name": "pythondata"
  },
  "language_info": {
   "codemirror_mode": {
    "name": "ipython",
    "version": 3
   },
   "file_extension": ".py",
   "mimetype": "text/x-python",
   "name": "python",
   "nbconvert_exporter": "python",
   "pygments_lexer": "ipython3",
   "version": "3.7.11"
  }
 },
 "nbformat": 4,
 "nbformat_minor": 5
}
