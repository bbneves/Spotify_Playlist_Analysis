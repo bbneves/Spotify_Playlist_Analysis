{
 "cells": [
  {
   "cell_type": "code",
   "execution_count": 1,
   "id": "02f55353",
   "metadata": {},
   "outputs": [],
   "source": [
    "import os\n",
    "import pprint\n",
    "import pandas as pd\n",
    "import spotipy\n",
    "import time\n",
    "from spotipy.oauth2 import SpotifyClientCredentials\n",
    "from config import CLIENT_ID, CLIENT_SECRET"
   ]
  },
  {
   "cell_type": "code",
   "execution_count": 6,
   "id": "eee56170",
   "metadata": {},
   "outputs": [
    {
     "data": {
      "text/html": [
       "<div>\n",
       "<style scoped>\n",
       "    .dataframe tbody tr th:only-of-type {\n",
       "        vertical-align: middle;\n",
       "    }\n",
       "\n",
       "    .dataframe tbody tr th {\n",
       "        vertical-align: top;\n",
       "    }\n",
       "\n",
       "    .dataframe thead th {\n",
       "        text-align: right;\n",
       "    }\n",
       "</style>\n",
       "<table border=\"1\" class=\"dataframe\">\n",
       "  <thead>\n",
       "    <tr style=\"text-align: right;\">\n",
       "      <th></th>\n",
       "      <th>Playlist</th>\n",
       "      <th>Followers</th>\n",
       "      <th>Songs</th>\n",
       "      <th>Genre 1</th>\n",
       "      <th>Genre 2</th>\n",
       "      <th>URI</th>\n",
       "      <th>Song URI</th>\n",
       "      <th>Popularity</th>\n",
       "      <th>Artist Name</th>\n",
       "      <th>Song Name</th>\n",
       "    </tr>\n",
       "  </thead>\n",
       "  <tbody>\n",
       "    <tr>\n",
       "      <th>0</th>\n",
       "      <td>It's A Hit!</td>\n",
       "      <td>2,283,522</td>\n",
       "      <td>50</td>\n",
       "      <td>Pop</td>\n",
       "      <td>Alternative</td>\n",
       "      <td>spotify:playlist:37i9dQZF1DWT1y71ZcMPe5</td>\n",
       "      <td>spotify:track:0skYUMpS0AcbpjcGsAbRGj</td>\n",
       "      <td>88</td>\n",
       "      <td>BLACKPINK</td>\n",
       "      <td>Pink Venom</td>\n",
       "    </tr>\n",
       "    <tr>\n",
       "      <th>1</th>\n",
       "      <td>It's A Hit!</td>\n",
       "      <td>2,283,522</td>\n",
       "      <td>50</td>\n",
       "      <td>Pop</td>\n",
       "      <td>Alternative</td>\n",
       "      <td>spotify:playlist:37i9dQZF1DWT1y71ZcMPe5</td>\n",
       "      <td>spotify:track:7up4SX2l8FAnisrUXoGupd</td>\n",
       "      <td>70</td>\n",
       "      <td>Lukas Graham</td>\n",
       "      <td>Wish You Were Here (feat. Khalid)</td>\n",
       "    </tr>\n",
       "    <tr>\n",
       "      <th>2</th>\n",
       "      <td>It's A Hit!</td>\n",
       "      <td>2,283,522</td>\n",
       "      <td>50</td>\n",
       "      <td>Pop</td>\n",
       "      <td>Alternative</td>\n",
       "      <td>spotify:playlist:37i9dQZF1DWT1y71ZcMPe5</td>\n",
       "      <td>spotify:track:4C6Uex2ILwJi9sZXRdmqXp</td>\n",
       "      <td>89</td>\n",
       "      <td>Nicki Minaj</td>\n",
       "      <td>Super Freaky Girl</td>\n",
       "    </tr>\n",
       "    <tr>\n",
       "      <th>3</th>\n",
       "      <td>It's A Hit!</td>\n",
       "      <td>2,283,522</td>\n",
       "      <td>50</td>\n",
       "      <td>Pop</td>\n",
       "      <td>Alternative</td>\n",
       "      <td>spotify:playlist:37i9dQZF1DWT1y71ZcMPe5</td>\n",
       "      <td>spotify:track:0xzI1KAr0Yd9tv8jlIk3sn</td>\n",
       "      <td>90</td>\n",
       "      <td>benny blanco</td>\n",
       "      <td>Bad Decisions (with BTS &amp; Snoop Dogg)</td>\n",
       "    </tr>\n",
       "    <tr>\n",
       "      <th>4</th>\n",
       "      <td>It's A Hit!</td>\n",
       "      <td>2,283,522</td>\n",
       "      <td>50</td>\n",
       "      <td>Pop</td>\n",
       "      <td>Alternative</td>\n",
       "      <td>spotify:playlist:37i9dQZF1DWT1y71ZcMPe5</td>\n",
       "      <td>spotify:track:5rbuv6zso7QSaKt265H3M3</td>\n",
       "      <td>76</td>\n",
       "      <td>NIKI</td>\n",
       "      <td>High School in Jakarta</td>\n",
       "    </tr>\n",
       "  </tbody>\n",
       "</table>\n",
       "</div>"
      ],
      "text/plain": [
       "      Playlist  Followers  Songs Genre 1      Genre 2  \\\n",
       "0  It's A Hit!  2,283,522     50     Pop  Alternative   \n",
       "1  It's A Hit!  2,283,522     50     Pop  Alternative   \n",
       "2  It's A Hit!  2,283,522     50     Pop  Alternative   \n",
       "3  It's A Hit!  2,283,522     50     Pop  Alternative   \n",
       "4  It's A Hit!  2,283,522     50     Pop  Alternative   \n",
       "\n",
       "                                       URI  \\\n",
       "0  spotify:playlist:37i9dQZF1DWT1y71ZcMPe5   \n",
       "1  spotify:playlist:37i9dQZF1DWT1y71ZcMPe5   \n",
       "2  spotify:playlist:37i9dQZF1DWT1y71ZcMPe5   \n",
       "3  spotify:playlist:37i9dQZF1DWT1y71ZcMPe5   \n",
       "4  spotify:playlist:37i9dQZF1DWT1y71ZcMPe5   \n",
       "\n",
       "                               Song URI  Popularity   Artist Name  \\\n",
       "0  spotify:track:0skYUMpS0AcbpjcGsAbRGj          88     BLACKPINK   \n",
       "1  spotify:track:7up4SX2l8FAnisrUXoGupd          70  Lukas Graham   \n",
       "2  spotify:track:4C6Uex2ILwJi9sZXRdmqXp          89   Nicki Minaj   \n",
       "3  spotify:track:0xzI1KAr0Yd9tv8jlIk3sn          90  benny blanco   \n",
       "4  spotify:track:5rbuv6zso7QSaKt265H3M3          76          NIKI   \n",
       "\n",
       "                               Song Name  \n",
       "0                             Pink Venom  \n",
       "1      Wish You Were Here (feat. Khalid)  \n",
       "2                      Super Freaky Girl  \n",
       "3  Bad Decisions (with BTS & Snoop Dogg)  \n",
       "4                 High School in Jakarta  "
      ]
     },
     "execution_count": 6,
     "metadata": {},
     "output_type": "execute_result"
    }
   ],
   "source": [
    "playlist_df = pd.read_csv(f'./Resources/All_100_playlists_songs_cleaned.csv')\n",
    "playlist_df.head()"
   ]
  },
  {
   "cell_type": "code",
   "execution_count": 7,
   "id": "fbbf02b2",
   "metadata": {},
   "outputs": [
    {
     "name": "stdout",
     "output_type": "stream",
     "text": [
      "<class 'pandas.core.frame.DataFrame'>\n",
      "RangeIndex: 8113 entries, 0 to 8112\n",
      "Data columns (total 10 columns):\n",
      " #   Column       Non-Null Count  Dtype \n",
      "---  ------       --------------  ----- \n",
      " 0   Playlist     8113 non-null   object\n",
      " 1   Followers    8113 non-null   object\n",
      " 2   Songs        8113 non-null   int64 \n",
      " 3   Genre 1      8113 non-null   object\n",
      " 4   Genre 2      8113 non-null   object\n",
      " 5   URI          8113 non-null   object\n",
      " 6   Song URI     8113 non-null   object\n",
      " 7   Popularity   8113 non-null   int64 \n",
      " 8   Artist Name  8113 non-null   object\n",
      " 9   Song Name    8113 non-null   object\n",
      "dtypes: int64(2), object(8)\n",
      "memory usage: 634.0+ KB\n"
     ]
    }
   ],
   "source": [
    "playlist_df.info()"
   ]
  },
  {
   "cell_type": "code",
   "execution_count": 8,
   "id": "515e5aee",
   "metadata": {},
   "outputs": [
    {
     "data": {
      "text/plain": [
       "Playlist       8113\n",
       "Followers      8113\n",
       "Songs          8113\n",
       "Genre 1        8113\n",
       "Genre 2        8113\n",
       "URI            8113\n",
       "Song URI       8113\n",
       "Popularity     8113\n",
       "Artist Name    8113\n",
       "Song Name      8113\n",
       "dtype: int64"
      ]
     },
     "execution_count": 8,
     "metadata": {},
     "output_type": "execute_result"
    }
   ],
   "source": [
    "playlist_df.count()"
   ]
  },
  {
   "cell_type": "code",
   "execution_count": 9,
   "id": "e6f09b5b",
   "metadata": {},
   "outputs": [
    {
     "data": {
      "text/plain": [
       "vaporwave                   100\n",
       "Get Turnt                   100\n",
       "Rockin' Vibes               100\n",
       "Bedroom Pop                 100\n",
       "Metropolis                  100\n",
       "                           ... \n",
       "Alternative Hip-Hop          50\n",
       "Baila Reggaeton              50\n",
       "It's A Hit!                  50\n",
       "In The Name Of The Blues     49\n",
       "Dramatic Classical           41\n",
       "Name: Playlist, Length: 100, dtype: int64"
      ]
     },
     "execution_count": 9,
     "metadata": {},
     "output_type": "execute_result"
    }
   ],
   "source": [
    "playlist_df['Playlist'].value_counts()"
   ]
  },
  {
   "cell_type": "code",
   "execution_count": 10,
   "id": "1b484050",
   "metadata": {},
   "outputs": [],
   "source": [
    "# Set environment variables\n",
    "os.environ['SPOTIPY_CLIENT_ID'] = CLIENT_ID\n",
    "os.environ['SPOTIPY_CLIENT_SECRET'] = CLIENT_SECRET"
   ]
  },
  {
   "cell_type": "code",
   "execution_count": 11,
   "id": "7ea78d1d",
   "metadata": {},
   "outputs": [],
   "source": [
    "# instantiate Spotify class\n",
    "sp = spotipy.Spotify(client_credentials_manager=SpotifyClientCredentials())"
   ]
  },
  {
   "cell_type": "code",
   "execution_count": 12,
   "id": "be5c4823",
   "metadata": {},
   "outputs": [],
   "source": [
    "track_uris = playlist_df[\"Song URI\"]"
   ]
  },
  {
   "cell_type": "code",
   "execution_count": 13,
   "id": "6d87fadf",
   "metadata": {},
   "outputs": [
    {
     "data": {
      "text/plain": [
       "0       spotify:track:0skYUMpS0AcbpjcGsAbRGj\n",
       "1       spotify:track:7up4SX2l8FAnisrUXoGupd\n",
       "2       spotify:track:4C6Uex2ILwJi9sZXRdmqXp\n",
       "3       spotify:track:0xzI1KAr0Yd9tv8jlIk3sn\n",
       "4       spotify:track:5rbuv6zso7QSaKt265H3M3\n",
       "                        ...                 \n",
       "8108    spotify:track:6kNOYOpdMy0w67fC4XPc0q\n",
       "8109    spotify:track:5o9CWfDLfSLJ22BtUSMLBt\n",
       "8110    spotify:track:1f8G4jvkONnLMxJMx7V2Ck\n",
       "8111    spotify:track:4Yzy5bGrMOlLpYcOtWxGIM\n",
       "8112    spotify:track:45iaKryj5SvdzinlHHrDlL\n",
       "Name: Song URI, Length: 8113, dtype: object"
      ]
     },
     "execution_count": 13,
     "metadata": {},
     "output_type": "execute_result"
    }
   ],
   "source": [
    "track_uris"
   ]
  },
  {
   "cell_type": "markdown",
   "id": "687a3f44",
   "metadata": {},
   "source": [
    "### audio_features\n",
    "Get audio features for one or multiple tracks based upon their Spotify IDs Parameters\n",
    "> audio_features(tracks=[])\n",
    "\n",
    "- tracks - a list of track URIs, URLs or IDs, maximum: 100 ids"
   ]
  },
  {
   "cell_type": "code",
   "execution_count": 14,
   "id": "b7dc0fea",
   "metadata": {},
   "outputs": [],
   "source": [
    "split_tracks = [track_uris[i:i + 100] for i in range(0, len(track_uris), 100)]"
   ]
  },
  {
   "cell_type": "code",
   "execution_count": 15,
   "id": "f2b246a6",
   "metadata": {},
   "outputs": [
    {
     "data": {
      "text/plain": [
       "8113"
      ]
     },
     "execution_count": 15,
     "metadata": {},
     "output_type": "execute_result"
    }
   ],
   "source": [
    "len(track_uris)"
   ]
  },
  {
   "cell_type": "code",
   "execution_count": 16,
   "id": "e91893d0",
   "metadata": {},
   "outputs": [
    {
     "data": {
      "text/plain": [
       "82"
      ]
     },
     "execution_count": 16,
     "metadata": {},
     "output_type": "execute_result"
    }
   ],
   "source": [
    "len(split_tracks)"
   ]
  },
  {
   "cell_type": "code",
   "execution_count": 17,
   "id": "d6185cca",
   "metadata": {},
   "outputs": [
    {
     "data": {
      "text/plain": [
       "'spotify:track:0skYUMpS0AcbpjcGsAbRGj'"
      ]
     },
     "execution_count": 17,
     "metadata": {},
     "output_type": "execute_result"
    }
   ],
   "source": [
    "split_tracks[0][0]"
   ]
  },
  {
   "cell_type": "code",
   "execution_count": 18,
   "id": "5931854b",
   "metadata": {},
   "outputs": [
    {
     "name": "stdout",
     "output_type": "stream",
     "text": [
      "100\n",
      "200\n",
      "300\n",
      "400\n",
      "500\n",
      "600\n",
      "700\n",
      "800\n",
      "900\n",
      "1000\n",
      "1100\n",
      "1200\n",
      "1300\n",
      "1400\n",
      "1500\n",
      "1600\n",
      "1700\n",
      "1800\n",
      "1900\n",
      "2000\n",
      "2100\n",
      "2200\n",
      "2300\n",
      "2400\n",
      "2500\n",
      "2600\n",
      "2700\n",
      "2800\n",
      "2900\n",
      "3000\n",
      "3100\n",
      "3200\n",
      "3300\n",
      "3400\n",
      "3500\n",
      "3600\n",
      "3700\n",
      "3800\n",
      "3900\n",
      "4000\n",
      "4100\n",
      "4200\n",
      "4300\n",
      "4400\n",
      "4500\n",
      "4600\n",
      "4700\n",
      "4800\n",
      "4900\n",
      "5000\n",
      "5100\n",
      "5200\n",
      "5300\n",
      "5400\n",
      "5500\n",
      "5600\n",
      "5700\n",
      "5800\n",
      "5900\n",
      "6000\n",
      "6100\n",
      "6200\n",
      "6300\n",
      "6400\n",
      "6500\n",
      "6600\n",
      "6700\n",
      "6800\n",
      "6900\n",
      "7000\n",
      "7100\n",
      "7200\n",
      "7300\n",
      "7400\n",
      "7500\n",
      "7600\n",
      "7700\n",
      "7800\n",
      "7900\n",
      "8000\n",
      "8100\n",
      "8113\n"
     ]
    }
   ],
   "source": [
    "# create empty list\n",
    "track_list = []\n",
    "\n",
    "# loop amount\n",
    "n = 82\n",
    "\n",
    "# loop n number of times\n",
    "for i in range(0, n):\n",
    "    \n",
    "    # sleep for 30 seconds between each set of 100 tracks to avoid API rate limit\n",
    "    time.sleep(30)\n",
    "    \n",
    "    # pull audio features\n",
    "    tracks = sp.audio_features(split_tracks[i])\n",
    "    \n",
    "    # add audio features to list\n",
    "    track_list = track_list + tracks\n",
    "    \n",
    "    # watch the track list grow\n",
    "    print(len(track_list))"
   ]
  },
  {
   "cell_type": "code",
   "execution_count": 19,
   "id": "9ee77a2a",
   "metadata": {},
   "outputs": [],
   "source": [
    "# remove None values\n",
    "track_list = [i for i in track_list if i is not None]"
   ]
  },
  {
   "cell_type": "code",
   "execution_count": 20,
   "id": "eda18525",
   "metadata": {},
   "outputs": [],
   "source": [
    "# convert the complete list to a dataframe    \n",
    "track_df = pd.DataFrame.from_records(track_list)"
   ]
  },
  {
   "cell_type": "code",
   "execution_count": 21,
   "id": "bf1093a8",
   "metadata": {},
   "outputs": [
    {
     "data": {
      "text/plain": [
       "8105"
      ]
     },
     "execution_count": 21,
     "metadata": {},
     "output_type": "execute_result"
    }
   ],
   "source": [
    "len(track_list)"
   ]
  },
  {
   "cell_type": "code",
   "execution_count": 22,
   "id": "dcab81d6",
   "metadata": {},
   "outputs": [
    {
     "name": "stdout",
     "output_type": "stream",
     "text": [
      "<class 'pandas.core.frame.DataFrame'>\n",
      "RangeIndex: 8105 entries, 0 to 8104\n",
      "Data columns (total 18 columns):\n",
      " #   Column            Non-Null Count  Dtype  \n",
      "---  ------            --------------  -----  \n",
      " 0   danceability      8105 non-null   float64\n",
      " 1   energy            8105 non-null   float64\n",
      " 2   key               8105 non-null   int64  \n",
      " 3   loudness          8105 non-null   float64\n",
      " 4   mode              8105 non-null   int64  \n",
      " 5   speechiness       8105 non-null   float64\n",
      " 6   acousticness      8105 non-null   float64\n",
      " 7   instrumentalness  8105 non-null   float64\n",
      " 8   liveness          8105 non-null   float64\n",
      " 9   valence           8105 non-null   float64\n",
      " 10  tempo             8105 non-null   float64\n",
      " 11  type              8105 non-null   object \n",
      " 12  id                8105 non-null   object \n",
      " 13  uri               8105 non-null   object \n",
      " 14  track_href        8105 non-null   object \n",
      " 15  analysis_url      8105 non-null   object \n",
      " 16  duration_ms       8105 non-null   int64  \n",
      " 17  time_signature    8105 non-null   int64  \n",
      "dtypes: float64(9), int64(4), object(5)\n",
      "memory usage: 1.1+ MB\n"
     ]
    }
   ],
   "source": [
    "track_df.info()"
   ]
  },
  {
   "cell_type": "code",
   "execution_count": 23,
   "id": "39d77e3e",
   "metadata": {},
   "outputs": [
    {
     "data": {
      "text/plain": [
       "{'danceability': 0.798,\n",
       " 'energy': 0.697,\n",
       " 'key': 0,\n",
       " 'loudness': -7.139,\n",
       " 'mode': 1,\n",
       " 'speechiness': 0.0891,\n",
       " 'acousticness': 0.0202,\n",
       " 'instrumentalness': 0,\n",
       " 'liveness': 0.259,\n",
       " 'valence': 0.745,\n",
       " 'tempo': 90.031,\n",
       " 'type': 'audio_features',\n",
       " 'id': '0skYUMpS0AcbpjcGsAbRGj',\n",
       " 'uri': 'spotify:track:0skYUMpS0AcbpjcGsAbRGj',\n",
       " 'track_href': 'https://api.spotify.com/v1/tracks/0skYUMpS0AcbpjcGsAbRGj',\n",
       " 'analysis_url': 'https://api.spotify.com/v1/audio-analysis/0skYUMpS0AcbpjcGsAbRGj',\n",
       " 'duration_ms': 186964,\n",
       " 'time_signature': 4}"
      ]
     },
     "execution_count": 23,
     "metadata": {},
     "output_type": "execute_result"
    }
   ],
   "source": [
    "# view one track\n",
    "track_list[0]"
   ]
  },
  {
   "cell_type": "code",
   "execution_count": 24,
   "id": "69230538",
   "metadata": {},
   "outputs": [
    {
     "data": {
      "text/plain": [
       "list"
      ]
     },
     "execution_count": 24,
     "metadata": {},
     "output_type": "execute_result"
    }
   ],
   "source": [
    "type(track_list)"
   ]
  },
  {
   "cell_type": "code",
   "execution_count": 25,
   "id": "349826d9",
   "metadata": {},
   "outputs": [
    {
     "data": {
      "text/plain": [
       "dict"
      ]
     },
     "execution_count": 25,
     "metadata": {},
     "output_type": "execute_result"
    }
   ],
   "source": [
    "type(track_list[0])"
   ]
  },
  {
   "cell_type": "code",
   "execution_count": 26,
   "id": "b90e4599",
   "metadata": {},
   "outputs": [
    {
     "data": {
      "text/plain": [
       "list"
      ]
     },
     "execution_count": 26,
     "metadata": {},
     "output_type": "execute_result"
    }
   ],
   "source": [
    "type(tracks)"
   ]
  },
  {
   "cell_type": "code",
   "execution_count": 27,
   "id": "03db13fb",
   "metadata": {},
   "outputs": [
    {
     "data": {
      "text/plain": [
       "pandas.core.frame.DataFrame"
      ]
     },
     "execution_count": 27,
     "metadata": {},
     "output_type": "execute_result"
    }
   ],
   "source": [
    "type(track_df)"
   ]
  },
  {
   "cell_type": "code",
   "execution_count": 28,
   "id": "898126fa",
   "metadata": {},
   "outputs": [
    {
     "data": {
      "text/html": [
       "<div>\n",
       "<style scoped>\n",
       "    .dataframe tbody tr th:only-of-type {\n",
       "        vertical-align: middle;\n",
       "    }\n",
       "\n",
       "    .dataframe tbody tr th {\n",
       "        vertical-align: top;\n",
       "    }\n",
       "\n",
       "    .dataframe thead th {\n",
       "        text-align: right;\n",
       "    }\n",
       "</style>\n",
       "<table border=\"1\" class=\"dataframe\">\n",
       "  <thead>\n",
       "    <tr style=\"text-align: right;\">\n",
       "      <th></th>\n",
       "      <th>danceability</th>\n",
       "      <th>energy</th>\n",
       "      <th>key</th>\n",
       "      <th>loudness</th>\n",
       "      <th>mode</th>\n",
       "      <th>speechiness</th>\n",
       "      <th>acousticness</th>\n",
       "      <th>instrumentalness</th>\n",
       "      <th>liveness</th>\n",
       "      <th>valence</th>\n",
       "      <th>tempo</th>\n",
       "      <th>type</th>\n",
       "      <th>id</th>\n",
       "      <th>uri</th>\n",
       "      <th>track_href</th>\n",
       "      <th>analysis_url</th>\n",
       "      <th>duration_ms</th>\n",
       "      <th>time_signature</th>\n",
       "    </tr>\n",
       "  </thead>\n",
       "  <tbody>\n",
       "    <tr>\n",
       "      <th>0</th>\n",
       "      <td>0.798</td>\n",
       "      <td>0.697</td>\n",
       "      <td>0</td>\n",
       "      <td>-7.139</td>\n",
       "      <td>1</td>\n",
       "      <td>0.0891</td>\n",
       "      <td>0.020200</td>\n",
       "      <td>0.000000</td>\n",
       "      <td>0.2590</td>\n",
       "      <td>0.745</td>\n",
       "      <td>90.031</td>\n",
       "      <td>audio_features</td>\n",
       "      <td>0skYUMpS0AcbpjcGsAbRGj</td>\n",
       "      <td>spotify:track:0skYUMpS0AcbpjcGsAbRGj</td>\n",
       "      <td>https://api.spotify.com/v1/tracks/0skYUMpS0Acb...</td>\n",
       "      <td>https://api.spotify.com/v1/audio-analysis/0skY...</td>\n",
       "      <td>186964</td>\n",
       "      <td>4</td>\n",
       "    </tr>\n",
       "    <tr>\n",
       "      <th>1</th>\n",
       "      <td>0.646</td>\n",
       "      <td>0.640</td>\n",
       "      <td>8</td>\n",
       "      <td>-5.554</td>\n",
       "      <td>1</td>\n",
       "      <td>0.0304</td>\n",
       "      <td>0.001190</td>\n",
       "      <td>0.000000</td>\n",
       "      <td>0.1380</td>\n",
       "      <td>0.127</td>\n",
       "      <td>105.957</td>\n",
       "      <td>audio_features</td>\n",
       "      <td>7up4SX2l8FAnisrUXoGupd</td>\n",
       "      <td>spotify:track:7up4SX2l8FAnisrUXoGupd</td>\n",
       "      <td>https://api.spotify.com/v1/tracks/7up4SX2l8FAn...</td>\n",
       "      <td>https://api.spotify.com/v1/audio-analysis/7up4...</td>\n",
       "      <td>175699</td>\n",
       "      <td>4</td>\n",
       "    </tr>\n",
       "    <tr>\n",
       "      <th>2</th>\n",
       "      <td>0.950</td>\n",
       "      <td>0.891</td>\n",
       "      <td>2</td>\n",
       "      <td>-2.653</td>\n",
       "      <td>1</td>\n",
       "      <td>0.2410</td>\n",
       "      <td>0.064500</td>\n",
       "      <td>0.000018</td>\n",
       "      <td>0.3090</td>\n",
       "      <td>0.912</td>\n",
       "      <td>133.010</td>\n",
       "      <td>audio_features</td>\n",
       "      <td>4C6Uex2ILwJi9sZXRdmqXp</td>\n",
       "      <td>spotify:track:4C6Uex2ILwJi9sZXRdmqXp</td>\n",
       "      <td>https://api.spotify.com/v1/tracks/4C6Uex2ILwJi...</td>\n",
       "      <td>https://api.spotify.com/v1/audio-analysis/4C6U...</td>\n",
       "      <td>170977</td>\n",
       "      <td>4</td>\n",
       "    </tr>\n",
       "    <tr>\n",
       "      <th>3</th>\n",
       "      <td>0.762</td>\n",
       "      <td>0.861</td>\n",
       "      <td>0</td>\n",
       "      <td>-3.296</td>\n",
       "      <td>1</td>\n",
       "      <td>0.0955</td>\n",
       "      <td>0.018500</td>\n",
       "      <td>0.000000</td>\n",
       "      <td>0.2640</td>\n",
       "      <td>0.955</td>\n",
       "      <td>120.048</td>\n",
       "      <td>audio_features</td>\n",
       "      <td>0xzI1KAr0Yd9tv8jlIk3sn</td>\n",
       "      <td>spotify:track:0xzI1KAr0Yd9tv8jlIk3sn</td>\n",
       "      <td>https://api.spotify.com/v1/tracks/0xzI1KAr0Yd9...</td>\n",
       "      <td>https://api.spotify.com/v1/audio-analysis/0xzI...</td>\n",
       "      <td>172714</td>\n",
       "      <td>4</td>\n",
       "    </tr>\n",
       "    <tr>\n",
       "      <th>4</th>\n",
       "      <td>0.871</td>\n",
       "      <td>0.485</td>\n",
       "      <td>7</td>\n",
       "      <td>-8.294</td>\n",
       "      <td>0</td>\n",
       "      <td>0.0411</td>\n",
       "      <td>0.527000</td>\n",
       "      <td>0.000074</td>\n",
       "      <td>0.1690</td>\n",
       "      <td>0.494</td>\n",
       "      <td>119.976</td>\n",
       "      <td>audio_features</td>\n",
       "      <td>5rbuv6zso7QSaKt265H3M3</td>\n",
       "      <td>spotify:track:5rbuv6zso7QSaKt265H3M3</td>\n",
       "      <td>https://api.spotify.com/v1/tracks/5rbuv6zso7QS...</td>\n",
       "      <td>https://api.spotify.com/v1/audio-analysis/5rbu...</td>\n",
       "      <td>219036</td>\n",
       "      <td>4</td>\n",
       "    </tr>\n",
       "    <tr>\n",
       "      <th>...</th>\n",
       "      <td>...</td>\n",
       "      <td>...</td>\n",
       "      <td>...</td>\n",
       "      <td>...</td>\n",
       "      <td>...</td>\n",
       "      <td>...</td>\n",
       "      <td>...</td>\n",
       "      <td>...</td>\n",
       "      <td>...</td>\n",
       "      <td>...</td>\n",
       "      <td>...</td>\n",
       "      <td>...</td>\n",
       "      <td>...</td>\n",
       "      <td>...</td>\n",
       "      <td>...</td>\n",
       "      <td>...</td>\n",
       "      <td>...</td>\n",
       "      <td>...</td>\n",
       "    </tr>\n",
       "    <tr>\n",
       "      <th>8100</th>\n",
       "      <td>0.479</td>\n",
       "      <td>0.938</td>\n",
       "      <td>2</td>\n",
       "      <td>-3.058</td>\n",
       "      <td>1</td>\n",
       "      <td>0.0376</td>\n",
       "      <td>0.000075</td>\n",
       "      <td>0.000153</td>\n",
       "      <td>0.1170</td>\n",
       "      <td>0.431</td>\n",
       "      <td>140.056</td>\n",
       "      <td>audio_features</td>\n",
       "      <td>6kNOYOpdMy0w67fC4XPc0q</td>\n",
       "      <td>spotify:track:6kNOYOpdMy0w67fC4XPc0q</td>\n",
       "      <td>https://api.spotify.com/v1/tracks/6kNOYOpdMy0w...</td>\n",
       "      <td>https://api.spotify.com/v1/audio-analysis/6kNO...</td>\n",
       "      <td>264467</td>\n",
       "      <td>4</td>\n",
       "    </tr>\n",
       "    <tr>\n",
       "      <th>8101</th>\n",
       "      <td>0.582</td>\n",
       "      <td>0.730</td>\n",
       "      <td>11</td>\n",
       "      <td>-7.678</td>\n",
       "      <td>1</td>\n",
       "      <td>0.0402</td>\n",
       "      <td>0.260000</td>\n",
       "      <td>0.000004</td>\n",
       "      <td>0.1100</td>\n",
       "      <td>0.240</td>\n",
       "      <td>129.981</td>\n",
       "      <td>audio_features</td>\n",
       "      <td>5o9CWfDLfSLJ22BtUSMLBt</td>\n",
       "      <td>spotify:track:5o9CWfDLfSLJ22BtUSMLBt</td>\n",
       "      <td>https://api.spotify.com/v1/tracks/5o9CWfDLfSLJ...</td>\n",
       "      <td>https://api.spotify.com/v1/audio-analysis/5o9C...</td>\n",
       "      <td>201668</td>\n",
       "      <td>4</td>\n",
       "    </tr>\n",
       "    <tr>\n",
       "      <th>8102</th>\n",
       "      <td>0.481</td>\n",
       "      <td>0.917</td>\n",
       "      <td>2</td>\n",
       "      <td>-3.366</td>\n",
       "      <td>1</td>\n",
       "      <td>0.0385</td>\n",
       "      <td>0.001040</td>\n",
       "      <td>0.000004</td>\n",
       "      <td>0.3980</td>\n",
       "      <td>0.377</td>\n",
       "      <td>108.747</td>\n",
       "      <td>audio_features</td>\n",
       "      <td>1f8G4jvkONnLMxJMx7V2Ck</td>\n",
       "      <td>spotify:track:1f8G4jvkONnLMxJMx7V2Ck</td>\n",
       "      <td>https://api.spotify.com/v1/tracks/1f8G4jvkONnL...</td>\n",
       "      <td>https://api.spotify.com/v1/audio-analysis/1f8G...</td>\n",
       "      <td>185317</td>\n",
       "      <td>4</td>\n",
       "    </tr>\n",
       "    <tr>\n",
       "      <th>8103</th>\n",
       "      <td>0.628</td>\n",
       "      <td>0.787</td>\n",
       "      <td>4</td>\n",
       "      <td>-6.540</td>\n",
       "      <td>1</td>\n",
       "      <td>0.0328</td>\n",
       "      <td>0.003760</td>\n",
       "      <td>0.027200</td>\n",
       "      <td>0.0872</td>\n",
       "      <td>0.611</td>\n",
       "      <td>137.981</td>\n",
       "      <td>audio_features</td>\n",
       "      <td>4Yzy5bGrMOlLpYcOtWxGIM</td>\n",
       "      <td>spotify:track:4Yzy5bGrMOlLpYcOtWxGIM</td>\n",
       "      <td>https://api.spotify.com/v1/tracks/4Yzy5bGrMOlL...</td>\n",
       "      <td>https://api.spotify.com/v1/audio-analysis/4Yzy...</td>\n",
       "      <td>179947</td>\n",
       "      <td>4</td>\n",
       "    </tr>\n",
       "    <tr>\n",
       "      <th>8104</th>\n",
       "      <td>0.384</td>\n",
       "      <td>0.623</td>\n",
       "      <td>2</td>\n",
       "      <td>-8.022</td>\n",
       "      <td>0</td>\n",
       "      <td>0.0282</td>\n",
       "      <td>0.104000</td>\n",
       "      <td>0.207000</td>\n",
       "      <td>0.1270</td>\n",
       "      <td>0.458</td>\n",
       "      <td>77.067</td>\n",
       "      <td>audio_features</td>\n",
       "      <td>45iaKryj5SvdzinlHHrDlL</td>\n",
       "      <td>spotify:track:45iaKryj5SvdzinlHHrDlL</td>\n",
       "      <td>https://api.spotify.com/v1/tracks/45iaKryj5Svd...</td>\n",
       "      <td>https://api.spotify.com/v1/audio-analysis/45ia...</td>\n",
       "      <td>310840</td>\n",
       "      <td>4</td>\n",
       "    </tr>\n",
       "  </tbody>\n",
       "</table>\n",
       "<p>8105 rows × 18 columns</p>\n",
       "</div>"
      ],
      "text/plain": [
       "      danceability  energy  key  loudness  mode  speechiness  acousticness  \\\n",
       "0            0.798   0.697    0    -7.139     1       0.0891      0.020200   \n",
       "1            0.646   0.640    8    -5.554     1       0.0304      0.001190   \n",
       "2            0.950   0.891    2    -2.653     1       0.2410      0.064500   \n",
       "3            0.762   0.861    0    -3.296     1       0.0955      0.018500   \n",
       "4            0.871   0.485    7    -8.294     0       0.0411      0.527000   \n",
       "...            ...     ...  ...       ...   ...          ...           ...   \n",
       "8100         0.479   0.938    2    -3.058     1       0.0376      0.000075   \n",
       "8101         0.582   0.730   11    -7.678     1       0.0402      0.260000   \n",
       "8102         0.481   0.917    2    -3.366     1       0.0385      0.001040   \n",
       "8103         0.628   0.787    4    -6.540     1       0.0328      0.003760   \n",
       "8104         0.384   0.623    2    -8.022     0       0.0282      0.104000   \n",
       "\n",
       "      instrumentalness  liveness  valence    tempo            type  \\\n",
       "0             0.000000    0.2590    0.745   90.031  audio_features   \n",
       "1             0.000000    0.1380    0.127  105.957  audio_features   \n",
       "2             0.000018    0.3090    0.912  133.010  audio_features   \n",
       "3             0.000000    0.2640    0.955  120.048  audio_features   \n",
       "4             0.000074    0.1690    0.494  119.976  audio_features   \n",
       "...                ...       ...      ...      ...             ...   \n",
       "8100          0.000153    0.1170    0.431  140.056  audio_features   \n",
       "8101          0.000004    0.1100    0.240  129.981  audio_features   \n",
       "8102          0.000004    0.3980    0.377  108.747  audio_features   \n",
       "8103          0.027200    0.0872    0.611  137.981  audio_features   \n",
       "8104          0.207000    0.1270    0.458   77.067  audio_features   \n",
       "\n",
       "                          id                                   uri  \\\n",
       "0     0skYUMpS0AcbpjcGsAbRGj  spotify:track:0skYUMpS0AcbpjcGsAbRGj   \n",
       "1     7up4SX2l8FAnisrUXoGupd  spotify:track:7up4SX2l8FAnisrUXoGupd   \n",
       "2     4C6Uex2ILwJi9sZXRdmqXp  spotify:track:4C6Uex2ILwJi9sZXRdmqXp   \n",
       "3     0xzI1KAr0Yd9tv8jlIk3sn  spotify:track:0xzI1KAr0Yd9tv8jlIk3sn   \n",
       "4     5rbuv6zso7QSaKt265H3M3  spotify:track:5rbuv6zso7QSaKt265H3M3   \n",
       "...                      ...                                   ...   \n",
       "8100  6kNOYOpdMy0w67fC4XPc0q  spotify:track:6kNOYOpdMy0w67fC4XPc0q   \n",
       "8101  5o9CWfDLfSLJ22BtUSMLBt  spotify:track:5o9CWfDLfSLJ22BtUSMLBt   \n",
       "8102  1f8G4jvkONnLMxJMx7V2Ck  spotify:track:1f8G4jvkONnLMxJMx7V2Ck   \n",
       "8103  4Yzy5bGrMOlLpYcOtWxGIM  spotify:track:4Yzy5bGrMOlLpYcOtWxGIM   \n",
       "8104  45iaKryj5SvdzinlHHrDlL  spotify:track:45iaKryj5SvdzinlHHrDlL   \n",
       "\n",
       "                                             track_href  \\\n",
       "0     https://api.spotify.com/v1/tracks/0skYUMpS0Acb...   \n",
       "1     https://api.spotify.com/v1/tracks/7up4SX2l8FAn...   \n",
       "2     https://api.spotify.com/v1/tracks/4C6Uex2ILwJi...   \n",
       "3     https://api.spotify.com/v1/tracks/0xzI1KAr0Yd9...   \n",
       "4     https://api.spotify.com/v1/tracks/5rbuv6zso7QS...   \n",
       "...                                                 ...   \n",
       "8100  https://api.spotify.com/v1/tracks/6kNOYOpdMy0w...   \n",
       "8101  https://api.spotify.com/v1/tracks/5o9CWfDLfSLJ...   \n",
       "8102  https://api.spotify.com/v1/tracks/1f8G4jvkONnL...   \n",
       "8103  https://api.spotify.com/v1/tracks/4Yzy5bGrMOlL...   \n",
       "8104  https://api.spotify.com/v1/tracks/45iaKryj5Svd...   \n",
       "\n",
       "                                           analysis_url  duration_ms  \\\n",
       "0     https://api.spotify.com/v1/audio-analysis/0skY...       186964   \n",
       "1     https://api.spotify.com/v1/audio-analysis/7up4...       175699   \n",
       "2     https://api.spotify.com/v1/audio-analysis/4C6U...       170977   \n",
       "3     https://api.spotify.com/v1/audio-analysis/0xzI...       172714   \n",
       "4     https://api.spotify.com/v1/audio-analysis/5rbu...       219036   \n",
       "...                                                 ...          ...   \n",
       "8100  https://api.spotify.com/v1/audio-analysis/6kNO...       264467   \n",
       "8101  https://api.spotify.com/v1/audio-analysis/5o9C...       201668   \n",
       "8102  https://api.spotify.com/v1/audio-analysis/1f8G...       185317   \n",
       "8103  https://api.spotify.com/v1/audio-analysis/4Yzy...       179947   \n",
       "8104  https://api.spotify.com/v1/audio-analysis/45ia...       310840   \n",
       "\n",
       "      time_signature  \n",
       "0                  4  \n",
       "1                  4  \n",
       "2                  4  \n",
       "3                  4  \n",
       "4                  4  \n",
       "...              ...  \n",
       "8100               4  \n",
       "8101               4  \n",
       "8102               4  \n",
       "8103               4  \n",
       "8104               4  \n",
       "\n",
       "[8105 rows x 18 columns]"
      ]
     },
     "execution_count": 28,
     "metadata": {},
     "output_type": "execute_result"
    }
   ],
   "source": [
    "track_df"
   ]
  },
  {
   "cell_type": "code",
   "execution_count": 29,
   "id": "82554cea",
   "metadata": {},
   "outputs": [],
   "source": [
    "track_df.to_csv('Resources/features.csv')"
   ]
  },
  {
   "cell_type": "code",
   "execution_count": null,
   "id": "9ced6539",
   "metadata": {},
   "outputs": [],
   "source": []
  }
 ],
 "metadata": {
  "kernelspec": {
   "display_name": "PythonData",
   "language": "python",
   "name": "pythondata"
  },
  "language_info": {
   "codemirror_mode": {
    "name": "ipython",
    "version": 3
   },
   "file_extension": ".py",
   "mimetype": "text/x-python",
   "name": "python",
   "nbconvert_exporter": "python",
   "pygments_lexer": "ipython3",
   "version": "3.7.11"
  }
 },
 "nbformat": 4,
 "nbformat_minor": 5
}
