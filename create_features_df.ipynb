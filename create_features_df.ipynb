{
 "cells": [
  {
   "cell_type": "code",
   "execution_count": 1,
   "id": "02f55353",
   "metadata": {},
   "outputs": [],
   "source": [
    "from config import CLIENT_ID, CLIENT_SECRET\n",
    "import os\n",
    "import pprint\n",
    "import pandas as pd\n",
    "import spotipy\n",
    "from spotipy.oauth2 import SpotifyClientCredentials"
   ]
  },
  {
   "cell_type": "code",
   "execution_count": 2,
   "id": "eee56170",
   "metadata": {},
   "outputs": [
    {
     "data": {
      "text/html": [
       "<div>\n",
       "<style scoped>\n",
       "    .dataframe tbody tr th:only-of-type {\n",
       "        vertical-align: middle;\n",
       "    }\n",
       "\n",
       "    .dataframe tbody tr th {\n",
       "        vertical-align: top;\n",
       "    }\n",
       "\n",
       "    .dataframe thead th {\n",
       "        text-align: right;\n",
       "    }\n",
       "</style>\n",
       "<table border=\"1\" class=\"dataframe\">\n",
       "  <thead>\n",
       "    <tr style=\"text-align: right;\">\n",
       "      <th></th>\n",
       "      <th>playlist_name</th>\n",
       "      <th>followers</th>\n",
       "      <th>songs</th>\n",
       "      <th>genre_1</th>\n",
       "      <th>genre_2</th>\n",
       "      <th>playlist_uri</th>\n",
       "      <th>track_uri</th>\n",
       "      <th>popularity</th>\n",
       "      <th>artist_name</th>\n",
       "      <th>song_name</th>\n",
       "    </tr>\n",
       "  </thead>\n",
       "  <tbody>\n",
       "    <tr>\n",
       "      <th>0</th>\n",
       "      <td>Today’s Top Hits</td>\n",
       "      <td>31,728,611</td>\n",
       "      <td>50</td>\n",
       "      <td>Pop</td>\n",
       "      <td>R&amp;B</td>\n",
       "      <td>spotify:playlist:37i9dQZF1DXcBWIGoYBM5M</td>\n",
       "      <td>spotify:track:0skYUMpS0AcbpjcGsAbRGj</td>\n",
       "      <td>87</td>\n",
       "      <td>BLACKPINK</td>\n",
       "      <td>Pink Venom</td>\n",
       "    </tr>\n",
       "    <tr>\n",
       "      <th>1</th>\n",
       "      <td>Today’s Top Hits</td>\n",
       "      <td>31,728,611</td>\n",
       "      <td>50</td>\n",
       "      <td>Pop</td>\n",
       "      <td>R&amp;B</td>\n",
       "      <td>spotify:playlist:37i9dQZF1DXcBWIGoYBM5M</td>\n",
       "      <td>spotify:track:0O6u0VJ46W86TxN9wgyqDj</td>\n",
       "      <td>91</td>\n",
       "      <td>Post Malone</td>\n",
       "      <td>I Like You (A Happier Song) (with Doja Cat)</td>\n",
       "    </tr>\n",
       "    <tr>\n",
       "      <th>2</th>\n",
       "      <td>Today’s Top Hits</td>\n",
       "      <td>31,728,611</td>\n",
       "      <td>50</td>\n",
       "      <td>Pop</td>\n",
       "      <td>R&amp;B</td>\n",
       "      <td>spotify:playlist:37i9dQZF1DXcBWIGoYBM5M</td>\n",
       "      <td>spotify:track:4LRPiXqCikLlN15c3yImP7</td>\n",
       "      <td>96</td>\n",
       "      <td>Harry Styles</td>\n",
       "      <td>As It Was</td>\n",
       "    </tr>\n",
       "    <tr>\n",
       "      <th>3</th>\n",
       "      <td>Today’s Top Hits</td>\n",
       "      <td>31,728,611</td>\n",
       "      <td>50</td>\n",
       "      <td>Pop</td>\n",
       "      <td>R&amp;B</td>\n",
       "      <td>spotify:playlist:37i9dQZF1DXcBWIGoYBM5M</td>\n",
       "      <td>spotify:track:4h9wh7iOZ0GGn8QVp4RAOB</td>\n",
       "      <td>93</td>\n",
       "      <td>OneRepublic</td>\n",
       "      <td>I Ain't Worried</td>\n",
       "    </tr>\n",
       "    <tr>\n",
       "      <th>4</th>\n",
       "      <td>Today’s Top Hits</td>\n",
       "      <td>31,728,611</td>\n",
       "      <td>50</td>\n",
       "      <td>Pop</td>\n",
       "      <td>R&amp;B</td>\n",
       "      <td>spotify:playlist:37i9dQZF1DXcBWIGoYBM5M</td>\n",
       "      <td>spotify:track:1PckUlxKqWQs3RlWXVBLw3</td>\n",
       "      <td>91</td>\n",
       "      <td>Lizzo</td>\n",
       "      <td>About Damn Time</td>\n",
       "    </tr>\n",
       "  </tbody>\n",
       "</table>\n",
       "</div>"
      ],
      "text/plain": [
       "      playlist_name   followers  songs genre_1 genre_2  \\\n",
       "0  Today’s Top Hits  31,728,611     50     Pop     R&B   \n",
       "1  Today’s Top Hits  31,728,611     50     Pop     R&B   \n",
       "2  Today’s Top Hits  31,728,611     50     Pop     R&B   \n",
       "3  Today’s Top Hits  31,728,611     50     Pop     R&B   \n",
       "4  Today’s Top Hits  31,728,611     50     Pop     R&B   \n",
       "\n",
       "                              playlist_uri  \\\n",
       "0  spotify:playlist:37i9dQZF1DXcBWIGoYBM5M   \n",
       "1  spotify:playlist:37i9dQZF1DXcBWIGoYBM5M   \n",
       "2  spotify:playlist:37i9dQZF1DXcBWIGoYBM5M   \n",
       "3  spotify:playlist:37i9dQZF1DXcBWIGoYBM5M   \n",
       "4  spotify:playlist:37i9dQZF1DXcBWIGoYBM5M   \n",
       "\n",
       "                              track_uri  popularity   artist_name  \\\n",
       "0  spotify:track:0skYUMpS0AcbpjcGsAbRGj          87     BLACKPINK   \n",
       "1  spotify:track:0O6u0VJ46W86TxN9wgyqDj          91   Post Malone   \n",
       "2  spotify:track:4LRPiXqCikLlN15c3yImP7          96  Harry Styles   \n",
       "3  spotify:track:4h9wh7iOZ0GGn8QVp4RAOB          93   OneRepublic   \n",
       "4  spotify:track:1PckUlxKqWQs3RlWXVBLw3          91         Lizzo   \n",
       "\n",
       "                                     song_name  \n",
       "0                                   Pink Venom  \n",
       "1  I Like You (A Happier Song) (with Doja Cat)  \n",
       "2                                    As It Was  \n",
       "3                              I Ain't Worried  \n",
       "4                              About Damn Time  "
      ]
     },
     "execution_count": 2,
     "metadata": {},
     "output_type": "execute_result"
    }
   ],
   "source": [
    "playlist_df = pd.read_csv(f'./Resources/cleaned_playlists.csv', index_col=0)\n",
    "playlist_df.head()"
   ]
  },
  {
   "cell_type": "code",
   "execution_count": 3,
   "id": "1b484050",
   "metadata": {},
   "outputs": [],
   "source": [
    "# Set environment variables\n",
    "os.environ['SPOTIPY_CLIENT_ID'] = CLIENT_ID\n",
    "os.environ['SPOTIPY_CLIENT_SECRET'] = CLIENT_SECRET"
   ]
  },
  {
   "cell_type": "code",
   "execution_count": 4,
   "id": "7ea78d1d",
   "metadata": {},
   "outputs": [],
   "source": [
    "# instantiate Spotify class\n",
    "sp = spotipy.Spotify(client_credentials_manager=SpotifyClientCredentials())"
   ]
  },
  {
   "cell_type": "code",
   "execution_count": 5,
   "id": "be5c4823",
   "metadata": {},
   "outputs": [],
   "source": [
    "track_uris = playlist_df.track_uri"
   ]
  },
  {
   "cell_type": "code",
   "execution_count": 6,
   "id": "6d87fadf",
   "metadata": {},
   "outputs": [
    {
     "data": {
      "text/plain": [
       "0       spotify:track:0skYUMpS0AcbpjcGsAbRGj\n",
       "1       spotify:track:0O6u0VJ46W86TxN9wgyqDj\n",
       "2       spotify:track:4LRPiXqCikLlN15c3yImP7\n",
       "3       spotify:track:4h9wh7iOZ0GGn8QVp4RAOB\n",
       "4       spotify:track:1PckUlxKqWQs3RlWXVBLw3\n",
       "                        ...                 \n",
       "4675    spotify:track:4G8EhnfKvBQVlOJ4xXCHpQ\n",
       "4676    spotify:track:6EF0xhfKtQNqUPz2mnE5BD\n",
       "4677    spotify:track:7M7AFtWYg73Kvj5cTZUjiZ\n",
       "4678    spotify:track:7JP8lWYrxpA8luKU8IPd3Y\n",
       "4679    spotify:track:5MgL0ccriqgDP1Gq3pwNNO\n",
       "Name: track_uri, Length: 4680, dtype: object"
      ]
     },
     "execution_count": 6,
     "metadata": {},
     "output_type": "execute_result"
    }
   ],
   "source": [
    "track_uris"
   ]
  },
  {
   "cell_type": "markdown",
   "id": "687a3f44",
   "metadata": {},
   "source": [
    "### audio_features\n",
    "Get audio features for one or multiple tracks based upon their Spotify IDs Parameters\n",
    "> audio_features(tracks=[])\n",
    "\n",
    "- tracks - a list of track URIs, URLs or IDs, maximum: 100 ids"
   ]
  },
  {
   "cell_type": "code",
   "execution_count": 77,
   "id": "b7dc0fea",
   "metadata": {},
   "outputs": [],
   "source": [
    "split_tracks = [track_uris[i:i + 100] for i in range(0, len(track_uris), 100)]"
   ]
  },
  {
   "cell_type": "code",
   "execution_count": 79,
   "id": "d6185cca",
   "metadata": {},
   "outputs": [
    {
     "data": {
      "text/plain": [
       "'spotify:track:0skYUMpS0AcbpjcGsAbRGj'"
      ]
     },
     "execution_count": 79,
     "metadata": {},
     "output_type": "execute_result"
    }
   ],
   "source": [
    "split_tracks[0][0]"
   ]
  },
  {
   "cell_type": "code",
   "execution_count": 34,
   "id": "89237da2",
   "metadata": {},
   "outputs": [],
   "source": [
    "list_1 = split_tracks[:1]"
   ]
  },
  {
   "cell_type": "code",
   "execution_count": 55,
   "id": "748ad540",
   "metadata": {},
   "outputs": [
    {
     "data": {
      "text/plain": [
       "0     spotify:track:0skYUMpS0AcbpjcGsAbRGj\n",
       "1     spotify:track:0O6u0VJ46W86TxN9wgyqDj\n",
       "2     spotify:track:4LRPiXqCikLlN15c3yImP7\n",
       "3     spotify:track:4h9wh7iOZ0GGn8QVp4RAOB\n",
       "4     spotify:track:1PckUlxKqWQs3RlWXVBLw3\n",
       "                      ...                 \n",
       "95    spotify:track:4dyx5SzxPPaD8xQIid5Wjj\n",
       "96    spotify:track:0VF7YLIxSQKyNiFL3X6MmN\n",
       "97    spotify:track:6suYoN4gFkanqOBn5yRnJC\n",
       "98    spotify:track:5S5u0EWtlblH00iTNExZ6X\n",
       "99    spotify:track:77G0k1La0c5Dw8bAFANcyp\n",
       "Name: track_uri, Length: 100, dtype: object"
      ]
     },
     "execution_count": 55,
     "metadata": {},
     "output_type": "execute_result"
    }
   ],
   "source": [
    "list_1[0]"
   ]
  },
  {
   "cell_type": "code",
   "execution_count": 80,
   "id": "daa59aed",
   "metadata": {},
   "outputs": [],
   "source": [
    "track_info = sp.audio_features(list_1[0])"
   ]
  },
  {
   "cell_type": "code",
   "execution_count": 2,
   "id": "5931854b",
   "metadata": {},
   "outputs": [
    {
     "ename": "NameError",
     "evalue": "name 'sp' is not defined",
     "output_type": "error",
     "traceback": [
      "\u001b[1;31m---------------------------------------------------------------------------\u001b[0m",
      "\u001b[1;31mNameError\u001b[0m                                 Traceback (most recent call last)",
      "\u001b[1;32mC:\\Users\\FRANKB~1\\AppData\\Local\\Temp/ipykernel_14472/2504676589.py\u001b[0m in \u001b[0;36m<module>\u001b[1;34m\u001b[0m\n\u001b[0;32m      4\u001b[0m \u001b[1;32mfor\u001b[0m \u001b[0mi\u001b[0m \u001b[1;32min\u001b[0m \u001b[0mrange\u001b[0m\u001b[1;33m(\u001b[0m\u001b[1;36m0\u001b[0m\u001b[1;33m,\u001b[0m \u001b[1;36m20\u001b[0m\u001b[1;33m)\u001b[0m\u001b[1;33m:\u001b[0m\u001b[1;33m\u001b[0m\u001b[1;33m\u001b[0m\u001b[0m\n\u001b[0;32m      5\u001b[0m     \u001b[0mtime\u001b[0m\u001b[1;33m.\u001b[0m\u001b[0msleep\u001b[0m\u001b[1;33m(\u001b[0m\u001b[1;36m30\u001b[0m\u001b[1;33m)\u001b[0m\u001b[1;33m\u001b[0m\u001b[1;33m\u001b[0m\u001b[0m\n\u001b[1;32m----> 6\u001b[1;33m     \u001b[0mtracks\u001b[0m \u001b[1;33m=\u001b[0m \u001b[0msp\u001b[0m\u001b[1;33m.\u001b[0m\u001b[0maudio_features\u001b[0m\u001b[1;33m(\u001b[0m\u001b[0msplit_tracks\u001b[0m\u001b[1;33m[\u001b[0m\u001b[0mi\u001b[0m\u001b[1;33m]\u001b[0m\u001b[1;33m)\u001b[0m\u001b[1;33m\u001b[0m\u001b[1;33m\u001b[0m\u001b[0m\n\u001b[0m\u001b[0;32m      7\u001b[0m     \u001b[0mtrack\u001b[0m \u001b[1;33m=\u001b[0m \u001b[0mtrack\u001b[0m \u001b[1;33m+\u001b[0m \u001b[0mtracks\u001b[0m\u001b[1;33m\u001b[0m\u001b[1;33m\u001b[0m\u001b[0m\n\u001b[0;32m      8\u001b[0m     \u001b[0mprint\u001b[0m\u001b[1;33m(\u001b[0m\u001b[0mlen\u001b[0m\u001b[1;33m(\u001b[0m\u001b[0mtrack\u001b[0m\u001b[1;33m)\u001b[0m\u001b[1;33m)\u001b[0m\u001b[1;33m\u001b[0m\u001b[1;33m\u001b[0m\u001b[0m\n",
      "\u001b[1;31mNameError\u001b[0m: name 'sp' is not defined"
     ]
    }
   ],
   "source": [
    "import time\n",
    "track = []\n",
    "\n",
    "for i in range(0, 20):\n",
    "    time.sleep(30)\n",
    "    tracks = sp.audio_features(split_tracks[i])\n",
    "    track = track + tracks\n",
    "    print(len(track))\n",
    "    \n",
    "track_df = pd.DataFrame(track)"
   ]
  },
  {
   "cell_type": "code",
   "execution_count": 1,
   "id": "e1fc1fa6",
   "metadata": {},
   "outputs": [
    {
     "ename": "NameError",
     "evalue": "name 'track_df' is not defined",
     "output_type": "error",
     "traceback": [
      "\u001b[1;31m---------------------------------------------------------------------------\u001b[0m",
      "\u001b[1;31mNameError\u001b[0m                                 Traceback (most recent call last)",
      "\u001b[1;32mC:\\Users\\FRANKB~1\\AppData\\Local\\Temp/ipykernel_14472/175495953.py\u001b[0m in \u001b[0;36m<module>\u001b[1;34m\u001b[0m\n\u001b[1;32m----> 1\u001b[1;33m \u001b[0mtrack_df\u001b[0m\u001b[1;33m\u001b[0m\u001b[1;33m\u001b[0m\u001b[0m\n\u001b[0m",
      "\u001b[1;31mNameError\u001b[0m: name 'track_df' is not defined"
     ]
    }
   ],
   "source": [
    "track_df"
   ]
  },
  {
   "cell_type": "code",
   "execution_count": null,
   "id": "9ced6539",
   "metadata": {},
   "outputs": [],
   "source": []
  }
 ],
 "metadata": {
  "kernelspec": {
   "display_name": "PythonData",
   "language": "python",
   "name": "pythondata"
  },
  "language_info": {
   "codemirror_mode": {
    "name": "ipython",
    "version": 3
   },
   "file_extension": ".py",
   "mimetype": "text/x-python",
   "name": "python",
   "nbconvert_exporter": "python",
   "pygments_lexer": "ipython3",
   "version": "3.7.11"
  }
 },
 "nbformat": 4,
 "nbformat_minor": 5
}
