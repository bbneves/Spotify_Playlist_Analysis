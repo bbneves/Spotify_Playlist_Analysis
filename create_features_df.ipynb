{
 "cells": [
  {
   "cell_type": "code",
   "execution_count": 1,
   "id": "02f55353",
   "metadata": {},
   "outputs": [],
   "source": [
    "from config import CLIENT_ID, CLIENT_SECRET\n",
    "import os\n",
    "import pprint\n",
    "import pandas as pd\n",
    "import spotipy\n",
    "from spotipy.oauth2 import SpotifyClientCredentials"
   ]
  },
  {
   "cell_type": "code",
   "execution_count": 41,
   "id": "eee56170",
   "metadata": {},
   "outputs": [
    {
     "data": {
      "text/html": [
       "<div>\n",
       "<style scoped>\n",
       "    .dataframe tbody tr th:only-of-type {\n",
       "        vertical-align: middle;\n",
       "    }\n",
       "\n",
       "    .dataframe tbody tr th {\n",
       "        vertical-align: top;\n",
       "    }\n",
       "\n",
       "    .dataframe thead th {\n",
       "        text-align: right;\n",
       "    }\n",
       "</style>\n",
       "<table border=\"1\" class=\"dataframe\">\n",
       "  <thead>\n",
       "    <tr style=\"text-align: right;\">\n",
       "      <th></th>\n",
       "      <th>Unnamed: 0</th>\n",
       "      <th>Playlist</th>\n",
       "      <th>Followers</th>\n",
       "      <th>Songs</th>\n",
       "      <th>Genre 1</th>\n",
       "      <th>Genre 2</th>\n",
       "      <th>URI</th>\n",
       "      <th>Song URI</th>\n",
       "      <th>Popularity</th>\n",
       "      <th>Artist Name</th>\n",
       "      <th>Song Name</th>\n",
       "    </tr>\n",
       "  </thead>\n",
       "  <tbody>\n",
       "    <tr>\n",
       "      <th>0</th>\n",
       "      <td>0</td>\n",
       "      <td>Today’s Top Hits</td>\n",
       "      <td>31.728.611</td>\n",
       "      <td>50</td>\n",
       "      <td>Pop</td>\n",
       "      <td>R&amp;B</td>\n",
       "      <td>spotify:playlist:37i9dQZF1DXcBWIGoYBM5M</td>\n",
       "      <td>spotify:track:0skYUMpS0AcbpjcGsAbRGj</td>\n",
       "      <td>87</td>\n",
       "      <td>BLACKPINK</td>\n",
       "      <td>Pink Venom</td>\n",
       "    </tr>\n",
       "    <tr>\n",
       "      <th>1</th>\n",
       "      <td>1</td>\n",
       "      <td>Today’s Top Hits</td>\n",
       "      <td>31.728.611</td>\n",
       "      <td>50</td>\n",
       "      <td>Pop</td>\n",
       "      <td>R&amp;B</td>\n",
       "      <td>spotify:playlist:37i9dQZF1DXcBWIGoYBM5M</td>\n",
       "      <td>spotify:track:0O6u0VJ46W86TxN9wgyqDj</td>\n",
       "      <td>91</td>\n",
       "      <td>Post Malone</td>\n",
       "      <td>I Like You (A Happier Song) (with Doja Cat)</td>\n",
       "    </tr>\n",
       "    <tr>\n",
       "      <th>2</th>\n",
       "      <td>2</td>\n",
       "      <td>Today’s Top Hits</td>\n",
       "      <td>31.728.611</td>\n",
       "      <td>50</td>\n",
       "      <td>Pop</td>\n",
       "      <td>R&amp;B</td>\n",
       "      <td>spotify:playlist:37i9dQZF1DXcBWIGoYBM5M</td>\n",
       "      <td>spotify:track:4LRPiXqCikLlN15c3yImP7</td>\n",
       "      <td>96</td>\n",
       "      <td>Harry Styles</td>\n",
       "      <td>As It Was</td>\n",
       "    </tr>\n",
       "    <tr>\n",
       "      <th>3</th>\n",
       "      <td>3</td>\n",
       "      <td>Today’s Top Hits</td>\n",
       "      <td>31.728.611</td>\n",
       "      <td>50</td>\n",
       "      <td>Pop</td>\n",
       "      <td>R&amp;B</td>\n",
       "      <td>spotify:playlist:37i9dQZF1DXcBWIGoYBM5M</td>\n",
       "      <td>spotify:track:4h9wh7iOZ0GGn8QVp4RAOB</td>\n",
       "      <td>93</td>\n",
       "      <td>OneRepublic</td>\n",
       "      <td>I Ain't Worried</td>\n",
       "    </tr>\n",
       "    <tr>\n",
       "      <th>4</th>\n",
       "      <td>4</td>\n",
       "      <td>Today’s Top Hits</td>\n",
       "      <td>31.728.611</td>\n",
       "      <td>50</td>\n",
       "      <td>Pop</td>\n",
       "      <td>R&amp;B</td>\n",
       "      <td>spotify:playlist:37i9dQZF1DXcBWIGoYBM5M</td>\n",
       "      <td>spotify:track:1PckUlxKqWQs3RlWXVBLw3</td>\n",
       "      <td>91</td>\n",
       "      <td>Lizzo</td>\n",
       "      <td>About Damn Time</td>\n",
       "    </tr>\n",
       "  </tbody>\n",
       "</table>\n",
       "</div>"
      ],
      "text/plain": [
       "   Unnamed: 0          Playlist   Followers  Songs Genre 1 Genre 2  \\\n",
       "0           0  Today’s Top Hits  31.728.611     50     Pop     R&B   \n",
       "1           1  Today’s Top Hits  31.728.611     50     Pop     R&B   \n",
       "2           2  Today’s Top Hits  31.728.611     50     Pop     R&B   \n",
       "3           3  Today’s Top Hits  31.728.611     50     Pop     R&B   \n",
       "4           4  Today’s Top Hits  31.728.611     50     Pop     R&B   \n",
       "\n",
       "                                       URI  \\\n",
       "0  spotify:playlist:37i9dQZF1DXcBWIGoYBM5M   \n",
       "1  spotify:playlist:37i9dQZF1DXcBWIGoYBM5M   \n",
       "2  spotify:playlist:37i9dQZF1DXcBWIGoYBM5M   \n",
       "3  spotify:playlist:37i9dQZF1DXcBWIGoYBM5M   \n",
       "4  spotify:playlist:37i9dQZF1DXcBWIGoYBM5M   \n",
       "\n",
       "                               Song URI  Popularity   Artist Name  \\\n",
       "0  spotify:track:0skYUMpS0AcbpjcGsAbRGj          87     BLACKPINK   \n",
       "1  spotify:track:0O6u0VJ46W86TxN9wgyqDj          91   Post Malone   \n",
       "2  spotify:track:4LRPiXqCikLlN15c3yImP7          96  Harry Styles   \n",
       "3  spotify:track:4h9wh7iOZ0GGn8QVp4RAOB          93   OneRepublic   \n",
       "4  spotify:track:1PckUlxKqWQs3RlWXVBLw3          91         Lizzo   \n",
       "\n",
       "                                     Song Name  \n",
       "0                                   Pink Venom  \n",
       "1  I Like You (A Happier Song) (with Doja Cat)  \n",
       "2                                    As It Was  \n",
       "3                              I Ain't Worried  \n",
       "4                              About Damn Time  "
      ]
     },
     "execution_count": 41,
     "metadata": {},
     "output_type": "execute_result"
    }
   ],
   "source": [
    "playlist_df = pd.read_csv(f'Resources/1_100_playlists.csv', sep=';')\n",
    "playlist_df.head()"
   ]
  },
  {
   "cell_type": "code",
   "execution_count": 42,
   "id": "1b484050",
   "metadata": {},
   "outputs": [],
   "source": [
    "# Set environment variables\n",
    "os.environ['SPOTIPY_CLIENT_ID'] = CLIENT_ID\n",
    "os.environ['SPOTIPY_CLIENT_SECRET'] = CLIENT_SECRET"
   ]
  },
  {
   "cell_type": "code",
   "execution_count": 43,
   "id": "7ea78d1d",
   "metadata": {},
   "outputs": [],
   "source": [
    "# instantiate Spotify class\n",
    "sp = spotipy.Spotify(client_credentials_manager=SpotifyClientCredentials())"
   ]
  },
  {
   "cell_type": "code",
   "execution_count": 48,
   "id": "be5c4823",
   "metadata": {},
   "outputs": [],
   "source": [
    "track_uris = playlist_df['Song URI']"
   ]
  },
  {
   "cell_type": "code",
   "execution_count": 49,
   "id": "6d87fadf",
   "metadata": {},
   "outputs": [
    {
     "data": {
      "text/plain": [
       "0       spotify:track:0skYUMpS0AcbpjcGsAbRGj\n",
       "1       spotify:track:0O6u0VJ46W86TxN9wgyqDj\n",
       "2       spotify:track:4LRPiXqCikLlN15c3yImP7\n",
       "3       spotify:track:4h9wh7iOZ0GGn8QVp4RAOB\n",
       "4       spotify:track:1PckUlxKqWQs3RlWXVBLw3\n",
       "                        ...                 \n",
       "6399    spotify:track:49koCgN91HKGyBjYWwIQic\n",
       "6400    spotify:track:3SQV31uJMStclklmwxQHe1\n",
       "6401    spotify:track:3W5AJtjwTqzYJWhF2iBKAE\n",
       "6402    spotify:track:7ze3dmIW0eC4ZL2cfReTWO\n",
       "6403    spotify:track:46M2hXnaQpueG7vSvgVtVH\n",
       "Name: Song URI, Length: 6404, dtype: object"
      ]
     },
     "execution_count": 49,
     "metadata": {},
     "output_type": "execute_result"
    }
   ],
   "source": [
    "track_uris"
   ]
  },
  {
   "cell_type": "markdown",
   "id": "687a3f44",
   "metadata": {},
   "source": [
    "### audio_features\n",
    "Get audio features for one or multiple tracks based upon their Spotify IDs Parameters\n",
    "> audio_features(tracks=[])\n",
    "\n",
    "- tracks - a list of track URIs, URLs or IDs, maximum: 100 ids"
   ]
  },
  {
   "cell_type": "code",
   "execution_count": 50,
   "id": "b7dc0fea",
   "metadata": {},
   "outputs": [],
   "source": [
    "split_tracks = [track_uris[i:i + 100] for i in range(0, len(track_uris), 100)]"
   ]
  },
  {
   "cell_type": "code",
   "execution_count": 51,
   "id": "d6185cca",
   "metadata": {},
   "outputs": [
    {
     "data": {
      "text/plain": [
       "'spotify:track:0skYUMpS0AcbpjcGsAbRGj'"
      ]
     },
     "execution_count": 51,
     "metadata": {},
     "output_type": "execute_result"
    }
   ],
   "source": [
    "split_tracks[0][0]"
   ]
  },
  {
   "cell_type": "code",
   "execution_count": 52,
   "id": "89237da2",
   "metadata": {},
   "outputs": [],
   "source": [
    "list_1 = split_tracks[:1]"
   ]
  },
  {
   "cell_type": "code",
   "execution_count": 64,
   "id": "748ad540",
   "metadata": {},
   "outputs": [
    {
     "data": {
      "text/plain": [
       "[0     spotify:track:0skYUMpS0AcbpjcGsAbRGj\n",
       " 1     spotify:track:0O6u0VJ46W86TxN9wgyqDj\n",
       " 2     spotify:track:4LRPiXqCikLlN15c3yImP7\n",
       " 3     spotify:track:4h9wh7iOZ0GGn8QVp4RAOB\n",
       " 4     spotify:track:1PckUlxKqWQs3RlWXVBLw3\n",
       "                       ...                 \n",
       " 95    spotify:track:4dyx5SzxPPaD8xQIid5Wjj\n",
       " 96    spotify:track:0VF7YLIxSQKyNiFL3X6MmN\n",
       " 97    spotify:track:6suYoN4gFkanqOBn5yRnJC\n",
       " 98    spotify:track:5S5u0EWtlblH00iTNExZ6X\n",
       " 99    spotify:track:77G0k1La0c5Dw8bAFANcyp\n",
       " Name: Song URI, Length: 100, dtype: object]"
      ]
     },
     "execution_count": 64,
     "metadata": {},
     "output_type": "execute_result"
    }
   ],
   "source": [
    "list_1"
   ]
  },
  {
   "cell_type": "code",
   "execution_count": 61,
   "id": "daa59aed",
   "metadata": {},
   "outputs": [],
   "source": [
    "track_info = sp.audio_features(list_1[0])"
   ]
  },
  {
   "cell_type": "code",
   "execution_count": 70,
   "id": "5931854b",
   "metadata": {},
   "outputs": [
    {
     "name": "stdout",
     "output_type": "stream",
     "text": [
      "100\n",
      "200\n",
      "300\n",
      "400\n",
      "500\n",
      "600\n",
      "700\n",
      "800\n",
      "900\n",
      "1000\n",
      "1100\n",
      "1200\n",
      "1300\n",
      "1400\n",
      "1500\n",
      "1600\n",
      "1700\n",
      "1800\n",
      "1900\n",
      "2000\n",
      "2100\n",
      "2200\n",
      "2300\n",
      "2400\n",
      "2500\n",
      "2600\n",
      "2700\n",
      "2800\n",
      "2900\n",
      "3000\n",
      "3100\n",
      "3200\n",
      "3300\n",
      "3400\n",
      "3500\n",
      "3600\n",
      "3700\n",
      "3800\n",
      "3900\n",
      "4000\n",
      "4100\n",
      "4200\n",
      "4300\n",
      "4400\n",
      "4500\n",
      "4600\n",
      "4700\n",
      "4800\n",
      "4900\n",
      "5000\n",
      "5100\n",
      "5200\n",
      "5300\n",
      "5400\n",
      "5500\n",
      "5600\n",
      "5700\n",
      "5800\n",
      "5900\n",
      "6000\n",
      "6100\n",
      "6200\n",
      "6300\n"
     ]
    }
   ],
   "source": [
    "import time\n",
    "track = []\n",
    "\n",
    "for i in range(0, 63):\n",
    "    time.sleep(30)\n",
    "    try:\n",
    "        tracks = sp.audio_features(split_tracks[i])\n",
    "        track = track + tracks\n",
    "        print(len(track))\n",
    "    except AttributeError: \n",
    "        print(f'\\t AttributeError, skipping info for {len(track)}... \\n')\n",
    "   \n"
   ]
  },
  {
   "cell_type": "code",
   "execution_count": 73,
   "id": "1cb98ab3",
   "metadata": {},
   "outputs": [],
   "source": [
    "# remove None values\n",
    "track_list = [i for i in track if i is not None]"
   ]
  },
  {
   "cell_type": "code",
   "execution_count": 74,
   "id": "e1fc1fa6",
   "metadata": {},
   "outputs": [],
   "source": [
    "# convert the complete list to a dataframe    \n",
    "track_df = pd.DataFrame.from_records(track_list)"
   ]
  },
  {
   "cell_type": "code",
   "execution_count": 75,
   "id": "9ced6539",
   "metadata": {},
   "outputs": [
    {
     "data": {
      "text/plain": [
       "6293"
      ]
     },
     "execution_count": 75,
     "metadata": {},
     "output_type": "execute_result"
    }
   ],
   "source": [
    "len(track_list)"
   ]
  },
  {
   "cell_type": "code",
   "execution_count": 76,
   "id": "23c3002e",
   "metadata": {},
   "outputs": [
    {
     "name": "stdout",
     "output_type": "stream",
     "text": [
      "<class 'pandas.core.frame.DataFrame'>\n",
      "RangeIndex: 6293 entries, 0 to 6292\n",
      "Data columns (total 18 columns):\n",
      " #   Column            Non-Null Count  Dtype  \n",
      "---  ------            --------------  -----  \n",
      " 0   danceability      6293 non-null   float64\n",
      " 1   energy            6293 non-null   float64\n",
      " 2   key               6293 non-null   int64  \n",
      " 3   loudness          6293 non-null   float64\n",
      " 4   mode              6293 non-null   int64  \n",
      " 5   speechiness       6293 non-null   float64\n",
      " 6   acousticness      6293 non-null   float64\n",
      " 7   instrumentalness  6293 non-null   float64\n",
      " 8   liveness          6293 non-null   float64\n",
      " 9   valence           6293 non-null   float64\n",
      " 10  tempo             6293 non-null   float64\n",
      " 11  type              6293 non-null   object \n",
      " 12  id                6293 non-null   object \n",
      " 13  uri               6293 non-null   object \n",
      " 14  track_href        6293 non-null   object \n",
      " 15  analysis_url      6293 non-null   object \n",
      " 16  duration_ms       6293 non-null   int64  \n",
      " 17  time_signature    6293 non-null   int64  \n",
      "dtypes: float64(9), int64(4), object(5)\n",
      "memory usage: 885.1+ KB\n"
     ]
    }
   ],
   "source": [
    "track_df.info()"
   ]
  },
  {
   "cell_type": "code",
   "execution_count": 77,
   "id": "1eedd3fb",
   "metadata": {},
   "outputs": [
    {
     "data": {
      "text/plain": [
       "{'danceability': 0.798,\n",
       " 'energy': 0.697,\n",
       " 'key': 0,\n",
       " 'loudness': -7.139,\n",
       " 'mode': 1,\n",
       " 'speechiness': 0.0891,\n",
       " 'acousticness': 0.0202,\n",
       " 'instrumentalness': 0,\n",
       " 'liveness': 0.259,\n",
       " 'valence': 0.745,\n",
       " 'tempo': 90.031,\n",
       " 'type': 'audio_features',\n",
       " 'id': '0skYUMpS0AcbpjcGsAbRGj',\n",
       " 'uri': 'spotify:track:0skYUMpS0AcbpjcGsAbRGj',\n",
       " 'track_href': 'https://api.spotify.com/v1/tracks/0skYUMpS0AcbpjcGsAbRGj',\n",
       " 'analysis_url': 'https://api.spotify.com/v1/audio-analysis/0skYUMpS0AcbpjcGsAbRGj',\n",
       " 'duration_ms': 186964,\n",
       " 'time_signature': 4}"
      ]
     },
     "execution_count": 77,
     "metadata": {},
     "output_type": "execute_result"
    }
   ],
   "source": [
    "# view one track\n",
    "track_list[0]"
   ]
  },
  {
   "cell_type": "code",
   "execution_count": 78,
   "id": "968ca027",
   "metadata": {},
   "outputs": [
    {
     "data": {
      "text/plain": [
       "list"
      ]
     },
     "execution_count": 78,
     "metadata": {},
     "output_type": "execute_result"
    }
   ],
   "source": [
    "type(track_list)"
   ]
  },
  {
   "cell_type": "code",
   "execution_count": 79,
   "id": "35c6643e",
   "metadata": {},
   "outputs": [
    {
     "data": {
      "text/plain": [
       "dict"
      ]
     },
     "execution_count": 79,
     "metadata": {},
     "output_type": "execute_result"
    }
   ],
   "source": [
    "type(track_list[0])"
   ]
  },
  {
   "cell_type": "code",
   "execution_count": 80,
   "id": "5a8a4bde",
   "metadata": {},
   "outputs": [
    {
     "data": {
      "text/plain": [
       "list"
      ]
     },
     "execution_count": 80,
     "metadata": {},
     "output_type": "execute_result"
    }
   ],
   "source": [
    "type(tracks)"
   ]
  },
  {
   "cell_type": "code",
   "execution_count": 81,
   "id": "59a794ad",
   "metadata": {},
   "outputs": [
    {
     "data": {
      "text/plain": [
       "pandas.core.frame.DataFrame"
      ]
     },
     "execution_count": 81,
     "metadata": {},
     "output_type": "execute_result"
    }
   ],
   "source": [
    "type(track_df)"
   ]
  },
  {
   "cell_type": "code",
   "execution_count": 82,
   "id": "552c1276",
   "metadata": {},
   "outputs": [
    {
     "data": {
      "text/html": [
       "<div>\n",
       "<style scoped>\n",
       "    .dataframe tbody tr th:only-of-type {\n",
       "        vertical-align: middle;\n",
       "    }\n",
       "\n",
       "    .dataframe tbody tr th {\n",
       "        vertical-align: top;\n",
       "    }\n",
       "\n",
       "    .dataframe thead th {\n",
       "        text-align: right;\n",
       "    }\n",
       "</style>\n",
       "<table border=\"1\" class=\"dataframe\">\n",
       "  <thead>\n",
       "    <tr style=\"text-align: right;\">\n",
       "      <th></th>\n",
       "      <th>danceability</th>\n",
       "      <th>energy</th>\n",
       "      <th>key</th>\n",
       "      <th>loudness</th>\n",
       "      <th>mode</th>\n",
       "      <th>speechiness</th>\n",
       "      <th>acousticness</th>\n",
       "      <th>instrumentalness</th>\n",
       "      <th>liveness</th>\n",
       "      <th>valence</th>\n",
       "      <th>tempo</th>\n",
       "      <th>type</th>\n",
       "      <th>id</th>\n",
       "      <th>uri</th>\n",
       "      <th>track_href</th>\n",
       "      <th>analysis_url</th>\n",
       "      <th>duration_ms</th>\n",
       "      <th>time_signature</th>\n",
       "    </tr>\n",
       "  </thead>\n",
       "  <tbody>\n",
       "    <tr>\n",
       "      <th>0</th>\n",
       "      <td>0.798</td>\n",
       "      <td>0.697</td>\n",
       "      <td>0</td>\n",
       "      <td>-7.139</td>\n",
       "      <td>1</td>\n",
       "      <td>0.0891</td>\n",
       "      <td>0.0202</td>\n",
       "      <td>0.000000</td>\n",
       "      <td>0.2590</td>\n",
       "      <td>0.745</td>\n",
       "      <td>90.031</td>\n",
       "      <td>audio_features</td>\n",
       "      <td>0skYUMpS0AcbpjcGsAbRGj</td>\n",
       "      <td>spotify:track:0skYUMpS0AcbpjcGsAbRGj</td>\n",
       "      <td>https://api.spotify.com/v1/tracks/0skYUMpS0Acb...</td>\n",
       "      <td>https://api.spotify.com/v1/audio-analysis/0skY...</td>\n",
       "      <td>186964</td>\n",
       "      <td>4</td>\n",
       "    </tr>\n",
       "    <tr>\n",
       "      <th>1</th>\n",
       "      <td>0.733</td>\n",
       "      <td>0.670</td>\n",
       "      <td>5</td>\n",
       "      <td>-6.009</td>\n",
       "      <td>1</td>\n",
       "      <td>0.0751</td>\n",
       "      <td>0.1210</td>\n",
       "      <td>0.000000</td>\n",
       "      <td>0.1210</td>\n",
       "      <td>0.472</td>\n",
       "      <td>100.964</td>\n",
       "      <td>audio_features</td>\n",
       "      <td>0O6u0VJ46W86TxN9wgyqDj</td>\n",
       "      <td>spotify:track:0O6u0VJ46W86TxN9wgyqDj</td>\n",
       "      <td>https://api.spotify.com/v1/tracks/0O6u0VJ46W86...</td>\n",
       "      <td>https://api.spotify.com/v1/audio-analysis/0O6u...</td>\n",
       "      <td>192841</td>\n",
       "      <td>4</td>\n",
       "    </tr>\n",
       "    <tr>\n",
       "      <th>2</th>\n",
       "      <td>0.520</td>\n",
       "      <td>0.731</td>\n",
       "      <td>6</td>\n",
       "      <td>-5.338</td>\n",
       "      <td>0</td>\n",
       "      <td>0.0557</td>\n",
       "      <td>0.3420</td>\n",
       "      <td>0.001010</td>\n",
       "      <td>0.3110</td>\n",
       "      <td>0.662</td>\n",
       "      <td>173.930</td>\n",
       "      <td>audio_features</td>\n",
       "      <td>4LRPiXqCikLlN15c3yImP7</td>\n",
       "      <td>spotify:track:4LRPiXqCikLlN15c3yImP7</td>\n",
       "      <td>https://api.spotify.com/v1/tracks/4LRPiXqCikLl...</td>\n",
       "      <td>https://api.spotify.com/v1/audio-analysis/4LRP...</td>\n",
       "      <td>167303</td>\n",
       "      <td>4</td>\n",
       "    </tr>\n",
       "    <tr>\n",
       "      <th>3</th>\n",
       "      <td>0.704</td>\n",
       "      <td>0.797</td>\n",
       "      <td>0</td>\n",
       "      <td>-5.927</td>\n",
       "      <td>1</td>\n",
       "      <td>0.0475</td>\n",
       "      <td>0.0826</td>\n",
       "      <td>0.000745</td>\n",
       "      <td>0.0546</td>\n",
       "      <td>0.825</td>\n",
       "      <td>139.994</td>\n",
       "      <td>audio_features</td>\n",
       "      <td>4h9wh7iOZ0GGn8QVp4RAOB</td>\n",
       "      <td>spotify:track:4h9wh7iOZ0GGn8QVp4RAOB</td>\n",
       "      <td>https://api.spotify.com/v1/tracks/4h9wh7iOZ0GG...</td>\n",
       "      <td>https://api.spotify.com/v1/audio-analysis/4h9w...</td>\n",
       "      <td>148486</td>\n",
       "      <td>4</td>\n",
       "    </tr>\n",
       "    <tr>\n",
       "      <th>4</th>\n",
       "      <td>0.836</td>\n",
       "      <td>0.743</td>\n",
       "      <td>10</td>\n",
       "      <td>-6.305</td>\n",
       "      <td>0</td>\n",
       "      <td>0.0656</td>\n",
       "      <td>0.0995</td>\n",
       "      <td>0.000000</td>\n",
       "      <td>0.3350</td>\n",
       "      <td>0.722</td>\n",
       "      <td>108.966</td>\n",
       "      <td>audio_features</td>\n",
       "      <td>1PckUlxKqWQs3RlWXVBLw3</td>\n",
       "      <td>spotify:track:1PckUlxKqWQs3RlWXVBLw3</td>\n",
       "      <td>https://api.spotify.com/v1/tracks/1PckUlxKqWQs...</td>\n",
       "      <td>https://api.spotify.com/v1/audio-analysis/1Pck...</td>\n",
       "      <td>191822</td>\n",
       "      <td>4</td>\n",
       "    </tr>\n",
       "    <tr>\n",
       "      <th>...</th>\n",
       "      <td>...</td>\n",
       "      <td>...</td>\n",
       "      <td>...</td>\n",
       "      <td>...</td>\n",
       "      <td>...</td>\n",
       "      <td>...</td>\n",
       "      <td>...</td>\n",
       "      <td>...</td>\n",
       "      <td>...</td>\n",
       "      <td>...</td>\n",
       "      <td>...</td>\n",
       "      <td>...</td>\n",
       "      <td>...</td>\n",
       "      <td>...</td>\n",
       "      <td>...</td>\n",
       "      <td>...</td>\n",
       "      <td>...</td>\n",
       "      <td>...</td>\n",
       "    </tr>\n",
       "    <tr>\n",
       "      <th>6288</th>\n",
       "      <td>0.961</td>\n",
       "      <td>0.557</td>\n",
       "      <td>10</td>\n",
       "      <td>-6.743</td>\n",
       "      <td>0</td>\n",
       "      <td>0.3210</td>\n",
       "      <td>0.0251</td>\n",
       "      <td>0.000000</td>\n",
       "      <td>0.0828</td>\n",
       "      <td>0.742</td>\n",
       "      <td>118.031</td>\n",
       "      <td>audio_features</td>\n",
       "      <td>5hR1PFUnx0uRkqYsW4Z4ja</td>\n",
       "      <td>spotify:track:5hR1PFUnx0uRkqYsW4Z4ja</td>\n",
       "      <td>https://api.spotify.com/v1/tracks/5hR1PFUnx0uR...</td>\n",
       "      <td>https://api.spotify.com/v1/audio-analysis/5hR1...</td>\n",
       "      <td>122266</td>\n",
       "      <td>4</td>\n",
       "    </tr>\n",
       "    <tr>\n",
       "      <th>6289</th>\n",
       "      <td>0.530</td>\n",
       "      <td>0.937</td>\n",
       "      <td>0</td>\n",
       "      <td>-2.757</td>\n",
       "      <td>1</td>\n",
       "      <td>0.3210</td>\n",
       "      <td>0.0457</td>\n",
       "      <td>0.000000</td>\n",
       "      <td>0.1510</td>\n",
       "      <td>0.460</td>\n",
       "      <td>92.916</td>\n",
       "      <td>audio_features</td>\n",
       "      <td>6VYBCG9nCZwUUImVqZQVet</td>\n",
       "      <td>spotify:track:6VYBCG9nCZwUUImVqZQVet</td>\n",
       "      <td>https://api.spotify.com/v1/tracks/6VYBCG9nCZwU...</td>\n",
       "      <td>https://api.spotify.com/v1/audio-analysis/6VYB...</td>\n",
       "      <td>176851</td>\n",
       "      <td>4</td>\n",
       "    </tr>\n",
       "    <tr>\n",
       "      <th>6290</th>\n",
       "      <td>0.622</td>\n",
       "      <td>0.736</td>\n",
       "      <td>10</td>\n",
       "      <td>-4.917</td>\n",
       "      <td>0</td>\n",
       "      <td>0.1050</td>\n",
       "      <td>0.0626</td>\n",
       "      <td>0.000000</td>\n",
       "      <td>0.1260</td>\n",
       "      <td>0.479</td>\n",
       "      <td>100.498</td>\n",
       "      <td>audio_features</td>\n",
       "      <td>3QB87iPcNT3pNOSqDGQUHG</td>\n",
       "      <td>spotify:track:3QB87iPcNT3pNOSqDGQUHG</td>\n",
       "      <td>https://api.spotify.com/v1/tracks/3QB87iPcNT3p...</td>\n",
       "      <td>https://api.spotify.com/v1/audio-analysis/3QB8...</td>\n",
       "      <td>122141</td>\n",
       "      <td>4</td>\n",
       "    </tr>\n",
       "    <tr>\n",
       "      <th>6291</th>\n",
       "      <td>0.798</td>\n",
       "      <td>0.672</td>\n",
       "      <td>10</td>\n",
       "      <td>-5.935</td>\n",
       "      <td>1</td>\n",
       "      <td>0.0677</td>\n",
       "      <td>0.4280</td>\n",
       "      <td>0.000000</td>\n",
       "      <td>0.1170</td>\n",
       "      <td>0.864</td>\n",
       "      <td>127.994</td>\n",
       "      <td>audio_features</td>\n",
       "      <td>3Lf16tRdqj4H7MBtCSztDS</td>\n",
       "      <td>spotify:track:3Lf16tRdqj4H7MBtCSztDS</td>\n",
       "      <td>https://api.spotify.com/v1/tracks/3Lf16tRdqj4H...</td>\n",
       "      <td>https://api.spotify.com/v1/audio-analysis/3Lf1...</td>\n",
       "      <td>206250</td>\n",
       "      <td>4</td>\n",
       "    </tr>\n",
       "    <tr>\n",
       "      <th>6292</th>\n",
       "      <td>0.598</td>\n",
       "      <td>0.805</td>\n",
       "      <td>11</td>\n",
       "      <td>-5.846</td>\n",
       "      <td>0</td>\n",
       "      <td>0.4060</td>\n",
       "      <td>0.2600</td>\n",
       "      <td>0.000000</td>\n",
       "      <td>0.1070</td>\n",
       "      <td>0.719</td>\n",
       "      <td>148.005</td>\n",
       "      <td>audio_features</td>\n",
       "      <td>3zQwqYVqMOOGddjx1eQsDs</td>\n",
       "      <td>spotify:track:3zQwqYVqMOOGddjx1eQsDs</td>\n",
       "      <td>https://api.spotify.com/v1/tracks/3zQwqYVqMOOG...</td>\n",
       "      <td>https://api.spotify.com/v1/audio-analysis/3zQw...</td>\n",
       "      <td>197680</td>\n",
       "      <td>1</td>\n",
       "    </tr>\n",
       "  </tbody>\n",
       "</table>\n",
       "<p>6293 rows × 18 columns</p>\n",
       "</div>"
      ],
      "text/plain": [
       "      danceability  energy  key  loudness  mode  speechiness  acousticness  \\\n",
       "0            0.798   0.697    0    -7.139     1       0.0891        0.0202   \n",
       "1            0.733   0.670    5    -6.009     1       0.0751        0.1210   \n",
       "2            0.520   0.731    6    -5.338     0       0.0557        0.3420   \n",
       "3            0.704   0.797    0    -5.927     1       0.0475        0.0826   \n",
       "4            0.836   0.743   10    -6.305     0       0.0656        0.0995   \n",
       "...            ...     ...  ...       ...   ...          ...           ...   \n",
       "6288         0.961   0.557   10    -6.743     0       0.3210        0.0251   \n",
       "6289         0.530   0.937    0    -2.757     1       0.3210        0.0457   \n",
       "6290         0.622   0.736   10    -4.917     0       0.1050        0.0626   \n",
       "6291         0.798   0.672   10    -5.935     1       0.0677        0.4280   \n",
       "6292         0.598   0.805   11    -5.846     0       0.4060        0.2600   \n",
       "\n",
       "      instrumentalness  liveness  valence    tempo            type  \\\n",
       "0             0.000000    0.2590    0.745   90.031  audio_features   \n",
       "1             0.000000    0.1210    0.472  100.964  audio_features   \n",
       "2             0.001010    0.3110    0.662  173.930  audio_features   \n",
       "3             0.000745    0.0546    0.825  139.994  audio_features   \n",
       "4             0.000000    0.3350    0.722  108.966  audio_features   \n",
       "...                ...       ...      ...      ...             ...   \n",
       "6288          0.000000    0.0828    0.742  118.031  audio_features   \n",
       "6289          0.000000    0.1510    0.460   92.916  audio_features   \n",
       "6290          0.000000    0.1260    0.479  100.498  audio_features   \n",
       "6291          0.000000    0.1170    0.864  127.994  audio_features   \n",
       "6292          0.000000    0.1070    0.719  148.005  audio_features   \n",
       "\n",
       "                          id                                   uri  \\\n",
       "0     0skYUMpS0AcbpjcGsAbRGj  spotify:track:0skYUMpS0AcbpjcGsAbRGj   \n",
       "1     0O6u0VJ46W86TxN9wgyqDj  spotify:track:0O6u0VJ46W86TxN9wgyqDj   \n",
       "2     4LRPiXqCikLlN15c3yImP7  spotify:track:4LRPiXqCikLlN15c3yImP7   \n",
       "3     4h9wh7iOZ0GGn8QVp4RAOB  spotify:track:4h9wh7iOZ0GGn8QVp4RAOB   \n",
       "4     1PckUlxKqWQs3RlWXVBLw3  spotify:track:1PckUlxKqWQs3RlWXVBLw3   \n",
       "...                      ...                                   ...   \n",
       "6288  5hR1PFUnx0uRkqYsW4Z4ja  spotify:track:5hR1PFUnx0uRkqYsW4Z4ja   \n",
       "6289  6VYBCG9nCZwUUImVqZQVet  spotify:track:6VYBCG9nCZwUUImVqZQVet   \n",
       "6290  3QB87iPcNT3pNOSqDGQUHG  spotify:track:3QB87iPcNT3pNOSqDGQUHG   \n",
       "6291  3Lf16tRdqj4H7MBtCSztDS  spotify:track:3Lf16tRdqj4H7MBtCSztDS   \n",
       "6292  3zQwqYVqMOOGddjx1eQsDs  spotify:track:3zQwqYVqMOOGddjx1eQsDs   \n",
       "\n",
       "                                             track_href  \\\n",
       "0     https://api.spotify.com/v1/tracks/0skYUMpS0Acb...   \n",
       "1     https://api.spotify.com/v1/tracks/0O6u0VJ46W86...   \n",
       "2     https://api.spotify.com/v1/tracks/4LRPiXqCikLl...   \n",
       "3     https://api.spotify.com/v1/tracks/4h9wh7iOZ0GG...   \n",
       "4     https://api.spotify.com/v1/tracks/1PckUlxKqWQs...   \n",
       "...                                                 ...   \n",
       "6288  https://api.spotify.com/v1/tracks/5hR1PFUnx0uR...   \n",
       "6289  https://api.spotify.com/v1/tracks/6VYBCG9nCZwU...   \n",
       "6290  https://api.spotify.com/v1/tracks/3QB87iPcNT3p...   \n",
       "6291  https://api.spotify.com/v1/tracks/3Lf16tRdqj4H...   \n",
       "6292  https://api.spotify.com/v1/tracks/3zQwqYVqMOOG...   \n",
       "\n",
       "                                           analysis_url  duration_ms  \\\n",
       "0     https://api.spotify.com/v1/audio-analysis/0skY...       186964   \n",
       "1     https://api.spotify.com/v1/audio-analysis/0O6u...       192841   \n",
       "2     https://api.spotify.com/v1/audio-analysis/4LRP...       167303   \n",
       "3     https://api.spotify.com/v1/audio-analysis/4h9w...       148486   \n",
       "4     https://api.spotify.com/v1/audio-analysis/1Pck...       191822   \n",
       "...                                                 ...          ...   \n",
       "6288  https://api.spotify.com/v1/audio-analysis/5hR1...       122266   \n",
       "6289  https://api.spotify.com/v1/audio-analysis/6VYB...       176851   \n",
       "6290  https://api.spotify.com/v1/audio-analysis/3QB8...       122141   \n",
       "6291  https://api.spotify.com/v1/audio-analysis/3Lf1...       206250   \n",
       "6292  https://api.spotify.com/v1/audio-analysis/3zQw...       197680   \n",
       "\n",
       "      time_signature  \n",
       "0                  4  \n",
       "1                  4  \n",
       "2                  4  \n",
       "3                  4  \n",
       "4                  4  \n",
       "...              ...  \n",
       "6288               4  \n",
       "6289               4  \n",
       "6290               4  \n",
       "6291               4  \n",
       "6292               1  \n",
       "\n",
       "[6293 rows x 18 columns]"
      ]
     },
     "execution_count": 82,
     "metadata": {},
     "output_type": "execute_result"
    }
   ],
   "source": [
    "track_df"
   ]
  },
  {
   "cell_type": "code",
   "execution_count": 83,
   "id": "6a26e31a",
   "metadata": {},
   "outputs": [],
   "source": [
    "track_df.to_csv('Resources/features.csv')"
   ]
  },
  {
   "cell_type": "code",
   "execution_count": null,
   "id": "7389f690",
   "metadata": {},
   "outputs": [],
   "source": []
  }
 ],
 "metadata": {
  "kernelspec": {
   "display_name": "PythonData",
   "language": "python",
   "name": "pythondata"
  },
  "language_info": {
   "codemirror_mode": {
    "name": "ipython",
    "version": 3
   },
   "file_extension": ".py",
   "mimetype": "text/x-python",
   "name": "python",
   "nbconvert_exporter": "python",
   "pygments_lexer": "ipython3",
   "version": "3.9.7"
  }
 },
 "nbformat": 4,
 "nbformat_minor": 5
}
