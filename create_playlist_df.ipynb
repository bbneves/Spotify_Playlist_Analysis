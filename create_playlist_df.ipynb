{
 "cells": [
  {
   "cell_type": "code",
   "execution_count": null,
   "id": "f0dd4206",
   "metadata": {},
   "outputs": [],
   "source": [
    "from config import CLIENT_ID, CLIENT_SECRET\n",
    "import os\n",
    "import pprint\n",
    "import pandas as pd\n",
    "import spotipy\n",
    "from spotipy.oauth2 import SpotifyClientCredentials"
   ]
  },
  {
   "cell_type": "code",
   "execution_count": null,
   "id": "e68c7d16",
   "metadata": {},
   "outputs": [],
   "source": [
    "playlist_df = pd.read_csv(f'./Resources/playlists.csv')"
   ]
  },
  {
   "cell_type": "code",
   "execution_count": null,
   "id": "d25027e3",
   "metadata": {},
   "outputs": [],
   "source": [
    "playlist_df = playlist_df.dropna(axis=0)"
   ]
  },
  {
   "cell_type": "code",
   "execution_count": null,
   "id": "d1b11c76",
   "metadata": {},
   "outputs": [],
   "source": [
    "playlist_df"
   ]
  },
  {
   "cell_type": "code",
   "execution_count": null,
   "id": "02059013",
   "metadata": {},
   "outputs": [],
   "source": [
    "# Set environment variables\n",
    "os.environ['SPOTIPY_CLIENT_ID'] = CLIENT_ID\n",
    "os.environ['SPOTIPY_CLIENT_SECRET'] = CLIENT_SECRET"
   ]
  },
  {
   "cell_type": "code",
   "execution_count": null,
   "id": "f401b1aa",
   "metadata": {},
   "outputs": [],
   "source": [
    "# instantiate Spotify class\n",
    "sp = spotipy.Spotify(client_credentials_manager=SpotifyClientCredentials())"
   ]
  },
  {
   "cell_type": "code",
   "execution_count": null,
   "id": "33326484",
   "metadata": {
    "scrolled": true
   },
   "outputs": [],
   "source": [
    "#playlist_dfs = []\n",
    "songs_dfs = []\n",
    "\n",
    "# Iterate over playlist dataframe to grab song info for each playlist\n",
    "for index, row in playlist_df[:50].iterrows():\n",
    "    \n",
    "    print(f'Processing playlist {index} of {len(playlist_df)}')\n",
    "    \n",
    "    # Grabbing URI for the playlist\n",
    "    playlist_uri = row['URI'] \n",
    "    print(playlist_uri)\n",
    "    \n",
    "    # Make temporary table for each playlist: subsetting playlist df\n",
    "    temp = playlist_df[playlist_df['URI']==playlist_uri]\n",
    "    \n",
    "    # Get all songs from playlist\n",
    "    song_count = len(sp.playlist_tracks(playlist_uri)[\"items\"])\n",
    "    \n",
    "    # Temporary table for all songs in this playlist\n",
    "    songs = []\n",
    "    \n",
    "    # Get info for each song\n",
    "    for song_index in range(0, song_count):\n",
    "\n",
    "        print(f'\\t Adding info for song {song_index} out of {song_count}... \\n')\n",
    "        \n",
    "        song_temp = temp.copy()\n",
    "        \n",
    "        try:\n",
    "            ## Add song info to the table\n",
    "            # Grab URI\n",
    "            song_temp['Song URI'] = sp.playlist_tracks(playlist_uri)[\"items\"][song_index][\"track\"][\"uri\"]\n",
    "\n",
    "            # Grab Popularity\n",
    "            song_temp['Popularity'] = sp.playlist_tracks(playlist_uri)[\"items\"][song_index][\"track\"][\"popularity\"]\n",
    "\n",
    "            # Grab Artist Name\n",
    "            song_temp['Artist Name'] = sp.playlist_tracks(playlist_uri)[\"items\"][song_index][\"track\"][\"artists\"][0]['name']\n",
    "\n",
    "            # Grab Song Name\n",
    "            song_temp['Song Name'] = sp.playlist_tracks(playlist_uri)[\"items\"][song_index][\"track\"][\"name\"]\n",
    "\n",
    "            # Grab popularity score\n",
    "            songs.append(song_temp)\n",
    "\n",
    "        except TypeError:\n",
    "            print(f'\\t Skipping info for song {song_index} out of {song_count}... \\n')\n",
    "            \n",
    "    \n",
    "    # Make song table\n",
    "    songs = pd.concat(songs)\n",
    "    \n",
    "    # Add to playlist\n",
    "    #playlist_dfs.append(songs)\n",
    "    songs_dfs.append(songs)\n",
    "\n",
    "# Bring everything together \n",
    "pd.concat(songs_dfs)\n",
    "playlist_df = pd.DataFrame(pd.concat(songs_dfs))\n",
    "#pd.concat(playlist_dfs)"
   ]
  },
  {
   "cell_type": "markdown",
   "id": "d6a989c3",
   "metadata": {},
   "source": [
    "## maybe there is a better way to do this but the following line isn't something that we had and therefore the dataframe I had exported previously only grabbed the last \"songs_dfs\" and was returned as a list instead of a dataframe"
   ]
  },
  {
   "cell_type": "code",
   "execution_count": null,
   "id": "c249c876",
   "metadata": {},
   "outputs": [],
   "source": [
    "playlist_df = pd.DataFrame(pd.concat(songs_dfs))"
   ]
  },
  {
   "cell_type": "code",
   "execution_count": null,
   "id": "e768b51d",
   "metadata": {},
   "outputs": [],
   "source": [
    "playlist_df.head()"
   ]
  },
  {
   "cell_type": "code",
   "execution_count": null,
   "id": "0566d9cc",
   "metadata": {},
   "outputs": [],
   "source": [
    "playlist_df.to_csv('Resources/first50_playlists.csv')"
   ]
  }
 ],
 "metadata": {
  "kernelspec": {
   "display_name": "PythonData",
   "language": "python",
   "name": "pythondata"
  },
  "language_info": {
   "codemirror_mode": {
    "name": "ipython",
    "version": 3
   },
   "file_extension": ".py",
   "mimetype": "text/x-python",
   "name": "python",
   "nbconvert_exporter": "python",
   "pygments_lexer": "ipython3",
   "version": "3.9.7"
  }
 },
 "nbformat": 4,
 "nbformat_minor": 5
}
