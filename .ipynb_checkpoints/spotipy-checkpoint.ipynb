{
 "cells": [
  {
   "cell_type": "markdown",
   "id": "d3a815d9",
   "metadata": {},
   "source": [
    "### utilizing Spotipy library\n",
    "https://spotipy.readthedocs.io/en/master/"
   ]
  },
  {
   "cell_type": "code",
   "execution_count": null,
   "id": "118404d1",
   "metadata": {},
   "outputs": [],
   "source": [
    "import pandas as pd\n",
    "import spotipy \n",
    "from spotipy.oauth2 import SpotifyClientCredentials\n",
    "import config\n",
    "import os\n",
    "import pprint\n",
    "import csv"
   ]
  },
  {
   "cell_type": "markdown",
   "id": "512028e7",
   "metadata": {},
   "source": [
    "## sensitive info should be saved in your own config file\n",
    "at least for now."
   ]
  },
  {
   "cell_type": "code",
   "execution_count": null,
   "id": "90d72878",
   "metadata": {},
   "outputs": [],
   "source": [
    "# Set environment variables\n",
    "os.environ['SPOTIPY_CLIENT_ID'] = '815e1a0643ae4d7db1f270ea81fc756d'\n",
    "os.environ['SPOTIPY_CLIENT_SECRET'] = 'baa1d7fbcf2346338fe77ab64f33f2d1'\n",
    "#os.environ['SPOTIPY_REDIRECT_URI'] = REDIRECT_URI"
   ]
  },
  {
   "cell_type": "code",
   "execution_count": null,
   "id": "eda0b090",
   "metadata": {},
   "outputs": [],
   "source": [
    "envy_uri = 'spotify:artist:0CfjW2VuMdrhWodHtG7DWi'\n",
    "\n",
    "#auth_manager = SpotifyClientCredentials()\n",
    "#sp = spotipy.Spotify(auth_manager=auth_manager)\n",
    "sp = spotipy.Spotify(client_credentials_manager=SpotifyClientCredentials())\n",
    "\n",
    "results = sp.artist_albums(envy_uri, album_type='album')\n",
    "albums = results['items']\n",
    "while results['next']:\n",
    "    results = sp.next(results)\n",
    "    albums.extend(results['items'])\n",
    "\n",
    "for album in albums:\n",
    "    print(album['name'])"
   ]
  },
  {
   "cell_type": "markdown",
   "id": "e12c5740",
   "metadata": {},
   "source": [
    "## test playlist (only has 36 songs)\n",
    "https://open.spotify.com/playlist/2kDhFUoUK822iKJhKfyn4U?si=ed745160d4be44dd"
   ]
  },
  {
   "cell_type": "markdown",
   "id": "2e481798",
   "metadata": {},
   "source": [
    "### add the URI \n",
    "assuming we can eventually pass in a list of playlists"
   ]
  },
  {
   "cell_type": "code",
   "execution_count": null,
   "id": "d04c4eb5",
   "metadata": {},
   "outputs": [],
   "source": [
    "playlist = 'spotify:playlist:2kDhFUoUK822iKJhKfyn4U'"
   ]
  },
  {
   "cell_type": "markdown",
   "id": "d174eb24",
   "metadata": {},
   "source": [
    "### playlist_tracks\n",
    "Get full details of the tracks of a playlist.\n",
    "> playlist_tracks(playlist_id, fields=None, limit=100, offset=0, market=None, additional_types=('track', ))\n",
    "\n",
    "Parameters:<br>\n",
    "- playlist_id - the playlist ID, URI or URL\n",
    "- fields - which fields to return\n",
    "- limit - the maximum number of tracks to return\n",
    "- offset - the index of the first track to return\n",
    "- market - an ISO 3166-1 alpha-2 country code.\n",
    "- additional_types - list of item types to return.\n",
    "  - valid types are: track and episode"
   ]
  },
  {
   "cell_type": "code",
   "execution_count": null,
   "id": "20d22880",
   "metadata": {},
   "outputs": [],
   "source": [
    "track_list = sp.playlist_tracks(playlist)"
   ]
  },
  {
   "cell_type": "markdown",
   "id": "a761ed4a",
   "metadata": {},
   "source": [
    "### split to extract just the track info"
   ]
  },
  {
   "cell_type": "code",
   "execution_count": null,
   "id": "586989a2",
   "metadata": {},
   "outputs": [],
   "source": [
    "playlist_URI = playlist.split(\"/\")[-1].split(\"?\")[0]"
   ]
  },
  {
   "cell_type": "markdown",
   "id": "63c3edca",
   "metadata": {},
   "source": [
    "### create list of tracks"
   ]
  },
  {
   "cell_type": "code",
   "execution_count": null,
   "id": "40ac18e7",
   "metadata": {},
   "outputs": [],
   "source": [
    "track_uris = [x[\"track\"][\"uri\"] for x in sp.playlist_tracks(playlist_URI)[\"items\"]]"
   ]
  },
  {
   "cell_type": "markdown",
   "id": "6ea3935c",
   "metadata": {},
   "source": [
    "### view track URI's"
   ]
  },
  {
   "cell_type": "code",
   "execution_count": null,
   "id": "d7a8625d",
   "metadata": {},
   "outputs": [],
   "source": [
    "track_uris"
   ]
  },
  {
   "cell_type": "markdown",
   "id": "b69721ef",
   "metadata": {},
   "source": [
    "### convert to DataFrame \n",
    "this may not be needed at this time with this data but good practice nonetheless"
   ]
  },
  {
   "cell_type": "code",
   "execution_count": null,
   "id": "41355e64",
   "metadata": {},
   "outputs": [],
   "source": [
    "track_df = pd.DataFrame(track_uris)"
   ]
  },
  {
   "cell_type": "markdown",
   "id": "5e4c8bd9",
   "metadata": {},
   "source": [
    "### view the DataFrame"
   ]
  },
  {
   "cell_type": "code",
   "execution_count": null,
   "id": "de5a5f4a",
   "metadata": {},
   "outputs": [],
   "source": [
    "track_df"
   ]
  },
  {
   "cell_type": "markdown",
   "id": "87b3613e",
   "metadata": {},
   "source": [
    "### PrettyPrinter\n",
    "Construct a PrettyPrinter instance. This constructor understands several keyword parameters.\n",
    "> pprint.PrettyPrinter(indent=1, width=80, depth=None, stream=None, *, compact=False, sort_dicts=True, underscore_numbers=False)\n",
    "\n",
    "- stream (default sys.stdout) is a file-like object to which the output will be written by calling its write() method.\n",
    "\n",
    "Other values configure the manner in which nesting of complex data structures is displayed.\n",
    "\n",
    "- indent (default 1) specifies the amount of indentation added for each nesting level.\n",
    "\n",
    "- depth controls the number of nesting levels which may be printed; if the data structure being printed is too deep, the next contained level is replaced by .... By default, there is no constraint on the depth of the objects being formatted.\n",
    "\n",
    "- width (default 80) specifies the desired maximum number of characters per line in the output. If a structure cannot be formatted within the width constraint, a best effort will be made.\n",
    "\n",
    "- compact impacts the way that long sequences (lists, tuples, sets, etc) are formatted. If compact is false (the default) then each item of a sequence will be formatted on a separate line. If compact is true, as many items as will fit within the width will be formatted on each output line.\n",
    "\n",
    "- If sort_dicts is true (the default), dictionaries will be formatted with their keys sorted, otherwise they will display in insertion order.\n",
    "\n",
    "- If underscore_numbers is true, integers will be formatted with the _ character for a thousands separator, otherwise underscores are not displayed (the default)."
   ]
  },
  {
   "cell_type": "code",
   "execution_count": null,
   "id": "9180ba72",
   "metadata": {},
   "outputs": [],
   "source": [
    "pp = pprint.PrettyPrinter(compact=True)"
   ]
  },
  {
   "cell_type": "code",
   "execution_count": null,
   "id": "1fa82be8",
   "metadata": {
    "scrolled": false
   },
   "outputs": [],
   "source": [
    "pp.pprint(track_list)"
   ]
  },
  {
   "cell_type": "markdown",
   "id": "0be66043",
   "metadata": {},
   "source": [
    "### audio_features\n",
    "Get audio features for one or multiple tracks based upon their Spotify IDs Parameters\n",
    "> audio_features(tracks=[])\n",
    "\n",
    "- tracks - a list of track URIs, URLs or IDs, maximum: 100 ids"
   ]
  },
  {
   "cell_type": "code",
   "execution_count": null,
   "id": "a5ba008b",
   "metadata": {},
   "outputs": [],
   "source": [
    "playlist_info = sp.audio_features(track_uris)"
   ]
  },
  {
   "cell_type": "code",
   "execution_count": null,
   "id": "b7baf217",
   "metadata": {},
   "outputs": [],
   "source": [
    "playlist_info"
   ]
  },
  {
   "cell_type": "markdown",
   "id": "c9110d47",
   "metadata": {},
   "source": [
    "### confirm how many tracks in list"
   ]
  },
  {
   "cell_type": "code",
   "execution_count": null,
   "id": "60953d9f",
   "metadata": {},
   "outputs": [],
   "source": [
    "len(playlist_info)"
   ]
  },
  {
   "cell_type": "markdown",
   "id": "f12590b4",
   "metadata": {},
   "source": [
    "### convert to DataFrame "
   ]
  },
  {
   "cell_type": "code",
   "execution_count": null,
   "id": "2e809693",
   "metadata": {},
   "outputs": [],
   "source": [
    "playlist_df = pd.DataFrame(playlist_info)"
   ]
  },
  {
   "cell_type": "code",
   "execution_count": null,
   "id": "2c8f4afd",
   "metadata": {},
   "outputs": [],
   "source": [
    "playlist_df"
   ]
  },
  {
   "cell_type": "code",
   "execution_count": null,
   "id": "a6c4c849",
   "metadata": {},
   "outputs": [],
   "source": [
    "playlists_df = pd.read_csv('playlists.csv')\n",
    "playlists_df = playlists_df.dropna()\n",
    "playlists_df.head()"
   ]
  },
  {
   "cell_type": "code",
   "execution_count": null,
   "id": "9c87f8d9",
   "metadata": {},
   "outputs": [],
   "source": []
  }
 ],
 "metadata": {
  "kernelspec": {
   "display_name": "PythonData",
   "language": "python",
   "name": "pythondata"
  },
  "language_info": {
   "codemirror_mode": {
    "name": "ipython",
    "version": 3
   },
   "file_extension": ".py",
   "mimetype": "text/x-python",
   "name": "python",
   "nbconvert_exporter": "python",
   "pygments_lexer": "ipython3",
   "version": "3.9.7"
  }
 },
 "nbformat": 4,
 "nbformat_minor": 5
}
