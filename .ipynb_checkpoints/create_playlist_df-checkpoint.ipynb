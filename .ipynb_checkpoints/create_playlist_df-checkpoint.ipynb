{
 "cells": [
  {
   "cell_type": "code",
   "execution_count": null,
   "id": "9f741ee3",
   "metadata": {},
   "outputs": [],
   "source": [
    "from config import CLIENT_ID, CLIENT_SECRET\n",
    "import os\n",
    "import pprint\n",
    "import pandas as pd\n",
    "import spotipy\n",
    "from spotipy.oauth2 import SpotifyClientCredentials"
   ]
  },
  {
   "cell_type": "code",
   "execution_count": null,
   "id": "efe942e1",
   "metadata": {},
   "outputs": [],
   "source": [
    "playlist_df = pd.read_csv(f'./Resources/playlists.csv')"
   ]
  },
  {
   "cell_type": "code",
   "execution_count": null,
   "id": "6194761b",
   "metadata": {},
   "outputs": [],
   "source": [
    "playlist_df = playlist_df.dropna(axis=0)"
   ]
  },
  {
   "cell_type": "code",
   "execution_count": null,
   "id": "26837b68",
   "metadata": {},
   "outputs": [],
   "source": [
    "playlist_df"
   ]
  },
  {
   "cell_type": "code",
   "execution_count": null,
   "id": "3d9a0c90",
   "metadata": {},
   "outputs": [],
   "source": [
    "playlists = playlist_df.URI.astype(str).tolist()"
   ]
  },
  {
   "cell_type": "code",
   "execution_count": null,
   "id": "afea9cd6",
   "metadata": {},
   "outputs": [],
   "source": [
    "playlists"
   ]
  },
  {
   "cell_type": "code",
   "execution_count": null,
   "id": "9552e9fc",
   "metadata": {},
   "outputs": [],
   "source": [
    "# Set environment variables\n",
    "os.environ['SPOTIPY_CLIENT_ID'] = CLIENT_ID\n",
    "os.environ['SPOTIPY_CLIENT_SECRET'] = CLIENT_SECRET"
   ]
  },
  {
   "cell_type": "code",
   "execution_count": null,
   "id": "78070779",
   "metadata": {},
   "outputs": [],
   "source": [
    "# instantiate Spotify class\n",
    "sp = spotipy.Spotify(client_credentials_manager=SpotifyClientCredentials())"
   ]
  },
  {
   "cell_type": "code",
   "execution_count": null,
   "id": "bdd4de88",
   "metadata": {},
   "outputs": [],
   "source": [
    "type(playlists)"
   ]
  },
  {
   "cell_type": "code",
   "execution_count": null,
   "id": "88fe3fde",
   "metadata": {},
   "outputs": [],
   "source": [
    "len(playlists)"
   ]
  },
  {
   "cell_type": "code",
   "execution_count": null,
   "id": "350bbfe4",
   "metadata": {},
   "outputs": [],
   "source": [
    "dir(playlists)"
   ]
  },
  {
   "cell_type": "markdown",
   "id": "ed859bf8",
   "metadata": {},
   "source": [
    "## We need to iterate through the 100 list of playlists to pull track info from each\n",
    ".playlist_tracks method uses .split which is unable to process a Pandas Series object or a Python list object"
   ]
  },
  {
   "cell_type": "code",
   "execution_count": null,
   "id": "c3c4c409",
   "metadata": {},
   "outputs": [],
   "source": [
    "for x in playlists:\n",
    "    print(x)"
   ]
  },
  {
   "cell_type": "code",
   "execution_count": null,
   "id": "fefecd0c",
   "metadata": {},
   "outputs": [],
   "source": [
    "for i in playlists:\n",
    "    track_list = [x[\"track\"][\"uri\"] for x in sp.playlist_tracks(i)[\"items\"]]"
   ]
  },
  {
   "cell_type": "code",
   "execution_count": null,
   "id": "cc6b6d4a",
   "metadata": {},
   "outputs": [],
   "source": [
    "for i in range(len(playlists)):\n",
    "    track_list = [x[\"track\"][\"uri\"] for x in sp.playlist_tracks(playlists[i])[\"items\"]]\n",
    "    "
   ]
  },
  {
   "cell_type": "code",
   "execution_count": null,
   "id": "d32bb58b",
   "metadata": {},
   "outputs": [],
   "source": [
    "# playlists = playlist_df.URI.astype(str)\n",
    "# AttributeError: 'Series' object has no attribute 'split'\n",
    "# when datatype is pandas.core.series.Series\n",
    "\n",
    "# track_list = [x[\"track\"][\"uri\"] for x in sp.playlist_tracks(playlists)[\"items\"]]"
   ]
  },
  {
   "cell_type": "code",
   "execution_count": null,
   "id": "9e9c0db0",
   "metadata": {},
   "outputs": [],
   "source": [
    "# playlists = playlist_df.URI.astype(str).tolist()\n",
    "# AttributeError: 'list' object has no attribute 'split'\n",
    "# when datatype is list\n",
    "\n",
    "# track_list = [x[\"track\"][\"uri\"] for x in sp.playlist_tracks(playlists)[\"items\"]]"
   ]
  },
  {
   "cell_type": "code",
   "execution_count": null,
   "id": "05c35e61",
   "metadata": {},
   "outputs": [],
   "source": [
    "# this is an example of pulling all tracks from the first playlist in the list \n",
    "track_list = [x[\"track\"][\"uri\"] for x in sp.playlist_tracks(playlists[1])[\"items\"]]"
   ]
  },
  {
   "cell_type": "code",
   "execution_count": null,
   "id": "587e1522",
   "metadata": {},
   "outputs": [],
   "source": [
    "track_list"
   ]
  },
  {
   "cell_type": "code",
   "execution_count": null,
   "id": "7ccf8da1",
   "metadata": {},
   "outputs": [],
   "source": [
    "track_df = pd.DataFrame(track_list)"
   ]
  },
  {
   "cell_type": "code",
   "execution_count": null,
   "id": "db4596d0",
   "metadata": {},
   "outputs": [],
   "source": [
    "track_df"
   ]
  },
  {
   "cell_type": "code",
   "execution_count": null,
   "id": "b15d92e6",
   "metadata": {},
   "outputs": [],
   "source": [
    "track_info = sp.audio_features(track_list)"
   ]
  },
  {
   "cell_type": "code",
   "execution_count": null,
   "id": "5597f10e",
   "metadata": {},
   "outputs": [],
   "source": [
    "track_info"
   ]
  },
  {
   "cell_type": "code",
   "execution_count": null,
   "id": "04dd2bcf",
   "metadata": {},
   "outputs": [],
   "source": [
    "len(track_info)"
   ]
  },
  {
   "cell_type": "code",
   "execution_count": null,
   "id": "994221ba",
   "metadata": {},
   "outputs": [],
   "source": [
    "playlist_df = pd.DataFrame(track_info)"
   ]
  },
  {
   "cell_type": "code",
   "execution_count": null,
   "id": "0fc6aca6",
   "metadata": {},
   "outputs": [],
   "source": [
    "playlist_df"
   ]
  },
  {
   "cell_type": "code",
   "execution_count": null,
   "id": "8d87c1be",
   "metadata": {},
   "outputs": [],
   "source": []
  }
 ],
 "metadata": {
  "kernelspec": {
   "display_name": "PythonData",
   "language": "python",
   "name": "pythondata"
  },
  "language_info": {
   "codemirror_mode": {
    "name": "ipython",
    "version": 3
   },
   "file_extension": ".py",
   "mimetype": "text/x-python",
   "name": "python",
   "nbconvert_exporter": "python",
   "pygments_lexer": "ipython3",
   "version": "3.9.7"
  }
 },
 "nbformat": 4,
 "nbformat_minor": 5
}
