{
 "cells": [
  {
   "cell_type": "code",
   "execution_count": 1,
   "id": "02f55353",
   "metadata": {},
   "outputs": [],
   "source": [
    "import os\n",
    "import pprint\n",
    "import pandas as pd\n",
    "import spotipy\n",
    "import time\n",
    "from spotipy.oauth2 import SpotifyClientCredentials\n",
    "from config import CLIENT_ID, CLIENT_SECRET"
   ]
  },
  {
   "cell_type": "code",
   "execution_count": 2,
   "id": "eee56170",
   "metadata": {},
   "outputs": [
    {
     "data": {
      "text/html": [
       "<div>\n",
       "<style scoped>\n",
       "    .dataframe tbody tr th:only-of-type {\n",
       "        vertical-align: middle;\n",
       "    }\n",
       "\n",
       "    .dataframe tbody tr th {\n",
       "        vertical-align: top;\n",
       "    }\n",
       "\n",
       "    .dataframe thead th {\n",
       "        text-align: right;\n",
       "    }\n",
       "</style>\n",
       "<table border=\"1\" class=\"dataframe\">\n",
       "  <thead>\n",
       "    <tr style=\"text-align: right;\">\n",
       "      <th></th>\n",
       "      <th>Unnamed: 0</th>\n",
       "      <th>Playlist</th>\n",
       "      <th>Followers</th>\n",
       "      <th>Songs</th>\n",
       "      <th>Songs (Capped)</th>\n",
       "      <th>Genre 1</th>\n",
       "      <th>Genre 2</th>\n",
       "      <th>URI</th>\n",
       "      <th>Song URI</th>\n",
       "      <th>Popularity</th>\n",
       "      <th>Artist Name</th>\n",
       "      <th>Song Name</th>\n",
       "    </tr>\n",
       "  </thead>\n",
       "  <tbody>\n",
       "    <tr>\n",
       "      <th>0</th>\n",
       "      <td>0</td>\n",
       "      <td>NaN</td>\n",
       "      <td>NaN</td>\n",
       "      <td>NaN</td>\n",
       "      <td>NaN</td>\n",
       "      <td>NaN</td>\n",
       "      <td>NaN</td>\n",
       "      <td>spotify:playlist:37i9dQZF1DXdTCdwCKzXwo</td>\n",
       "      <td>spotify:track:3PG7BAJG9WkmNOJOlc4uAo</td>\n",
       "      <td>62</td>\n",
       "      <td>The Velvet Underground</td>\n",
       "      <td>Femme Fatale</td>\n",
       "    </tr>\n",
       "    <tr>\n",
       "      <th>1</th>\n",
       "      <td>0</td>\n",
       "      <td>NaN</td>\n",
       "      <td>NaN</td>\n",
       "      <td>NaN</td>\n",
       "      <td>NaN</td>\n",
       "      <td>NaN</td>\n",
       "      <td>NaN</td>\n",
       "      <td>spotify:playlist:37i9dQZF1DXdTCdwCKzXwo</td>\n",
       "      <td>spotify:track:6ITuEsxEy2qPhqMowdDAeI</td>\n",
       "      <td>65</td>\n",
       "      <td>The Clash</td>\n",
       "      <td>Train in Vain (Stand by Me) - Remastered</td>\n",
       "    </tr>\n",
       "    <tr>\n",
       "      <th>2</th>\n",
       "      <td>0</td>\n",
       "      <td>NaN</td>\n",
       "      <td>NaN</td>\n",
       "      <td>NaN</td>\n",
       "      <td>NaN</td>\n",
       "      <td>NaN</td>\n",
       "      <td>NaN</td>\n",
       "      <td>spotify:playlist:37i9dQZF1DXdTCdwCKzXwo</td>\n",
       "      <td>spotify:track:0WQiDwKJclirSYG9v5tayI</td>\n",
       "      <td>78</td>\n",
       "      <td>The Smiths</td>\n",
       "      <td>There Is a Light That Never Goes Out - 2011 Re...</td>\n",
       "    </tr>\n",
       "    <tr>\n",
       "      <th>3</th>\n",
       "      <td>0</td>\n",
       "      <td>NaN</td>\n",
       "      <td>NaN</td>\n",
       "      <td>NaN</td>\n",
       "      <td>NaN</td>\n",
       "      <td>NaN</td>\n",
       "      <td>NaN</td>\n",
       "      <td>spotify:playlist:37i9dQZF1DXdTCdwCKzXwo</td>\n",
       "      <td>spotify:track:1FvDJ9KGxcqwv1utyPL3JZ</td>\n",
       "      <td>76</td>\n",
       "      <td>The Smiths</td>\n",
       "      <td>This Charming Man - 2011 Remaster</td>\n",
       "    </tr>\n",
       "    <tr>\n",
       "      <th>4</th>\n",
       "      <td>0</td>\n",
       "      <td>NaN</td>\n",
       "      <td>NaN</td>\n",
       "      <td>NaN</td>\n",
       "      <td>NaN</td>\n",
       "      <td>NaN</td>\n",
       "      <td>NaN</td>\n",
       "      <td>spotify:playlist:37i9dQZF1DXdTCdwCKzXwo</td>\n",
       "      <td>spotify:track:1LzNfuep1bnAUR9skqdHCK</td>\n",
       "      <td>78</td>\n",
       "      <td>Mazzy Star</td>\n",
       "      <td>Fade Into You</td>\n",
       "    </tr>\n",
       "  </tbody>\n",
       "</table>\n",
       "</div>"
      ],
      "text/plain": [
       "   Unnamed: 0  Playlist  Followers  Songs  Songs (Capped)  Genre 1  Genre 2  \\\n",
       "0           0       NaN        NaN    NaN             NaN      NaN      NaN   \n",
       "1           0       NaN        NaN    NaN             NaN      NaN      NaN   \n",
       "2           0       NaN        NaN    NaN             NaN      NaN      NaN   \n",
       "3           0       NaN        NaN    NaN             NaN      NaN      NaN   \n",
       "4           0       NaN        NaN    NaN             NaN      NaN      NaN   \n",
       "\n",
       "                                       URI  \\\n",
       "0  spotify:playlist:37i9dQZF1DXdTCdwCKzXwo   \n",
       "1  spotify:playlist:37i9dQZF1DXdTCdwCKzXwo   \n",
       "2  spotify:playlist:37i9dQZF1DXdTCdwCKzXwo   \n",
       "3  spotify:playlist:37i9dQZF1DXdTCdwCKzXwo   \n",
       "4  spotify:playlist:37i9dQZF1DXdTCdwCKzXwo   \n",
       "\n",
       "                               Song URI  Popularity             Artist Name  \\\n",
       "0  spotify:track:3PG7BAJG9WkmNOJOlc4uAo          62  The Velvet Underground   \n",
       "1  spotify:track:6ITuEsxEy2qPhqMowdDAeI          65               The Clash   \n",
       "2  spotify:track:0WQiDwKJclirSYG9v5tayI          78              The Smiths   \n",
       "3  spotify:track:1FvDJ9KGxcqwv1utyPL3JZ          76              The Smiths   \n",
       "4  spotify:track:1LzNfuep1bnAUR9skqdHCK          78              Mazzy Star   \n",
       "\n",
       "                                           Song Name  \n",
       "0                                       Femme Fatale  \n",
       "1           Train in Vain (Stand by Me) - Remastered  \n",
       "2  There Is a Light That Never Goes Out - 2011 Re...  \n",
       "3                  This Charming Man - 2011 Remaster  \n",
       "4                                      Fade Into You  "
      ]
     },
     "execution_count": 2,
     "metadata": {},
     "output_type": "execute_result"
    }
   ],
   "source": [
    "playlist_df = pd.read_csv(f'./Resources/added_playlists.csv')\n",
    "playlist_df.head()"
   ]
  },
  {
   "cell_type": "code",
   "execution_count": 3,
   "id": "fbbf02b2",
   "metadata": {},
   "outputs": [
    {
     "name": "stdout",
     "output_type": "stream",
     "text": [
      "<class 'pandas.core.frame.DataFrame'>\n",
      "RangeIndex: 1087 entries, 0 to 1086\n",
      "Data columns (total 12 columns):\n",
      " #   Column          Non-Null Count  Dtype  \n",
      "---  ------          --------------  -----  \n",
      " 0   Unnamed: 0      1087 non-null   int64  \n",
      " 1   Playlist        0 non-null      float64\n",
      " 2   Followers       0 non-null      float64\n",
      " 3   Songs           0 non-null      float64\n",
      " 4   Songs (Capped)  0 non-null      float64\n",
      " 5   Genre 1         0 non-null      float64\n",
      " 6   Genre 2         0 non-null      float64\n",
      " 7   URI             1087 non-null   object \n",
      " 8   Song URI        1087 non-null   object \n",
      " 9   Popularity      1087 non-null   int64  \n",
      " 10  Artist Name     1087 non-null   object \n",
      " 11  Song Name       1087 non-null   object \n",
      "dtypes: float64(6), int64(2), object(4)\n",
      "memory usage: 102.0+ KB\n"
     ]
    }
   ],
   "source": [
    "playlist_df.info()"
   ]
  },
  {
   "cell_type": "code",
   "execution_count": 4,
   "id": "515e5aee",
   "metadata": {},
   "outputs": [
    {
     "data": {
      "text/plain": [
       "Unnamed: 0        1087\n",
       "Playlist             0\n",
       "Followers            0\n",
       "Songs                0\n",
       "Songs (Capped)       0\n",
       "Genre 1              0\n",
       "Genre 2              0\n",
       "URI               1087\n",
       "Song URI          1087\n",
       "Popularity        1087\n",
       "Artist Name       1087\n",
       "Song Name         1087\n",
       "dtype: int64"
      ]
     },
     "execution_count": 4,
     "metadata": {},
     "output_type": "execute_result"
    }
   ],
   "source": [
    "playlist_df.count()"
   ]
  },
  {
   "cell_type": "code",
   "execution_count": 9,
   "id": "e6f09b5b",
   "metadata": {},
   "outputs": [
    {
     "data": {
      "text/plain": [
       "vaporwave                   100\n",
       "Get Turnt                   100\n",
       "Rockin' Vibes               100\n",
       "Bedroom Pop                 100\n",
       "Metropolis                  100\n",
       "                           ... \n",
       "Alternative Hip-Hop          50\n",
       "Baila Reggaeton              50\n",
       "It's A Hit!                  50\n",
       "In The Name Of The Blues     49\n",
       "Dramatic Classical           41\n",
       "Name: Playlist, Length: 100, dtype: int64"
      ]
     },
     "execution_count": 9,
     "metadata": {},
     "output_type": "execute_result"
    }
   ],
   "source": [
    "playlist_df['Playlist'].value_counts()"
   ]
  },
  {
   "cell_type": "code",
   "execution_count": 5,
   "id": "1b484050",
   "metadata": {},
   "outputs": [],
   "source": [
    "# Set environment variables\n",
    "os.environ['SPOTIPY_CLIENT_ID'] = CLIENT_ID\n",
    "os.environ['SPOTIPY_CLIENT_SECRET'] = CLIENT_SECRET"
   ]
  },
  {
   "cell_type": "code",
   "execution_count": 6,
   "id": "7ea78d1d",
   "metadata": {},
   "outputs": [],
   "source": [
    "# instantiate Spotify class\n",
    "sp = spotipy.Spotify(client_credentials_manager=SpotifyClientCredentials())"
   ]
  },
  {
   "cell_type": "code",
   "execution_count": 7,
   "id": "be5c4823",
   "metadata": {},
   "outputs": [],
   "source": [
    "track_uris = playlist_df[\"Song URI\"]"
   ]
  },
  {
   "cell_type": "code",
   "execution_count": 8,
   "id": "6d87fadf",
   "metadata": {},
   "outputs": [
    {
     "data": {
      "text/plain": [
       "0       spotify:track:3PG7BAJG9WkmNOJOlc4uAo\n",
       "1       spotify:track:6ITuEsxEy2qPhqMowdDAeI\n",
       "2       spotify:track:0WQiDwKJclirSYG9v5tayI\n",
       "3       spotify:track:1FvDJ9KGxcqwv1utyPL3JZ\n",
       "4       spotify:track:1LzNfuep1bnAUR9skqdHCK\n",
       "                        ...                 \n",
       "1082    spotify:track:3PoEcTE8L23vYlAbIYbtHA\n",
       "1083    spotify:track:7fyHrLP3XxlVjHZHtgeWVe\n",
       "1084    spotify:track:0x8GQiIDqb7jbkrZjHoGF7\n",
       "1085    spotify:track:4uNr9f4s35mXouHntXwVl6\n",
       "1086    spotify:track:2fJHXL82X3wtyXMzcSifdj\n",
       "Name: Song URI, Length: 1087, dtype: object"
      ]
     },
     "execution_count": 8,
     "metadata": {},
     "output_type": "execute_result"
    }
   ],
   "source": [
    "track_uris"
   ]
  },
  {
   "cell_type": "markdown",
   "id": "687a3f44",
   "metadata": {},
   "source": [
    "### audio_features\n",
    "Get audio features for one or multiple tracks based upon their Spotify IDs Parameters\n",
    "> audio_features(tracks=[])\n",
    "\n",
    "- tracks - a list of track URIs, URLs or IDs, maximum: 100 ids"
   ]
  },
  {
   "cell_type": "code",
   "execution_count": 9,
   "id": "b7dc0fea",
   "metadata": {},
   "outputs": [],
   "source": [
    "split_tracks = [track_uris[i:i + 100] for i in range(0, len(track_uris), 100)]"
   ]
  },
  {
   "cell_type": "code",
   "execution_count": 10,
   "id": "f2b246a6",
   "metadata": {},
   "outputs": [
    {
     "data": {
      "text/plain": [
       "1087"
      ]
     },
     "execution_count": 10,
     "metadata": {},
     "output_type": "execute_result"
    }
   ],
   "source": [
    "len(track_uris)"
   ]
  },
  {
   "cell_type": "code",
   "execution_count": 11,
   "id": "e91893d0",
   "metadata": {},
   "outputs": [
    {
     "data": {
      "text/plain": [
       "11"
      ]
     },
     "execution_count": 11,
     "metadata": {},
     "output_type": "execute_result"
    }
   ],
   "source": [
    "len(split_tracks)"
   ]
  },
  {
   "cell_type": "code",
   "execution_count": 12,
   "id": "d6185cca",
   "metadata": {},
   "outputs": [
    {
     "data": {
      "text/plain": [
       "'spotify:track:3PG7BAJG9WkmNOJOlc4uAo'"
      ]
     },
     "execution_count": 12,
     "metadata": {},
     "output_type": "execute_result"
    }
   ],
   "source": [
    "split_tracks[0][0]"
   ]
  },
  {
   "cell_type": "code",
   "execution_count": 13,
   "id": "5931854b",
   "metadata": {},
   "outputs": [
    {
     "name": "stdout",
     "output_type": "stream",
     "text": [
      "100\n",
      "200\n",
      "300\n",
      "400\n",
      "500\n",
      "600\n",
      "700\n",
      "800\n",
      "900\n",
      "1000\n",
      "1087\n"
     ]
    }
   ],
   "source": [
    "# create empty list\n",
    "track_list = []\n",
    "\n",
    "# loop amount\n",
    "n = 11\n",
    "\n",
    "# loop n number of times\n",
    "for i in range(0, n):\n",
    "    \n",
    "    # sleep for 30 seconds between each set of 100 tracks to avoid API rate limit\n",
    "    time.sleep(30)\n",
    "    \n",
    "    # pull audio features\n",
    "    tracks = sp.audio_features(split_tracks[i])\n",
    "    \n",
    "    # add audio features to list\n",
    "    track_list = track_list + tracks\n",
    "    \n",
    "    # watch the track list grow\n",
    "    print(len(track_list))"
   ]
  },
  {
   "cell_type": "code",
   "execution_count": 19,
   "id": "9ee77a2a",
   "metadata": {},
   "outputs": [],
   "source": [
    "# remove None values\n",
    "track_list = [i for i in track_list if i is not None]"
   ]
  },
  {
   "cell_type": "code",
   "execution_count": 14,
   "id": "eda18525",
   "metadata": {},
   "outputs": [],
   "source": [
    "# convert the complete list to a dataframe    \n",
    "track_df = pd.DataFrame.from_records(track_list)"
   ]
  },
  {
   "cell_type": "code",
   "execution_count": 15,
   "id": "bf1093a8",
   "metadata": {},
   "outputs": [
    {
     "data": {
      "text/plain": [
       "1087"
      ]
     },
     "execution_count": 15,
     "metadata": {},
     "output_type": "execute_result"
    }
   ],
   "source": [
    "len(track_list)"
   ]
  },
  {
   "cell_type": "code",
   "execution_count": 16,
   "id": "dcab81d6",
   "metadata": {},
   "outputs": [
    {
     "name": "stdout",
     "output_type": "stream",
     "text": [
      "<class 'pandas.core.frame.DataFrame'>\n",
      "RangeIndex: 1087 entries, 0 to 1086\n",
      "Data columns (total 18 columns):\n",
      " #   Column            Non-Null Count  Dtype  \n",
      "---  ------            --------------  -----  \n",
      " 0   danceability      1087 non-null   float64\n",
      " 1   energy            1087 non-null   float64\n",
      " 2   key               1087 non-null   int64  \n",
      " 3   loudness          1087 non-null   float64\n",
      " 4   mode              1087 non-null   int64  \n",
      " 5   speechiness       1087 non-null   float64\n",
      " 6   acousticness      1087 non-null   float64\n",
      " 7   instrumentalness  1087 non-null   float64\n",
      " 8   liveness          1087 non-null   float64\n",
      " 9   valence           1087 non-null   float64\n",
      " 10  tempo             1087 non-null   float64\n",
      " 11  type              1087 non-null   object \n",
      " 12  id                1087 non-null   object \n",
      " 13  uri               1087 non-null   object \n",
      " 14  track_href        1087 non-null   object \n",
      " 15  analysis_url      1087 non-null   object \n",
      " 16  duration_ms       1087 non-null   int64  \n",
      " 17  time_signature    1087 non-null   int64  \n",
      "dtypes: float64(9), int64(4), object(5)\n",
      "memory usage: 153.0+ KB\n"
     ]
    }
   ],
   "source": [
    "track_df.info()"
   ]
  },
  {
   "cell_type": "code",
   "execution_count": 17,
   "id": "39d77e3e",
   "metadata": {},
   "outputs": [
    {
     "data": {
      "text/plain": [
       "{'danceability': 0.55,\n",
       " 'energy': 0.145,\n",
       " 'key': 0,\n",
       " 'loudness': -15.753,\n",
       " 'mode': 1,\n",
       " 'speechiness': 0.0332,\n",
       " 'acousticness': 0.913,\n",
       " 'instrumentalness': 0,\n",
       " 'liveness': 0.118,\n",
       " 'valence': 0.138,\n",
       " 'tempo': 103.918,\n",
       " 'type': 'audio_features',\n",
       " 'id': '3PG7BAJG9WkmNOJOlc4uAo',\n",
       " 'uri': 'spotify:track:3PG7BAJG9WkmNOJOlc4uAo',\n",
       " 'track_href': 'https://api.spotify.com/v1/tracks/3PG7BAJG9WkmNOJOlc4uAo',\n",
       " 'analysis_url': 'https://api.spotify.com/v1/audio-analysis/3PG7BAJG9WkmNOJOlc4uAo',\n",
       " 'duration_ms': 159000,\n",
       " 'time_signature': 4}"
      ]
     },
     "execution_count": 17,
     "metadata": {},
     "output_type": "execute_result"
    }
   ],
   "source": [
    "# view one track\n",
    "track_list[0]"
   ]
  },
  {
   "cell_type": "code",
   "execution_count": 24,
   "id": "69230538",
   "metadata": {},
   "outputs": [
    {
     "data": {
      "text/plain": [
       "list"
      ]
     },
     "execution_count": 24,
     "metadata": {},
     "output_type": "execute_result"
    }
   ],
   "source": [
    "type(track_list)"
   ]
  },
  {
   "cell_type": "code",
   "execution_count": 25,
   "id": "349826d9",
   "metadata": {},
   "outputs": [
    {
     "data": {
      "text/plain": [
       "dict"
      ]
     },
     "execution_count": 25,
     "metadata": {},
     "output_type": "execute_result"
    }
   ],
   "source": [
    "type(track_list[0])"
   ]
  },
  {
   "cell_type": "code",
   "execution_count": 26,
   "id": "b90e4599",
   "metadata": {},
   "outputs": [
    {
     "data": {
      "text/plain": [
       "list"
      ]
     },
     "execution_count": 26,
     "metadata": {},
     "output_type": "execute_result"
    }
   ],
   "source": [
    "type(tracks)"
   ]
  },
  {
   "cell_type": "code",
   "execution_count": 27,
   "id": "03db13fb",
   "metadata": {},
   "outputs": [
    {
     "data": {
      "text/plain": [
       "pandas.core.frame.DataFrame"
      ]
     },
     "execution_count": 27,
     "metadata": {},
     "output_type": "execute_result"
    }
   ],
   "source": [
    "type(track_df)"
   ]
  },
  {
   "cell_type": "code",
   "execution_count": 18,
   "id": "898126fa",
   "metadata": {},
   "outputs": [
    {
     "data": {
      "text/html": [
       "<div>\n",
       "<style scoped>\n",
       "    .dataframe tbody tr th:only-of-type {\n",
       "        vertical-align: middle;\n",
       "    }\n",
       "\n",
       "    .dataframe tbody tr th {\n",
       "        vertical-align: top;\n",
       "    }\n",
       "\n",
       "    .dataframe thead th {\n",
       "        text-align: right;\n",
       "    }\n",
       "</style>\n",
       "<table border=\"1\" class=\"dataframe\">\n",
       "  <thead>\n",
       "    <tr style=\"text-align: right;\">\n",
       "      <th></th>\n",
       "      <th>danceability</th>\n",
       "      <th>energy</th>\n",
       "      <th>key</th>\n",
       "      <th>loudness</th>\n",
       "      <th>mode</th>\n",
       "      <th>speechiness</th>\n",
       "      <th>acousticness</th>\n",
       "      <th>instrumentalness</th>\n",
       "      <th>liveness</th>\n",
       "      <th>valence</th>\n",
       "      <th>tempo</th>\n",
       "      <th>type</th>\n",
       "      <th>id</th>\n",
       "      <th>uri</th>\n",
       "      <th>track_href</th>\n",
       "      <th>analysis_url</th>\n",
       "      <th>duration_ms</th>\n",
       "      <th>time_signature</th>\n",
       "    </tr>\n",
       "  </thead>\n",
       "  <tbody>\n",
       "    <tr>\n",
       "      <th>0</th>\n",
       "      <td>0.550</td>\n",
       "      <td>0.145</td>\n",
       "      <td>0</td>\n",
       "      <td>-15.753</td>\n",
       "      <td>1</td>\n",
       "      <td>0.0332</td>\n",
       "      <td>0.913000</td>\n",
       "      <td>0.000000</td>\n",
       "      <td>0.1180</td>\n",
       "      <td>0.138</td>\n",
       "      <td>103.918</td>\n",
       "      <td>audio_features</td>\n",
       "      <td>3PG7BAJG9WkmNOJOlc4uAo</td>\n",
       "      <td>spotify:track:3PG7BAJG9WkmNOJOlc4uAo</td>\n",
       "      <td>https://api.spotify.com/v1/tracks/3PG7BAJG9Wkm...</td>\n",
       "      <td>https://api.spotify.com/v1/audio-analysis/3PG7...</td>\n",
       "      <td>159000</td>\n",
       "      <td>4</td>\n",
       "    </tr>\n",
       "    <tr>\n",
       "      <th>1</th>\n",
       "      <td>0.762</td>\n",
       "      <td>0.722</td>\n",
       "      <td>2</td>\n",
       "      <td>-8.712</td>\n",
       "      <td>1</td>\n",
       "      <td>0.0428</td>\n",
       "      <td>0.092200</td>\n",
       "      <td>0.000368</td>\n",
       "      <td>0.1320</td>\n",
       "      <td>0.966</td>\n",
       "      <td>122.769</td>\n",
       "      <td>audio_features</td>\n",
       "      <td>6ITuEsxEy2qPhqMowdDAeI</td>\n",
       "      <td>spotify:track:6ITuEsxEy2qPhqMowdDAeI</td>\n",
       "      <td>https://api.spotify.com/v1/tracks/6ITuEsxEy2qP...</td>\n",
       "      <td>https://api.spotify.com/v1/audio-analysis/6ITu...</td>\n",
       "      <td>194667</td>\n",
       "      <td>4</td>\n",
       "    </tr>\n",
       "    <tr>\n",
       "      <th>2</th>\n",
       "      <td>0.523</td>\n",
       "      <td>0.769</td>\n",
       "      <td>4</td>\n",
       "      <td>-5.855</td>\n",
       "      <td>1</td>\n",
       "      <td>0.0269</td>\n",
       "      <td>0.040000</td>\n",
       "      <td>0.000000</td>\n",
       "      <td>0.1360</td>\n",
       "      <td>0.876</td>\n",
       "      <td>136.162</td>\n",
       "      <td>audio_features</td>\n",
       "      <td>0WQiDwKJclirSYG9v5tayI</td>\n",
       "      <td>spotify:track:0WQiDwKJclirSYG9v5tayI</td>\n",
       "      <td>https://api.spotify.com/v1/tracks/0WQiDwKJclir...</td>\n",
       "      <td>https://api.spotify.com/v1/audio-analysis/0WQi...</td>\n",
       "      <td>244587</td>\n",
       "      <td>4</td>\n",
       "    </tr>\n",
       "    <tr>\n",
       "      <th>3</th>\n",
       "      <td>0.611</td>\n",
       "      <td>0.846</td>\n",
       "      <td>11</td>\n",
       "      <td>-5.900</td>\n",
       "      <td>1</td>\n",
       "      <td>0.0436</td>\n",
       "      <td>0.005090</td>\n",
       "      <td>0.000000</td>\n",
       "      <td>0.0784</td>\n",
       "      <td>0.751</td>\n",
       "      <td>103.912</td>\n",
       "      <td>audio_features</td>\n",
       "      <td>1FvDJ9KGxcqwv1utyPL3JZ</td>\n",
       "      <td>spotify:track:1FvDJ9KGxcqwv1utyPL3JZ</td>\n",
       "      <td>https://api.spotify.com/v1/tracks/1FvDJ9KGxcqw...</td>\n",
       "      <td>https://api.spotify.com/v1/audio-analysis/1FvD...</td>\n",
       "      <td>162920</td>\n",
       "      <td>4</td>\n",
       "    </tr>\n",
       "    <tr>\n",
       "      <th>4</th>\n",
       "      <td>0.420</td>\n",
       "      <td>0.330</td>\n",
       "      <td>9</td>\n",
       "      <td>-13.925</td>\n",
       "      <td>1</td>\n",
       "      <td>0.0275</td>\n",
       "      <td>0.245000</td>\n",
       "      <td>0.000679</td>\n",
       "      <td>0.0677</td>\n",
       "      <td>0.175</td>\n",
       "      <td>157.143</td>\n",
       "      <td>audio_features</td>\n",
       "      <td>1LzNfuep1bnAUR9skqdHCK</td>\n",
       "      <td>spotify:track:1LzNfuep1bnAUR9skqdHCK</td>\n",
       "      <td>https://api.spotify.com/v1/tracks/1LzNfuep1bnA...</td>\n",
       "      <td>https://api.spotify.com/v1/audio-analysis/1LzN...</td>\n",
       "      <td>295600</td>\n",
       "      <td>3</td>\n",
       "    </tr>\n",
       "    <tr>\n",
       "      <th>...</th>\n",
       "      <td>...</td>\n",
       "      <td>...</td>\n",
       "      <td>...</td>\n",
       "      <td>...</td>\n",
       "      <td>...</td>\n",
       "      <td>...</td>\n",
       "      <td>...</td>\n",
       "      <td>...</td>\n",
       "      <td>...</td>\n",
       "      <td>...</td>\n",
       "      <td>...</td>\n",
       "      <td>...</td>\n",
       "      <td>...</td>\n",
       "      <td>...</td>\n",
       "      <td>...</td>\n",
       "      <td>...</td>\n",
       "      <td>...</td>\n",
       "      <td>...</td>\n",
       "    </tr>\n",
       "    <tr>\n",
       "      <th>1082</th>\n",
       "      <td>0.544</td>\n",
       "      <td>0.885</td>\n",
       "      <td>7</td>\n",
       "      <td>-9.975</td>\n",
       "      <td>1</td>\n",
       "      <td>0.0732</td>\n",
       "      <td>0.038300</td>\n",
       "      <td>0.012100</td>\n",
       "      <td>0.3690</td>\n",
       "      <td>0.208</td>\n",
       "      <td>115.302</td>\n",
       "      <td>audio_features</td>\n",
       "      <td>3PoEcTE8L23vYlAbIYbtHA</td>\n",
       "      <td>spotify:track:3PoEcTE8L23vYlAbIYbtHA</td>\n",
       "      <td>https://api.spotify.com/v1/tracks/3PoEcTE8L23v...</td>\n",
       "      <td>https://api.spotify.com/v1/audio-analysis/3PoE...</td>\n",
       "      <td>289893</td>\n",
       "      <td>4</td>\n",
       "    </tr>\n",
       "    <tr>\n",
       "      <th>1083</th>\n",
       "      <td>0.689</td>\n",
       "      <td>0.826</td>\n",
       "      <td>8</td>\n",
       "      <td>-8.429</td>\n",
       "      <td>1</td>\n",
       "      <td>0.0543</td>\n",
       "      <td>0.029900</td>\n",
       "      <td>0.000171</td>\n",
       "      <td>0.0716</td>\n",
       "      <td>0.452</td>\n",
       "      <td>93.146</td>\n",
       "      <td>audio_features</td>\n",
       "      <td>7fyHrLP3XxlVjHZHtgeWVe</td>\n",
       "      <td>spotify:track:7fyHrLP3XxlVjHZHtgeWVe</td>\n",
       "      <td>https://api.spotify.com/v1/tracks/7fyHrLP3XxlV...</td>\n",
       "      <td>https://api.spotify.com/v1/audio-analysis/7fyH...</td>\n",
       "      <td>304333</td>\n",
       "      <td>4</td>\n",
       "    </tr>\n",
       "    <tr>\n",
       "      <th>1084</th>\n",
       "      <td>0.485</td>\n",
       "      <td>0.911</td>\n",
       "      <td>7</td>\n",
       "      <td>-4.833</td>\n",
       "      <td>1</td>\n",
       "      <td>0.0429</td>\n",
       "      <td>0.031500</td>\n",
       "      <td>0.000158</td>\n",
       "      <td>0.3230</td>\n",
       "      <td>0.724</td>\n",
       "      <td>113.075</td>\n",
       "      <td>audio_features</td>\n",
       "      <td>0x8GQiIDqb7jbkrZjHoGF7</td>\n",
       "      <td>spotify:track:0x8GQiIDqb7jbkrZjHoGF7</td>\n",
       "      <td>https://api.spotify.com/v1/tracks/0x8GQiIDqb7j...</td>\n",
       "      <td>https://api.spotify.com/v1/audio-analysis/0x8G...</td>\n",
       "      <td>181787</td>\n",
       "      <td>4</td>\n",
       "    </tr>\n",
       "    <tr>\n",
       "      <th>1085</th>\n",
       "      <td>0.449</td>\n",
       "      <td>0.936</td>\n",
       "      <td>2</td>\n",
       "      <td>-5.554</td>\n",
       "      <td>1</td>\n",
       "      <td>0.1850</td>\n",
       "      <td>0.043800</td>\n",
       "      <td>0.000005</td>\n",
       "      <td>0.2460</td>\n",
       "      <td>0.458</td>\n",
       "      <td>189.771</td>\n",
       "      <td>audio_features</td>\n",
       "      <td>4uNr9f4s35mXouHntXwVl6</td>\n",
       "      <td>spotify:track:4uNr9f4s35mXouHntXwVl6</td>\n",
       "      <td>https://api.spotify.com/v1/tracks/4uNr9f4s35mX...</td>\n",
       "      <td>https://api.spotify.com/v1/audio-analysis/4uNr...</td>\n",
       "      <td>264307</td>\n",
       "      <td>4</td>\n",
       "    </tr>\n",
       "    <tr>\n",
       "      <th>1086</th>\n",
       "      <td>0.526</td>\n",
       "      <td>0.965</td>\n",
       "      <td>11</td>\n",
       "      <td>-5.697</td>\n",
       "      <td>1</td>\n",
       "      <td>0.0698</td>\n",
       "      <td>0.000657</td>\n",
       "      <td>0.514000</td>\n",
       "      <td>0.2790</td>\n",
       "      <td>0.392</td>\n",
       "      <td>126.006</td>\n",
       "      <td>audio_features</td>\n",
       "      <td>2fJHXL82X3wtyXMzcSifdj</td>\n",
       "      <td>spotify:track:2fJHXL82X3wtyXMzcSifdj</td>\n",
       "      <td>https://api.spotify.com/v1/tracks/2fJHXL82X3wt...</td>\n",
       "      <td>https://api.spotify.com/v1/audio-analysis/2fJH...</td>\n",
       "      <td>319067</td>\n",
       "      <td>4</td>\n",
       "    </tr>\n",
       "  </tbody>\n",
       "</table>\n",
       "<p>1087 rows × 18 columns</p>\n",
       "</div>"
      ],
      "text/plain": [
       "      danceability  energy  key  loudness  mode  speechiness  acousticness  \\\n",
       "0            0.550   0.145    0   -15.753     1       0.0332      0.913000   \n",
       "1            0.762   0.722    2    -8.712     1       0.0428      0.092200   \n",
       "2            0.523   0.769    4    -5.855     1       0.0269      0.040000   \n",
       "3            0.611   0.846   11    -5.900     1       0.0436      0.005090   \n",
       "4            0.420   0.330    9   -13.925     1       0.0275      0.245000   \n",
       "...            ...     ...  ...       ...   ...          ...           ...   \n",
       "1082         0.544   0.885    7    -9.975     1       0.0732      0.038300   \n",
       "1083         0.689   0.826    8    -8.429     1       0.0543      0.029900   \n",
       "1084         0.485   0.911    7    -4.833     1       0.0429      0.031500   \n",
       "1085         0.449   0.936    2    -5.554     1       0.1850      0.043800   \n",
       "1086         0.526   0.965   11    -5.697     1       0.0698      0.000657   \n",
       "\n",
       "      instrumentalness  liveness  valence    tempo            type  \\\n",
       "0             0.000000    0.1180    0.138  103.918  audio_features   \n",
       "1             0.000368    0.1320    0.966  122.769  audio_features   \n",
       "2             0.000000    0.1360    0.876  136.162  audio_features   \n",
       "3             0.000000    0.0784    0.751  103.912  audio_features   \n",
       "4             0.000679    0.0677    0.175  157.143  audio_features   \n",
       "...                ...       ...      ...      ...             ...   \n",
       "1082          0.012100    0.3690    0.208  115.302  audio_features   \n",
       "1083          0.000171    0.0716    0.452   93.146  audio_features   \n",
       "1084          0.000158    0.3230    0.724  113.075  audio_features   \n",
       "1085          0.000005    0.2460    0.458  189.771  audio_features   \n",
       "1086          0.514000    0.2790    0.392  126.006  audio_features   \n",
       "\n",
       "                          id                                   uri  \\\n",
       "0     3PG7BAJG9WkmNOJOlc4uAo  spotify:track:3PG7BAJG9WkmNOJOlc4uAo   \n",
       "1     6ITuEsxEy2qPhqMowdDAeI  spotify:track:6ITuEsxEy2qPhqMowdDAeI   \n",
       "2     0WQiDwKJclirSYG9v5tayI  spotify:track:0WQiDwKJclirSYG9v5tayI   \n",
       "3     1FvDJ9KGxcqwv1utyPL3JZ  spotify:track:1FvDJ9KGxcqwv1utyPL3JZ   \n",
       "4     1LzNfuep1bnAUR9skqdHCK  spotify:track:1LzNfuep1bnAUR9skqdHCK   \n",
       "...                      ...                                   ...   \n",
       "1082  3PoEcTE8L23vYlAbIYbtHA  spotify:track:3PoEcTE8L23vYlAbIYbtHA   \n",
       "1083  7fyHrLP3XxlVjHZHtgeWVe  spotify:track:7fyHrLP3XxlVjHZHtgeWVe   \n",
       "1084  0x8GQiIDqb7jbkrZjHoGF7  spotify:track:0x8GQiIDqb7jbkrZjHoGF7   \n",
       "1085  4uNr9f4s35mXouHntXwVl6  spotify:track:4uNr9f4s35mXouHntXwVl6   \n",
       "1086  2fJHXL82X3wtyXMzcSifdj  spotify:track:2fJHXL82X3wtyXMzcSifdj   \n",
       "\n",
       "                                             track_href  \\\n",
       "0     https://api.spotify.com/v1/tracks/3PG7BAJG9Wkm...   \n",
       "1     https://api.spotify.com/v1/tracks/6ITuEsxEy2qP...   \n",
       "2     https://api.spotify.com/v1/tracks/0WQiDwKJclir...   \n",
       "3     https://api.spotify.com/v1/tracks/1FvDJ9KGxcqw...   \n",
       "4     https://api.spotify.com/v1/tracks/1LzNfuep1bnA...   \n",
       "...                                                 ...   \n",
       "1082  https://api.spotify.com/v1/tracks/3PoEcTE8L23v...   \n",
       "1083  https://api.spotify.com/v1/tracks/7fyHrLP3XxlV...   \n",
       "1084  https://api.spotify.com/v1/tracks/0x8GQiIDqb7j...   \n",
       "1085  https://api.spotify.com/v1/tracks/4uNr9f4s35mX...   \n",
       "1086  https://api.spotify.com/v1/tracks/2fJHXL82X3wt...   \n",
       "\n",
       "                                           analysis_url  duration_ms  \\\n",
       "0     https://api.spotify.com/v1/audio-analysis/3PG7...       159000   \n",
       "1     https://api.spotify.com/v1/audio-analysis/6ITu...       194667   \n",
       "2     https://api.spotify.com/v1/audio-analysis/0WQi...       244587   \n",
       "3     https://api.spotify.com/v1/audio-analysis/1FvD...       162920   \n",
       "4     https://api.spotify.com/v1/audio-analysis/1LzN...       295600   \n",
       "...                                                 ...          ...   \n",
       "1082  https://api.spotify.com/v1/audio-analysis/3PoE...       289893   \n",
       "1083  https://api.spotify.com/v1/audio-analysis/7fyH...       304333   \n",
       "1084  https://api.spotify.com/v1/audio-analysis/0x8G...       181787   \n",
       "1085  https://api.spotify.com/v1/audio-analysis/4uNr...       264307   \n",
       "1086  https://api.spotify.com/v1/audio-analysis/2fJH...       319067   \n",
       "\n",
       "      time_signature  \n",
       "0                  4  \n",
       "1                  4  \n",
       "2                  4  \n",
       "3                  4  \n",
       "4                  3  \n",
       "...              ...  \n",
       "1082               4  \n",
       "1083               4  \n",
       "1084               4  \n",
       "1085               4  \n",
       "1086               4  \n",
       "\n",
       "[1087 rows x 18 columns]"
      ]
     },
     "execution_count": 18,
     "metadata": {},
     "output_type": "execute_result"
    }
   ],
   "source": [
    "track_df"
   ]
  },
  {
   "cell_type": "code",
   "execution_count": 19,
   "id": "82554cea",
   "metadata": {},
   "outputs": [],
   "source": [
    "track_df.to_csv('Resources/new_features.csv')"
   ]
  },
  {
   "cell_type": "code",
   "execution_count": null,
   "id": "37c215ae",
   "metadata": {},
   "outputs": [],
   "source": []
  }
 ],
 "metadata": {
  "kernelspec": {
   "display_name": "PythonData",
   "language": "python",
   "name": "pythondata"
  },
  "language_info": {
   "codemirror_mode": {
    "name": "ipython",
    "version": 3
   },
   "file_extension": ".py",
   "mimetype": "text/x-python",
   "name": "python",
   "nbconvert_exporter": "python",
   "pygments_lexer": "ipython3",
   "version": "3.7.11"
  }
 },
 "nbformat": 4,
 "nbformat_minor": 5
}
