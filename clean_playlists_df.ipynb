{
 "cells": [
  {
   "cell_type": "code",
   "execution_count": 9,
   "id": "fc746c3d",
   "metadata": {},
   "outputs": [],
   "source": [
    "import warnings\n",
    "warnings.filterwarnings('ignore')\n",
    "import numpy as np\n",
    "import pandas as pd\n",
    "from pathlib import Path\n",
    "from collections import Counter\n",
    "import matplotlib.pyplot as plt\n",
    "from sklearn.linear_model import LinearRegression"
   ]
  },
  {
   "cell_type": "code",
   "execution_count": 10,
   "id": "8dfe1516",
   "metadata": {},
   "outputs": [],
   "source": [
    "playlist_df = pd.read_csv(f'Resources/all_100_playlists_songs_cleaned.csv')\n"
   ]
  },
  {
   "cell_type": "code",
   "execution_count": 11,
   "id": "bf57cd83",
   "metadata": {},
   "outputs": [],
   "source": [
    "playlist_df.columns = playlist_df.columns.str.replace(' ','_')"
   ]
  },
  {
   "cell_type": "code",
   "execution_count": 12,
   "id": "f30a8f8a",
   "metadata": {},
   "outputs": [
    {
     "data": {
      "text/html": [
       "<div>\n",
       "<style scoped>\n",
       "    .dataframe tbody tr th:only-of-type {\n",
       "        vertical-align: middle;\n",
       "    }\n",
       "\n",
       "    .dataframe tbody tr th {\n",
       "        vertical-align: top;\n",
       "    }\n",
       "\n",
       "    .dataframe thead th {\n",
       "        text-align: right;\n",
       "    }\n",
       "</style>\n",
       "<table border=\"1\" class=\"dataframe\">\n",
       "  <thead>\n",
       "    <tr style=\"text-align: right;\">\n",
       "      <th></th>\n",
       "      <th>Playlist</th>\n",
       "      <th>Followers</th>\n",
       "      <th>Songs</th>\n",
       "      <th>Genre_1</th>\n",
       "      <th>Genre_2</th>\n",
       "      <th>URI</th>\n",
       "      <th>Song_URI</th>\n",
       "      <th>Popularity</th>\n",
       "      <th>Artist_Name</th>\n",
       "      <th>Song_Name</th>\n",
       "    </tr>\n",
       "  </thead>\n",
       "  <tbody>\n",
       "    <tr>\n",
       "      <th>0</th>\n",
       "      <td>It's A Hit!</td>\n",
       "      <td>2,283,522</td>\n",
       "      <td>50</td>\n",
       "      <td>Pop</td>\n",
       "      <td>Alternative</td>\n",
       "      <td>spotify:playlist:37i9dQZF1DWT1y71ZcMPe5</td>\n",
       "      <td>spotify:track:0skYUMpS0AcbpjcGsAbRGj</td>\n",
       "      <td>88</td>\n",
       "      <td>BLACKPINK</td>\n",
       "      <td>Pink Venom</td>\n",
       "    </tr>\n",
       "    <tr>\n",
       "      <th>1</th>\n",
       "      <td>It's A Hit!</td>\n",
       "      <td>2,283,522</td>\n",
       "      <td>50</td>\n",
       "      <td>Pop</td>\n",
       "      <td>Alternative</td>\n",
       "      <td>spotify:playlist:37i9dQZF1DWT1y71ZcMPe5</td>\n",
       "      <td>spotify:track:7up4SX2l8FAnisrUXoGupd</td>\n",
       "      <td>70</td>\n",
       "      <td>Lukas Graham</td>\n",
       "      <td>Wish You Were Here (feat. Khalid)</td>\n",
       "    </tr>\n",
       "    <tr>\n",
       "      <th>2</th>\n",
       "      <td>It's A Hit!</td>\n",
       "      <td>2,283,522</td>\n",
       "      <td>50</td>\n",
       "      <td>Pop</td>\n",
       "      <td>Alternative</td>\n",
       "      <td>spotify:playlist:37i9dQZF1DWT1y71ZcMPe5</td>\n",
       "      <td>spotify:track:4C6Uex2ILwJi9sZXRdmqXp</td>\n",
       "      <td>89</td>\n",
       "      <td>Nicki Minaj</td>\n",
       "      <td>Super Freaky Girl</td>\n",
       "    </tr>\n",
       "    <tr>\n",
       "      <th>3</th>\n",
       "      <td>It's A Hit!</td>\n",
       "      <td>2,283,522</td>\n",
       "      <td>50</td>\n",
       "      <td>Pop</td>\n",
       "      <td>Alternative</td>\n",
       "      <td>spotify:playlist:37i9dQZF1DWT1y71ZcMPe5</td>\n",
       "      <td>spotify:track:0xzI1KAr0Yd9tv8jlIk3sn</td>\n",
       "      <td>90</td>\n",
       "      <td>benny blanco</td>\n",
       "      <td>Bad Decisions (with BTS &amp; Snoop Dogg)</td>\n",
       "    </tr>\n",
       "    <tr>\n",
       "      <th>4</th>\n",
       "      <td>It's A Hit!</td>\n",
       "      <td>2,283,522</td>\n",
       "      <td>50</td>\n",
       "      <td>Pop</td>\n",
       "      <td>Alternative</td>\n",
       "      <td>spotify:playlist:37i9dQZF1DWT1y71ZcMPe5</td>\n",
       "      <td>spotify:track:5rbuv6zso7QSaKt265H3M3</td>\n",
       "      <td>76</td>\n",
       "      <td>NIKI</td>\n",
       "      <td>High School in Jakarta</td>\n",
       "    </tr>\n",
       "  </tbody>\n",
       "</table>\n",
       "</div>"
      ],
      "text/plain": [
       "      Playlist  Followers  Songs Genre_1      Genre_2  \\\n",
       "0  It's A Hit!  2,283,522     50     Pop  Alternative   \n",
       "1  It's A Hit!  2,283,522     50     Pop  Alternative   \n",
       "2  It's A Hit!  2,283,522     50     Pop  Alternative   \n",
       "3  It's A Hit!  2,283,522     50     Pop  Alternative   \n",
       "4  It's A Hit!  2,283,522     50     Pop  Alternative   \n",
       "\n",
       "                                       URI  \\\n",
       "0  spotify:playlist:37i9dQZF1DWT1y71ZcMPe5   \n",
       "1  spotify:playlist:37i9dQZF1DWT1y71ZcMPe5   \n",
       "2  spotify:playlist:37i9dQZF1DWT1y71ZcMPe5   \n",
       "3  spotify:playlist:37i9dQZF1DWT1y71ZcMPe5   \n",
       "4  spotify:playlist:37i9dQZF1DWT1y71ZcMPe5   \n",
       "\n",
       "                               Song_URI  Popularity   Artist_Name  \\\n",
       "0  spotify:track:0skYUMpS0AcbpjcGsAbRGj          88     BLACKPINK   \n",
       "1  spotify:track:7up4SX2l8FAnisrUXoGupd          70  Lukas Graham   \n",
       "2  spotify:track:4C6Uex2ILwJi9sZXRdmqXp          89   Nicki Minaj   \n",
       "3  spotify:track:0xzI1KAr0Yd9tv8jlIk3sn          90  benny blanco   \n",
       "4  spotify:track:5rbuv6zso7QSaKt265H3M3          76          NIKI   \n",
       "\n",
       "                               Song_Name  \n",
       "0                             Pink Venom  \n",
       "1      Wish You Were Here (feat. Khalid)  \n",
       "2                      Super Freaky Girl  \n",
       "3  Bad Decisions (with BTS & Snoop Dogg)  \n",
       "4                 High School in Jakarta  "
      ]
     },
     "execution_count": 12,
     "metadata": {},
     "output_type": "execute_result"
    }
   ],
   "source": [
    "playlist_df.head()"
   ]
  },
  {
   "cell_type": "code",
   "execution_count": 13,
   "id": "41929439",
   "metadata": {},
   "outputs": [],
   "source": [
    "playlist_df.to_csv('Resources/cleaned_final_playlists_df.csv')"
   ]
  },
  {
   "cell_type": "code",
   "execution_count": null,
   "id": "94d8e8dd",
   "metadata": {},
   "outputs": [],
   "source": []
  }
 ],
 "metadata": {
  "kernelspec": {
   "display_name": "PythonData",
   "language": "python",
   "name": "pythondata"
  },
  "language_info": {
   "codemirror_mode": {
    "name": "ipython",
    "version": 3
   },
   "file_extension": ".py",
   "mimetype": "text/x-python",
   "name": "python",
   "nbconvert_exporter": "python",
   "pygments_lexer": "ipython3",
   "version": "3.9.7"
  }
 },
 "nbformat": 4,
 "nbformat_minor": 5
}
